{
  "nbformat": 4,
  "nbformat_minor": 0,
  "metadata": {
    "colab": {
      "provenance": []
    },
    "kernelspec": {
      "name": "python3",
      "display_name": "Python 3"
    },
    "language_info": {
      "name": "python"
    }
  },
  "cells": [
    {
      "cell_type": "code",
      "execution_count": 9,
      "metadata": {
        "id": "SoFKZ0mTCJaL"
      },
      "outputs": [],
      "source": [
        "from sklearn.datasets import make_classification\n",
        "from sklearn.model_selection import train_test_split\n",
        "from sklearn.metrics import accuracy_score\n",
        "import pandas as pd\n",
        "import numpy as np\n",
        "import xgboost as xgb  # Importa xgboost para utilizar o classificador XGBClassifier\n",
        "\n",
        "# Generate fake classification data\n",
        "n_samples = 1000  # Number of samples\n",
        "n_features = 10  # Number of features\n",
        "n_classes = 4    # Number of classes\n",
        "\n",
        "X, y = make_classification(\n",
        "    n_samples=n_samples,\n",
        "    n_features=n_features,\n",
        "    n_informative=n_features,\n",
        "    n_redundant=0,\n",
        "    n_classes=n_classes,\n",
        "    random_state=42\n",
        ")"
      ]
    },
    {
      "cell_type": "code",
      "source": [
        "from sklearn.model_selection import train_test_split\n",
        "X_train, X_test, y_train_true, y_test_true = train_test_split(X, y, test_size=0.2, random_state=42)"
      ],
      "metadata": {
        "id": "xqegRSb3IqrU"
      },
      "execution_count": 10,
      "outputs": []
    },
    {
      "cell_type": "code",
      "source": [
        "X_label,y_label = X_train[:400],y_train_true[:400]\n",
        "X_unlabelled = X_train[400:]"
      ],
      "metadata": {
        "id": "lnzp0aIKIsZT"
      },
      "execution_count": 11,
      "outputs": []
    },
    {
      "cell_type": "code",
      "source": [
        "import pandas as pd\n",
        "import numpy as np\n",
        "\n",
        "#sklearn.datasets generate np.arrays. Converting to pandas\n",
        "X_label = pd.DataFrame(X_label)\n",
        "y_label = pd.Series(y_label)\n",
        "X_unlabelled = pd.DataFrame(X_unlabelled)\n",
        "\n",
        "# Self Learning Algorithm\n",
        "while True:\n",
        "    model = xgb.XGBClassifier(\n",
        "        objective='multi:softmax',\n",
        "        num_class=n_classes,\n",
        "        random_state=42)\n",
        "\n",
        "    # Train the model\n",
        "    model.fit(X_label, y_label)\n",
        "\n",
        "    # Get probability predictions on unlabeled data\n",
        "    X_unlabelled.reset_index(drop=True, inplace=True)\n",
        "    y_pred = model.predict_proba(X_unlabelled)\n",
        "\n",
        "    # get samples where probability >0.9 for atleast one class\n",
        "    index = [ index for index,x in enumerate(np.max(y_pred,axis=1)) if x > 0.90]\n",
        "    if len(index)==0:\n",
        "        break\n",
        "\n",
        "    temp = X_unlabelled.iloc[index]\n",
        "\n",
        "    # drop high probability samples from unlabeled data and append to labeled data\n",
        "    X_unlabelled.drop(index,inplace=True)\n",
        "\n",
        "    pred = pd.Series(model.predict(temp))\n",
        "\n",
        "    # Concatenate new labeled data to existing labeled data\n",
        "    X_label = pd.concat([X_label, temp], ignore_index=True)\n",
        "    y_label = pd.concat([y_label, pred], ignore_index=True)\n"
      ],
      "metadata": {
        "id": "u-Dxkaj7IutR"
      },
      "execution_count": 13,
      "outputs": []
    },
    {
      "cell_type": "code",
      "source": [
        "model = xgb.XGBClassifier(\n",
        "    objective='multi:softmax',\n",
        "    num_class=n_classes,\n",
        "    random_state=42\n",
        ")\n",
        "\n",
        "# Train the model\n",
        "model.fit(X_label, y_label)\n",
        "\n",
        "# Make predictions on the test set\n",
        "y_pred = model.predict(X_test)\n",
        "\n",
        "# Calculate accuracy\n",
        "accuracy = accuracy_score(y_test_true, y_pred)\n",
        "print(\"Accuracy:\", accuracy)"
      ],
      "metadata": {
        "colab": {
          "base_uri": "https://localhost:8080/"
        },
        "id": "PJNq1L1jIvXo",
        "outputId": "655561f0-b106-47fe-c931-e51cb62d5326"
      },
      "execution_count": 14,
      "outputs": [
        {
          "output_type": "stream",
          "name": "stdout",
          "text": [
            "Accuracy: 0.725\n"
          ]
        }
      ]
    }
  ]
}