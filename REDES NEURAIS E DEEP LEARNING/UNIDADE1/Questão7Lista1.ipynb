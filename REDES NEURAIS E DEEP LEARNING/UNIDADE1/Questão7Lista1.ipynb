{
  "nbformat": 4,
  "nbformat_minor": 0,
  "metadata": {
    "colab": {
      "provenance": []
    },
    "kernelspec": {
      "name": "python3",
      "display_name": "Python 3"
    },
    "language_info": {
      "name": "python"
    }
  },
  "cells": [
    {
      "cell_type": "markdown",
      "metadata": {
        "id": "sPdI3uFzorKl"
      },
      "source": [
        "# 7.\n",
        "\n",
        "As funções de saída das redes neurais dependem do modelo que se busca gerar com a rede. Faça uma análise sobre a escolhas destas funções considerando os seguintes problemas:\n",
        "\n",
        "**i.**   Classificação de padrões com duas classes</br>\n",
        "**ii.**   Classificação de padrões com múltiplas classes</br>\n",
        "**iii.**   Problema de regressão (aproximação de funções)\n"
      ]
    },
    {
      "cell_type": "markdown",
      "metadata": {
        "id": "1qwEhrBLpICV"
      },
      "source": [
        "**i. Classificação de padrões com duas classes:** </br>\n",
        "Nesse caso, a função de saída mais comum é a **função sigmóide**, que retorna uma probabilidade no intervalo [0, 1].\n",
        "\n",
        "Para *perceptrons* de uma camada, onde o problema é linearmente separável, também é comum o uso da **função degrau Heaviside** na camada de saída, que define um limiar para converter as probabilidades em rótulos discretos. *Heaviside* não é útil para redes de múltiplas camadas, já que não é diferenciavel em $x = 0$ e para qualquer outro $x$ a derivada é 0, o que indica que algoritmos de *backpropagation* não terão efeito para atualização dos parâmetros internos[$^{[4]}$](https://stackoverflow.com/questions/34469595/step-function-versus-sigmoid-function).\n",
        "\n",
        "A fórmula e curva da função sigmóide pode ser observada na imagem:\n",
        "\n",
        "<div align=\"center\">\n",
        "<img src=\"https://miro.medium.com/v2/resize:fit:970/1*Xu7B5y9gp0iL5ooBj7LtWw.png\" width=\"350\" height=\"250\">\n",
        "</div>\n",
        "\n",
        "A fórmula e curva da função *Heaviside* pode ser observada na imagem:\n",
        "\n",
        "<div align=\"center\">\n",
        "<img src=\"https://upload.wikimedia.org/wikipedia/commons/thumb/d/d9/Dirac_distribution_CDF.svg/325px-Dirac_distribution_CDF.svg.png\" width=\"350\" height=\"250\">\n",
        "</div>\n",
        "<div align=\"center\">\n",
        "<img src=\"https://wikimedia.org/api/rest_v1/media/math/render/svg/34eea55600c50152fe8c6b1095cd94327bea6160\">\n",
        "</div>\n",
        "\n",
        "&nbsp;\n",
        "\n",
        "**ii. Classificação de padrões com múltiplas classes:** </br>\n",
        "A função **Softmax** é uma das mais comumente utilizadas para classificação com múltiplas classes, pois converte as saídas da rede em uma distribuição de probabilidade para cada cada uma delas. A classe com a probabilidade mais alta é considerada a predição da rede.\n",
        "\n",
        "A fórmula da função *Softmax* pode ser observada na imagem:\n",
        "\n",
        "<div align=\"center\">\n",
        "<img src=\"https://miro.medium.com/v2/resize:fit:720/format:webp/1*KvygqiInUpBzpknb-KVKJw.jpeg\">\n",
        "</div>\n",
        "\n",
        "&nbsp;\n",
        "\n",
        "**iii. Problema de regressão (aproximação de funções):** </br>\n",
        "Para problemas de regressão, as funções de saída mais comuns são a **função identidade** e a **softplus**. que retornam um valor real como a saída da rede. A rede é treinada para produzir um valor de saída que seja o mais próximo possível do valor de saída desejado.\n",
        "\n",
        "A fórmula e curva da função identidade ($f(x) = x$) e *softplus* ($f(x) = log(1 + e^{x})$) podem ser observadas nas imagens:\n",
        "\n",
        "<div align=\"center\">\n",
        "<img src=\"https://www.infoescola.com/wp-content/uploads/2018/05/img_5b02f6d64559f.png\" width=\"350\" height=\"250\">\n",
        "</div>\n",
        "\n",
        "<div align=\"center\">\n",
        "<img src=\"https://i0.wp.com/sefiks.com/wp-content/uploads/2017/08/activation-softplus.png?resize=400%2C400&ssl=1\">\n",
        "</div>\n",
        "\n"
      ]
    }
  ]
}