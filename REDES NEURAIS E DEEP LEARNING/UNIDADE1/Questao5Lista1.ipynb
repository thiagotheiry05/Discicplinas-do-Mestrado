{
  "nbformat": 4,
  "nbformat_minor": 0,
  "metadata": {
    "colab": {
      "provenance": []
    },
    "kernelspec": {
      "name": "python3",
      "display_name": "Python 3"
    },
    "language_info": {
      "name": "python"
    }
  },
  "cells": [
    {
      "cell_type": "markdown",
      "metadata": {
        "id": "mfMIuASbdjxj"
      },
      "source": [
        "# 5.\n",
        "\n",
        "Apresente um estudo dos seguintes algoritmos de otimização:\n",
        "\n",
        "- **Gradiente Estocástico (SGD)**\n",
        "- **AdaGrad**\n",
        "- **RMSProp**\n",
        "- **Adam**\n",
        "\n",
        "Estes métodos ou otimizadores são utilizados no processo de aprendizagem de redes neurais/deep learning."
      ]
    },
    {
      "cell_type": "markdown",
      "metadata": {
        "id": "pT9z_L6HfCy7"
      },
      "source": [
        "*   **Gradiente Estocástico (SGD)**\n",
        "\n",
        "Este é um dos algoritmos de otimização mais simples e populares. Ele atualiza os pesos da rede em cada passo de treinamento usando o gradiente da função de erro calculada em **uma única amostra aleatória** dos dados de treinamento ou **um conjunto aleatório de amostras** (mini-batch). Ele usa uma taxa de aprendizagem (*learning rate*) para controlar o tamanho do passo de atualização dos pesos. O SGD é rápido e fácil de implementar, mas pode sofrer de instabilidade em algumas configurações.\n",
        "\n",
        "<div align=\"center\">\n",
        "<img src=\"https://miro.medium.com/v2/resize:fit:908/1*bKSddSmLDaYszWllvQ3Z6A.png\" width=\"550\" height=\"250\">\n",
        "</div>\n",
        "\n",
        "<div align=\"center\">\n",
        "<img src=\"https://miro.medium.com/max/1400/1*tQTcGTLZqnI5rp3JYO_4NA.png\" width=\"550\" height=\"250\">\n",
        "</div>\n",
        "\n",
        "\n",
        "&nbsp;\n",
        "\n",
        "*   **AdaGrad**\n",
        "\n",
        "AdaGrad, ou *Adaptive Gradient*, ajusta a taxa de aprendizado de cada peso individualmente, dependendo de sua história de atualizações anteriores. Isso significa que **pesos que foram atualizados frequentemente no passado terão uma taxa de aprendizado menor, enquanto pesos que foram atualizados com menos frequência terão uma taxa de aprendizado maior**. A atualização dos parâmetros $Θ$ em cada etapa $t$ é dada por[$^{[3]}$](https://medium.com/konvergen/an-introduction-to-adagrad-f130ae871827):\n",
        "\n",
        "<div align=\"center\">\n",
        "<img src=\"https://miro.medium.com/v2/resize:fit:1400/format:webp/1*RLCYjNDv9FhoshKA1S_P3A.png\">\n",
        "</div>\n",
        "<div align=\"center\">\n",
        "<img src=\"https://miro.medium.com/v2/resize:fit:720/format:webp/1*4M7mKsU1zDZzEAXGgIPoIQ.png\">\n",
        "</div>\n",
        "Simplificando:\n",
        "<div align=\"center\">\n",
        "<img src=\"https://miro.medium.com/v2/resize:fit:720/format:webp/1*fvFYO73z8lKKeliFPj4KlA.png\">\n",
        "</div>\n",
        "\n",
        "Sendo 𝜼 é a taxa de aprendizado, $g(t)$ é o gradiente da função de perda no tempo $t$, $G(t)$ é uma matriz diagonal contendo a soma dos quadrados dos gradientes anteriores para cada peso até o tempo $t$ e 𝜺 é um valor pequeno adicionado para evitar divisão por zero.\n",
        "\n",
        "&nbsp;\n",
        "\n",
        "*   **RMSProp**\n",
        "\n",
        "RMSprop, ou *Root Mean Square propagation*, também ajusta a taxa de aprendizado para cada peso individualmente, mas **usa uma média móvel dos gradientes quadrados anteriores para controlar a taxa de aprendizado**, previnindo que a taxa se torne muito pequena e o tempo de convergência muito alto. Isso ajuda a ajustar a taxa de aprendizado de forma adaptativa para cada peso, com base na frequência e na magnitude das atualizações anteriores. A atualização do parâmetro $w$ em cada etapa $t$ é dada por[$^{[4]}$](https://towardsdatascience.com/understanding-rmsprop-faster-neural-network-learning-62e116fcf29a):\n",
        "\n",
        "<div align=\"center\">\n",
        "<img src=\"https://miro.medium.com/v2/resize:fit:720/format:webp/1*R5q73YgObhvSPws9RpNmPA.png\" width=\"550\" height=\"250\">\n",
        "</div>\n",
        "\n",
        "Sendo:\n",
        "</br>\n",
        "$E[g^{2}]$ é a média móvel dos gradientes ao quadrado.</br>\n",
        "$\\frac{∂C}{∂w}$ é o gradiente da função de custo em relação ao peso.</br>\n",
        "𝝶 é a taxa de aprendizado.</br>\n",
        "**β** é o parâmetro da média móvel (bom valor padrão - 0,9).\n",
        "\n",
        "Esta é uma opção mais estável que o SGD e pode ser útil para conjuntos de dados com alta variância ou ruído.\n",
        "\n",
        "&nbsp;\n",
        "\n",
        "*   **Adam**\n",
        "\n",
        "O Adam (*Adaptive Moment Estimation*) é uma extensão do **RMSProp**, que calcula as **médias móveis exponenciais dos gradientes de primeiro e segundo momentos**. Isso ajuda a acelerar o processo de treinamento de uma rede neural, ajustando a taxa de aprendizado adaptativamente para cada peso.\n",
        "\n",
        "A atualização do Adam para os pesos $w$ em cada etapa $t$ é dada por:\n",
        "\n",
        "<div align=\"center\">\n",
        "<img src=\"https://ambrapaliaidata.blob.core.windows.net/ai-storage/articles/image_yQDDcFh.png\" width=\"550\" height=\"250\">\n",
        "</div>\n",
        "\n",
        "Onde:</br>\n",
        "$w_{t+1}$ é o valor atualizado do peso W na etapa t+1.</br>\n",
        "$w_{t}$ é o valor atual do peso W na etapa t.</br>\n",
        "𝝶 é a taxa de aprendizado.</br>\n",
        "$m_{t}$ é a média móvel exponencial dos gradientes de primeiro momento na etapa t.</br>\n",
        "$v_{t}$ é a média móvel exponencial dos gradientes de segundo momento na etapa t.</br>\n",
        "𝜺 é um valor pequeno adicionado para evitar a divisão por zero.</br>\n",
        "$β_{1}$ - parâmetro da média móvel do primeiro momento (bom valor padrão - 0,9).</br>\n",
        "$β_{2}$ - parâmetro da média móvel do segundo momento (bom valor padrão - 0,999).\n",
        "\n",
        "O Adam também usa a técnica de bias-correction ($\\hat{m}_{t}$, $\\hat{v}_{t}$), que corrige o viés das médias móveis exponenciais durante as primeiras etapas de treinamento."
      ]
    }
  ]
}