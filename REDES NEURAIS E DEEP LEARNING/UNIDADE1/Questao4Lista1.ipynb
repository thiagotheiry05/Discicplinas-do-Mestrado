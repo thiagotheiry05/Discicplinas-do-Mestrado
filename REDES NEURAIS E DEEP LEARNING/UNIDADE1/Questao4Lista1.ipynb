{
  "nbformat": 4,
  "nbformat_minor": 0,
  "metadata": {
    "colab": {
      "provenance": []
    },
    "kernelspec": {
      "name": "python3",
      "display_name": "Python 3"
    },
    "language_info": {
      "name": "python"
    }
  },
  "cells": [
    {
      "cell_type": "markdown",
      "source": [
        "# 4\n",
        "\n",
        "Dada a função:\n",
        "\n",
        "$E(w1, w2, w3) = w_1^2 - w_2^2 + 2*w_3^2 - 0.1*w_1*w_2 + 0.5*w_1*w_3 + 0.08*w_2*w_3 - 0.2*w_1 + 0.3*w_2 - 0.7*w_3 + 0.4\n",
        "$\n"
      ],
      "metadata": {
        "id": "E8mAU3UMQqZK"
      }
    },
    {
      "cell_type": "markdown",
      "source": [
        "a) represente a mesma na forma matricial, $E(w) = w^T A w + b^T w + a$ onde $x=[x_1, x_2,x_3]^t$, onde $A ∈ R^{(3x3)}$, $b ∈ R^3$ a ∈ $R$\n",
        "\n",
        "\n"
      ],
      "metadata": {
        "id": "fowNX-0CR1oX"
      }
    },
    {
      "cell_type": "markdown",
      "source": [
        "\n",
        "\n",
        "$\n",
        "E(w) = \\begin{bmatrix} w_1 & w_2 & w_3 \\end{bmatrix} \\begin{bmatrix} 1 & -0.05 & 0.25 \\\\ -0.05 & -1 & 0.04 \\\\ 0.25 & 0.04 & 2 \\end{bmatrix} \\begin{bmatrix} w_1 \\\\ w_2 \\\\ w_3 \\end{bmatrix} + \\begin{bmatrix} -0.2 & 0.3 & -0.7 \\end{bmatrix} \\begin{bmatrix} w_1 \\\\ w_2 \\\\ w_3 \\end{bmatrix} + 0.4 $\n",
        "\n",
        "Agora, vamos reorganizar os termos para ficar na forma matricial desejada:\n",
        "\n",
        "$E(w) = w^t A w + b^t w + a$\n",
        "\n",
        "Onde:\n",
        "- $ w = [w_1, w_2, w_3]^t $\n",
        "- \\( A \\) é uma matriz 3x3\n",
        "- \\( b \\) é um vetor coluna 3x1\n",
        "- \\( a \\) é um escalar\n",
        "\n",
        "Vamos identificar cada termo da função dada:\n",
        "\n",
        "$\n",
        "E(w) = \\begin{bmatrix} w_1 & w_2 & w_3 \\end{bmatrix} \\begin{bmatrix} 1 & -0.05 & 0.25 \\\\ -0.05 & -1 & 0.04 \\\\ 0.25 & 0.04 & 2 \\end{bmatrix} \\begin{bmatrix} w_1 \\\\ w_2 \\\\ w_3 \\end{bmatrix} + \\begin{bmatrix} -0.2 & 0.3 & -0.7 \\end{bmatrix} \\begin{bmatrix} w_1 \\\\ w_2 \\\\ w_3 \\end{bmatrix} + 0.4\n",
        "$\n",
        "\n",
        "Aqui, \\( A \\) é a matriz de coeficientes quadráticos, \\( b \\) é o vetor de coeficientes lineares e \\( a \\) é o termo constante.\n",
        "\n",
        "Portanto:\n",
        "- $ A = \\begin{bmatrix} 1 & -0.05 & 0.25 \\\\ -0.05 & -1 & 0.04 \\\\ 0.25 & 0.04 & 2 \\end{bmatrix} $\n",
        "- $b = \\begin{bmatrix} -0.2 \\\\ 0.3 \\\\ -0.7 \\end{bmatrix} $\n",
        "- $ a = 0.4 $"
      ],
      "metadata": {
        "id": "zjqG1A-4QKLb"
      }
    },
    {
      "cell_type": "markdown",
      "source": [],
      "metadata": {
        "id": "oV8aGKxqVMDh"
      }
    },
    {
      "cell_type": "markdown",
      "source": [
        "b) determine o seu gradiente,  $\\frac{\\partial E(w)}{\\partial w}$"
      ],
      "metadata": {
        "id": "ftX3QTC0TmAw"
      }
    },
    {
      "cell_type": "markdown",
      "source": [
        "Para determinar o gradiente da função $ E(w) $, precisamos calcular suas derivadas parciais em relação a cada componente de $ w $. Vamos calcular o gradiente $ \\nabla E(w) $, que é um vetor coluna contendo as derivadas parciais de $ E(w) $ em relação a $ w_1 $, $ w_2 $ e $ w_3 $.\n",
        "\n",
        "A função $ E(w) $ é dada por:\n",
        "\n",
        "$\n",
        "E(w_1, w_2, w_3) = w_1^2 - w_2^2 + 2w_3^2 - 0.1w_1w_2 + 0.5w_1w_3 + 0.08w_2w_3 - 0.2w_1 + 0.3w_2 - 0.7w_3 + 0.4\n",
        "$\n",
        "\n",
        "Vamos calcular as derivadas parciais:\n",
        "\n",
        "$\\frac{\\partial E}{\\partial w_1} = 2w_1 - 0.1w_2 + 0.5w_3 - 0.2$\n",
        "</br>\n",
        "$\\frac{\\partial E}{\\partial w_2} = -2w_2 - 0.1w_1 + 0.08w_3 + 0.3$\n",
        "</br>\n",
        "$\\frac{\\partial E}{\\partial w_3} = 4w_3 + 0.5w_1 + 0.08w_2 - 0.7$\n",
        "\n",
        "Portanto, o gradiente $ \\nabla E(w) $ é dado por:\n",
        "\n",
        "$\n",
        "\\nabla E(w) = \\begin{bmatrix} \\frac{\\partial E}{\\partial w_1} \\\\ \\frac{\\partial E}{\\partial w_2} \\\\ \\frac{\\partial E}{\\partial w_3} \\end{bmatrix} = \\begin{bmatrix} 2w_1 - 0.1w_2 + 0.5w_3 - 0.2 \\\\ -2w_2 - 0.1w_1 + 0.08w_3 + 0.3 \\\\ 4w_3 + 0.5w_1 + 0.08w_2 - 0.7 \\end{bmatrix}\n",
        "$\n",
        "\n",
        "Esse é o gradiente da função \\( E(w) \\) em relação ao vetor \\( w \\).\n"
      ],
      "metadata": {
        "id": "A-czOcxsUT4U"
      }
    },
    {
      "cell_type": "markdown",
      "source": [
        "c) determine a sua matriz Hessiana, $\\frac{\\partial^2 E(w)}{\\partial w^2}$"
      ],
      "metadata": {
        "id": "aqE6CVvyVYO4"
      }
    },
    {
      "cell_type": "markdown",
      "source": [
        "Para determinar a matriz Hessiana $ \\frac{\\partial^2 E(w)}{\\partial w^2} $, precisamos calcular as segundas derivadas parciais de $ E(w) $ em relação a cada par de componentes de $ w $. Vou calcular cada uma dessas segundas derivadas parciais:\n",
        "\n",
        "$\n",
        "\\frac{\\partial^2 E(w)}{\\partial w^2} = \\begin{bmatrix}\n",
        "\\frac{\\partial^2 E(w)}{\\partial w_1^2} & \\frac{\\partial^2 E(w)}{\\partial w_1 \\partial w_2} & \\frac{\\partial^2 E(w)}{\\partial w_1 \\partial w_3} \\\\\n",
        "\\frac{\\partial^2 E(w)}{\\partial w_2 \\partial w_1} & \\frac{\\partial^2 E(w)}{\\partial w_2^2} & \\frac{\\partial^2 E(w)}{\\partial w_2 \\partial w_3} \\\\\n",
        "\\frac{\\partial^2 E(w)}{\\partial w_3 \\partial w_1} & \\frac{\\partial^2 E(w)}{\\partial w_3 \\partial w_2} & \\frac{\\partial^2 E(w)}{\\partial w_3^2}\n",
        "\\end{bmatrix}\n",
        "$\n",
        "\n",
        "Calculando cada uma das segundas derivadas parciais:\n",
        "\n",
        "1. Para $ w_1 $:\n",
        "</br>\n",
        "$\\frac{\\partial^2 E(w)}{\\partial w_1^2} = 2$ ,\n",
        "$\\frac{\\partial^2 E(w)}{\\partial w_1 \\partial w_2} = -0.1$, $\n",
        "\\frac{\\partial^2 E(w)}{\\partial w_1 \\partial w_3} = 0.5$\n",
        "\n",
        "2. Para $ w_2 $:\n",
        "</br>\n",
        "$\\frac{\\partial^2 E(w)}{\\partial w_2 \\partial w_1} = -0.1$,\n",
        "$\\frac{\\partial^2 E(w)}{\\partial w_2^2} = -2$, $\n",
        "\\frac{\\partial^2 E(w)}{\\partial w_2 \\partial w_3} = 0.08$\n",
        "\n",
        "3. Para $ w_3 $:\n",
        "</br>\n",
        "$\\frac{\\partial^2 E(w)}{\\partial w_3 \\partial w_1} = 0.5$, $\n",
        "\\frac{\\partial^2 E(w)}{\\partial w_3 \\partial w_2} = 0.08$,$\n",
        "\\frac{\\partial^2 E(w)}{\\partial w_3^2} = 4$\n",
        "\n",
        "Portanto, a matriz Hessiana de $ E(w) $ é:\n",
        "\n",
        "$\n",
        "\\frac{\\partial^2 E(w)}{\\partial w^2} = \\begin{bmatrix}\n",
        "2 & -0.1 & 0.5 \\\\\n",
        "-0.1 & -2 & 0.08 \\\\\n",
        "0.5 & 0.08 & 4\n",
        "\\end{bmatrix}\n",
        "$\n"
      ],
      "metadata": {
        "id": "2uswzdhOVtlX"
      }
    },
    {
      "cell_type": "markdown",
      "source": [
        "d) verifique se esta função é estritamente convexa"
      ],
      "metadata": {
        "id": "aymusxByWtkY"
      }
    },
    {
      "cell_type": "code",
      "source": [
        "import numpy as np\n",
        "\n",
        "Hessian = np.array([[2, -0.1, 0.5],\n",
        "                    [-0.1, -2, 0.08],\n",
        "                    [0.5, 0.08, 4]])\n",
        "\n",
        "eigenvalues = np.linalg.eigvals(Hessian)\n"
      ],
      "metadata": {
        "id": "5v09Fg77WvEo"
      },
      "execution_count": 1,
      "outputs": []
    },
    {
      "cell_type": "code",
      "source": [
        "if all(eigenvalues > 0):\n",
        "    print(\"A função é estritamente convexa.\")\n",
        "else:\n",
        "    print(\"A função não é estritamente convexa.\")\n"
      ],
      "metadata": {
        "colab": {
          "base_uri": "https://localhost:8080/"
        },
        "id": "sAUBaLW-WyKu",
        "outputId": "f428a027-e5cb-4910-d9d7-3d56f2c3c0ff"
      },
      "execution_count": 2,
      "outputs": [
        {
          "output_type": "stream",
          "name": "stdout",
          "text": [
            "A função não é estritamente convexa.\n"
          ]
        }
      ]
    },
    {
      "cell_type": "markdown",
      "source": [
        "e) Considerando que em um determinado ponto w o gradiente da função E(w) é igual zero,isto é, g(w)=0. Isto não é suficiente para indicar que este ponto corresponde a um ponto de mínimo, máximo ou um ponto de sela. Com base nos autovalores da matriz Hessiana =  $\\frac{\\partial^2 E(w)}{\\partial w^2}$\n",
        "apresente a condição para este ponto ser: (i) um ponto de mínimo, (ii) um ponto de máximo (iii) um ponto de sela da função."
      ],
      "metadata": {
        "id": "ciTTqxLWXJDG"
      }
    },
    {
      "cell_type": "markdown",
      "source": [
        "1. **Ponto de mínimo**: Todos os autovalores da matriz Hessiana são positivos.\n",
        "   \n",
        "   Condição: Todos os autovalores $ \\lambda_i $ de $ \\frac{\\partial^2 E(w)}{\\partial w^2} $ são positivos.\n",
        "\n",
        "2. **Ponto de máximo**: Todos os autovalores da matriz Hessiana são negativos.\n",
        "   \n",
        "   Condição: Todos os autovalores $ \\lambda_i $ de $ \\frac{\\partial^2 E(w)}{\\partial w^2} $ são negativos.\n",
        "\n",
        "3. **Ponto de sela**: Existem autovalores positivos e negativos na matriz Hessiana.\n",
        "   \n",
        "   Condição: A matriz Hessiana tem tanto autovalores positivos quanto negativos.\n",
        "\n"
      ],
      "metadata": {
        "id": "jimLDrJwXs7k"
      }
    }
  ]
}