{
  "nbformat": 4,
  "nbformat_minor": 0,
  "metadata": {
    "colab": {
      "provenance": []
    },
    "kernelspec": {
      "name": "python3",
      "display_name": "Python 3"
    },
    "language_info": {
      "name": "python"
    }
  },
  "cells": [
    {
      "cell_type": "markdown",
      "metadata": {
        "id": "2QtbEyIGpeb9"
      },
      "source": [
        "# 8.\n",
        "\n",
        " O método da máxima verossimilhança (Max-Likelihood) é aplicado na determinação de\n",
        "parâmetros desconhecidos de um modelo de distribuição de probabilidades. O método é\n",
        "bastante utilizado para o desenvolvimento de algoritmos de aprendizagem de máquinas em\n",
        "particular em redes neurais. O problema considerado nesta questão envolve o modelo probabilístico de uma distribuição gaussiana multivariada . Determine os parâmetros estimados\n",
        "da distribuição gaussiana.\n",
        "\n",
        "\n"
      ]
    },
    {
      "cell_type": "markdown",
      "source": [
        "# A função de verossimilhança (likelihood) é a função que descreve a probabilidade de observar os dados sob determinados parâmetros. Para uma distribuição gaussiana multivariada, a função de verossimilhança é dada por:\n"
      ],
      "metadata": {
        "id": "OYTG6YjBj1kG"
      }
    },
    {
      "cell_type": "markdown",
      "source": [
        "$L(\\boldsymbol{\\mu}, \\boldsymbol{\\Sigma}) = \\prod_{i=1}^{n} \\frac{1}{(2\\pi)^{d/2}|\\boldsymbol{\\Sigma}|^{1/2}} \\exp\\left(-\\frac{1}{2}(\\mathbf{x}_i - \\boldsymbol{\\mu})^T \\boldsymbol{\\Sigma}^{-1} (\\mathbf{x}_i - \\boldsymbol{\\mu})\\right)$\n"
      ],
      "metadata": {
        "id": "z0ln8d1SkFUL"
      }
    },
    {
      "cell_type": "markdown",
      "source": [
        "# onde μ é o vetor de médias, Σ é a matriz de covariância, n é o número de observações e d é a dimensão dos dados."
      ],
      "metadata": {
        "id": "aRVpn5XVkkPF"
      }
    },
    {
      "cell_type": "markdown",
      "source": [
        "# Para maximizar a função de verossimilhança, geralmente é mais conveniente maximizar o logaritmo da função de verossimilhança (log-likelihood), pois simplifica os cálculos e não afeta a localização do máximo. Portanto, calculamos o logaritmo da função de verossimilhança:"
      ],
      "metadata": {
        "id": "wNj0KrNhk6jD"
      }
    },
    {
      "cell_type": "markdown",
      "source": [
        "$\n",
        "\\ell(\\boldsymbol{\\mu}, \\boldsymbol{\\Sigma}) = \\log L(\\boldsymbol{\\mu}, \\boldsymbol{\\Sigma}) = -\\frac{nd}{2} \\log(2\\pi) - \\frac{n}{2} \\log|\\boldsymbol{\\Sigma}| - \\frac{1}{2} \\sum_{i=1}^{n} (\\mathbf{x}_i - \\boldsymbol{\\mu})^T \\boldsymbol{\\Sigma}^{-1} (\\mathbf{x}_i - \\boldsymbol{\\mu})$"
      ],
      "metadata": {
        "id": "nJ46SUdjk_fB"
      }
    },
    {
      "cell_type": "markdown",
      "source": [
        "# Para encontrar os parâmetros que maximizam a função de verossimilhança, geralmente você precisa derivar a função de verossimilhança com relação aos parâmetros (no caso, μ e Σ), igualar as derivadas a zero e resolver para os parâmetros.Dependendo do modelo específico e das propriedades dos dados, você pode precisar resolver as equações resultantes analiticamente ou usando métodos numéricos."
      ],
      "metadata": {
        "id": "ztt47SLnlOKK"
      }
    },
    {
      "cell_type": "markdown",
      "source": [],
      "metadata": {
        "id": "HqLFq68Xk3j4"
      }
    }
  ]
}