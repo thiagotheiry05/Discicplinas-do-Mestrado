{
  "nbformat": 4,
  "nbformat_minor": 0,
  "metadata": {
    "colab": {
      "provenance": []
    },
    "kernelspec": {
      "name": "python3",
      "display_name": "Python 3"
    },
    "language_info": {
      "name": "python"
    }
  },
  "cells": [
    {
      "cell_type": "markdown",
      "source": [
        "A matriz Hessiana pode ser expressa aproximadamente como:\n",
        "$ H(n) = \\sum_{k=1}^{n} g(k)g^T(k)$\n",
        "\n",
        "onde $ g(w(n)) $ é o vetor gradiente local definido por $ g(w) = \\frac{\\partial E(w)}{\\partial w} $, sendo $E(w)$ a função custo.\n",
        "\n"
      ],
      "metadata": {
        "id": "hQm6Ga-2ePBa"
      }
    },
    {
      "cell_type": "markdown",
      "source": [
        "a-) Demonstre que $ H(n) = H(n-1) + g(n)g^T(n) $."
      ],
      "metadata": {
        "id": "I3_usB8TeWEW"
      }
    },
    {
      "cell_type": "markdown",
      "source": [
        "Dado que $H(n)$ é definido como:\n",
        "\n",
        "$ H(n) = \\sum_{k=1}^{n} g(k)g^T(k) $\n",
        "\n",
        "Queremos demonstrar que:\n",
        "\n",
        "$ H(n) = H(n-1) + g(n)g^T(n) $\n",
        "\n",
        "Vamos começar expandindo $H(n-1)$:\n",
        "\n",
        "$ H(n-1) = \\sum_{k=1}^{n-1} g(k)g^T(k) $\n",
        "\n",
        "Agora, vamos adicionar o termo $g(n)g^T(n)$:\n",
        "\n",
        "$ H(n-1) + g(n)g^T(n) = \\sum_{k=1}^{n-1} g(k)g^T(k) + g(n)g^T(n) $\n",
        "\n",
        "Agora, observe que o somatório vai de 1 até $n-1$, e estamos adicionando o termo $g(n)g^T(n)$. Portanto, podemos reescrever o somatório para cobrir o intervalo de 1 a $n$:\n",
        "\n",
        "$ = \\sum_{k=1}^{n} g(k)g^T(k) $\n",
        "\n",
        "Que é exatamente $H(n)$, então demonstramos que:\n",
        "\n",
        "$ H(n) = H(n-1) + g(n)g^T(n)$\n"
      ],
      "metadata": {
        "id": "H-y62TGbeciV"
      }
    }
  ]
}