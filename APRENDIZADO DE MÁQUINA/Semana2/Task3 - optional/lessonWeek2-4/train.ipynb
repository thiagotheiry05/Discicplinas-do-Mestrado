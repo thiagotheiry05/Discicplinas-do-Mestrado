{
  "nbformat": 4,
  "nbformat_minor": 0,
  "metadata": {
    "colab": {
      "provenance": [],
      "toc_visible": true,
      "collapsed_sections": [
        "3JBkxykTp2HF",
        "G8tKLeBIa44E"
      ]
    },
    "kernelspec": {
      "name": "python3",
      "display_name": "Python 3"
    },
    "language_info": {
      "name": "python"
    },
    "widgets": {
      "application/vnd.jupyter.widget-state+json": {
        "ae170af1ed5a40fe934afb050661c73c": {
          "model_module": "@jupyter-widgets/controls",
          "model_name": "VBoxModel",
          "model_module_version": "1.5.0",
          "state": {
            "_dom_classes": [],
            "_model_module": "@jupyter-widgets/controls",
            "_model_module_version": "1.5.0",
            "_model_name": "VBoxModel",
            "_view_count": null,
            "_view_module": "@jupyter-widgets/controls",
            "_view_module_version": "1.5.0",
            "_view_name": "VBoxView",
            "box_style": "",
            "children": [
              "IPY_MODEL_a5f53d4f39bc4efb9c59b60c52d040d8",
              "IPY_MODEL_d68353a8eb0b4f4084c1e1b6df1cb137"
            ],
            "layout": "IPY_MODEL_42269c6b92cf4c6eaa3a41be2577ffc6"
          }
        },
        "a5f53d4f39bc4efb9c59b60c52d040d8": {
          "model_module": "@jupyter-widgets/controls",
          "model_name": "LabelModel",
          "model_module_version": "1.5.0",
          "state": {
            "_dom_classes": [],
            "_model_module": "@jupyter-widgets/controls",
            "_model_module_version": "1.5.0",
            "_model_name": "LabelModel",
            "_view_count": null,
            "_view_module": "@jupyter-widgets/controls",
            "_view_module_version": "1.5.0",
            "_view_name": "LabelView",
            "description": "",
            "description_tooltip": null,
            "layout": "IPY_MODEL_0f10b2b03f7d4319a8cb3c536f6c356e",
            "placeholder": "​",
            "style": "IPY_MODEL_e451e1df2f224224a23a3abe4e870015",
            "value": "0.049 MB of 0.049 MB uploaded\r"
          }
        },
        "d68353a8eb0b4f4084c1e1b6df1cb137": {
          "model_module": "@jupyter-widgets/controls",
          "model_name": "FloatProgressModel",
          "model_module_version": "1.5.0",
          "state": {
            "_dom_classes": [],
            "_model_module": "@jupyter-widgets/controls",
            "_model_module_version": "1.5.0",
            "_model_name": "FloatProgressModel",
            "_view_count": null,
            "_view_module": "@jupyter-widgets/controls",
            "_view_module_version": "1.5.0",
            "_view_name": "ProgressView",
            "bar_style": "",
            "description": "",
            "description_tooltip": null,
            "layout": "IPY_MODEL_993cbe21af7349958c1287f4caf8ee8c",
            "max": 1,
            "min": 0,
            "orientation": "horizontal",
            "style": "IPY_MODEL_bf22233d990c4749a5d8b322be47d913",
            "value": 1
          }
        },
        "42269c6b92cf4c6eaa3a41be2577ffc6": {
          "model_module": "@jupyter-widgets/base",
          "model_name": "LayoutModel",
          "model_module_version": "1.2.0",
          "state": {
            "_model_module": "@jupyter-widgets/base",
            "_model_module_version": "1.2.0",
            "_model_name": "LayoutModel",
            "_view_count": null,
            "_view_module": "@jupyter-widgets/base",
            "_view_module_version": "1.2.0",
            "_view_name": "LayoutView",
            "align_content": null,
            "align_items": null,
            "align_self": null,
            "border": null,
            "bottom": null,
            "display": null,
            "flex": null,
            "flex_flow": null,
            "grid_area": null,
            "grid_auto_columns": null,
            "grid_auto_flow": null,
            "grid_auto_rows": null,
            "grid_column": null,
            "grid_gap": null,
            "grid_row": null,
            "grid_template_areas": null,
            "grid_template_columns": null,
            "grid_template_rows": null,
            "height": null,
            "justify_content": null,
            "justify_items": null,
            "left": null,
            "margin": null,
            "max_height": null,
            "max_width": null,
            "min_height": null,
            "min_width": null,
            "object_fit": null,
            "object_position": null,
            "order": null,
            "overflow": null,
            "overflow_x": null,
            "overflow_y": null,
            "padding": null,
            "right": null,
            "top": null,
            "visibility": null,
            "width": null
          }
        },
        "0f10b2b03f7d4319a8cb3c536f6c356e": {
          "model_module": "@jupyter-widgets/base",
          "model_name": "LayoutModel",
          "model_module_version": "1.2.0",
          "state": {
            "_model_module": "@jupyter-widgets/base",
            "_model_module_version": "1.2.0",
            "_model_name": "LayoutModel",
            "_view_count": null,
            "_view_module": "@jupyter-widgets/base",
            "_view_module_version": "1.2.0",
            "_view_name": "LayoutView",
            "align_content": null,
            "align_items": null,
            "align_self": null,
            "border": null,
            "bottom": null,
            "display": null,
            "flex": null,
            "flex_flow": null,
            "grid_area": null,
            "grid_auto_columns": null,
            "grid_auto_flow": null,
            "grid_auto_rows": null,
            "grid_column": null,
            "grid_gap": null,
            "grid_row": null,
            "grid_template_areas": null,
            "grid_template_columns": null,
            "grid_template_rows": null,
            "height": null,
            "justify_content": null,
            "justify_items": null,
            "left": null,
            "margin": null,
            "max_height": null,
            "max_width": null,
            "min_height": null,
            "min_width": null,
            "object_fit": null,
            "object_position": null,
            "order": null,
            "overflow": null,
            "overflow_x": null,
            "overflow_y": null,
            "padding": null,
            "right": null,
            "top": null,
            "visibility": null,
            "width": null
          }
        },
        "e451e1df2f224224a23a3abe4e870015": {
          "model_module": "@jupyter-widgets/controls",
          "model_name": "DescriptionStyleModel",
          "model_module_version": "1.5.0",
          "state": {
            "_model_module": "@jupyter-widgets/controls",
            "_model_module_version": "1.5.0",
            "_model_name": "DescriptionStyleModel",
            "_view_count": null,
            "_view_module": "@jupyter-widgets/base",
            "_view_module_version": "1.2.0",
            "_view_name": "StyleView",
            "description_width": ""
          }
        },
        "993cbe21af7349958c1287f4caf8ee8c": {
          "model_module": "@jupyter-widgets/base",
          "model_name": "LayoutModel",
          "model_module_version": "1.2.0",
          "state": {
            "_model_module": "@jupyter-widgets/base",
            "_model_module_version": "1.2.0",
            "_model_name": "LayoutModel",
            "_view_count": null,
            "_view_module": "@jupyter-widgets/base",
            "_view_module_version": "1.2.0",
            "_view_name": "LayoutView",
            "align_content": null,
            "align_items": null,
            "align_self": null,
            "border": null,
            "bottom": null,
            "display": null,
            "flex": null,
            "flex_flow": null,
            "grid_area": null,
            "grid_auto_columns": null,
            "grid_auto_flow": null,
            "grid_auto_rows": null,
            "grid_column": null,
            "grid_gap": null,
            "grid_row": null,
            "grid_template_areas": null,
            "grid_template_columns": null,
            "grid_template_rows": null,
            "height": null,
            "justify_content": null,
            "justify_items": null,
            "left": null,
            "margin": null,
            "max_height": null,
            "max_width": null,
            "min_height": null,
            "min_width": null,
            "object_fit": null,
            "object_position": null,
            "order": null,
            "overflow": null,
            "overflow_x": null,
            "overflow_y": null,
            "padding": null,
            "right": null,
            "top": null,
            "visibility": null,
            "width": null
          }
        },
        "bf22233d990c4749a5d8b322be47d913": {
          "model_module": "@jupyter-widgets/controls",
          "model_name": "ProgressStyleModel",
          "model_module_version": "1.5.0",
          "state": {
            "_model_module": "@jupyter-widgets/controls",
            "_model_module_version": "1.5.0",
            "_model_name": "ProgressStyleModel",
            "_view_count": null,
            "_view_module": "@jupyter-widgets/base",
            "_view_module_version": "1.2.0",
            "_view_name": "StyleView",
            "bar_color": null,
            "description_width": ""
          }
        },
        "8cb26813cbea46239e21b6fffd7e30fd": {
          "model_module": "@jupyter-widgets/controls",
          "model_name": "VBoxModel",
          "model_module_version": "1.5.0",
          "state": {
            "_dom_classes": [],
            "_model_module": "@jupyter-widgets/controls",
            "_model_module_version": "1.5.0",
            "_model_name": "VBoxModel",
            "_view_count": null,
            "_view_module": "@jupyter-widgets/controls",
            "_view_module_version": "1.5.0",
            "_view_name": "VBoxView",
            "box_style": "",
            "children": [
              "IPY_MODEL_f381849f7bdf4f1bbcd711a51eeb46c8",
              "IPY_MODEL_14d1649539d4431ebe7f5fbaf192fbc1"
            ],
            "layout": "IPY_MODEL_64b5b23df0564327bb4c17db89b9baf3"
          }
        },
        "f381849f7bdf4f1bbcd711a51eeb46c8": {
          "model_module": "@jupyter-widgets/controls",
          "model_name": "LabelModel",
          "model_module_version": "1.5.0",
          "state": {
            "_dom_classes": [],
            "_model_module": "@jupyter-widgets/controls",
            "_model_module_version": "1.5.0",
            "_model_name": "LabelModel",
            "_view_count": null,
            "_view_module": "@jupyter-widgets/controls",
            "_view_module_version": "1.5.0",
            "_view_name": "LabelView",
            "description": "",
            "description_tooltip": null,
            "layout": "IPY_MODEL_13888f9e021c413d899baab5e50a67c5",
            "placeholder": "​",
            "style": "IPY_MODEL_8b2a48250e754937a38a063de1bf1b52",
            "value": "0.010 MB of 0.010 MB uploaded\r"
          }
        },
        "14d1649539d4431ebe7f5fbaf192fbc1": {
          "model_module": "@jupyter-widgets/controls",
          "model_name": "FloatProgressModel",
          "model_module_version": "1.5.0",
          "state": {
            "_dom_classes": [],
            "_model_module": "@jupyter-widgets/controls",
            "_model_module_version": "1.5.0",
            "_model_name": "FloatProgressModel",
            "_view_count": null,
            "_view_module": "@jupyter-widgets/controls",
            "_view_module_version": "1.5.0",
            "_view_name": "ProgressView",
            "bar_style": "",
            "description": "",
            "description_tooltip": null,
            "layout": "IPY_MODEL_68d6620c97084983b7ba1b79a5028490",
            "max": 1,
            "min": 0,
            "orientation": "horizontal",
            "style": "IPY_MODEL_760e94e65b9d40b3982d9e1d8efd09af",
            "value": 1
          }
        },
        "64b5b23df0564327bb4c17db89b9baf3": {
          "model_module": "@jupyter-widgets/base",
          "model_name": "LayoutModel",
          "model_module_version": "1.2.0",
          "state": {
            "_model_module": "@jupyter-widgets/base",
            "_model_module_version": "1.2.0",
            "_model_name": "LayoutModel",
            "_view_count": null,
            "_view_module": "@jupyter-widgets/base",
            "_view_module_version": "1.2.0",
            "_view_name": "LayoutView",
            "align_content": null,
            "align_items": null,
            "align_self": null,
            "border": null,
            "bottom": null,
            "display": null,
            "flex": null,
            "flex_flow": null,
            "grid_area": null,
            "grid_auto_columns": null,
            "grid_auto_flow": null,
            "grid_auto_rows": null,
            "grid_column": null,
            "grid_gap": null,
            "grid_row": null,
            "grid_template_areas": null,
            "grid_template_columns": null,
            "grid_template_rows": null,
            "height": null,
            "justify_content": null,
            "justify_items": null,
            "left": null,
            "margin": null,
            "max_height": null,
            "max_width": null,
            "min_height": null,
            "min_width": null,
            "object_fit": null,
            "object_position": null,
            "order": null,
            "overflow": null,
            "overflow_x": null,
            "overflow_y": null,
            "padding": null,
            "right": null,
            "top": null,
            "visibility": null,
            "width": null
          }
        },
        "13888f9e021c413d899baab5e50a67c5": {
          "model_module": "@jupyter-widgets/base",
          "model_name": "LayoutModel",
          "model_module_version": "1.2.0",
          "state": {
            "_model_module": "@jupyter-widgets/base",
            "_model_module_version": "1.2.0",
            "_model_name": "LayoutModel",
            "_view_count": null,
            "_view_module": "@jupyter-widgets/base",
            "_view_module_version": "1.2.0",
            "_view_name": "LayoutView",
            "align_content": null,
            "align_items": null,
            "align_self": null,
            "border": null,
            "bottom": null,
            "display": null,
            "flex": null,
            "flex_flow": null,
            "grid_area": null,
            "grid_auto_columns": null,
            "grid_auto_flow": null,
            "grid_auto_rows": null,
            "grid_column": null,
            "grid_gap": null,
            "grid_row": null,
            "grid_template_areas": null,
            "grid_template_columns": null,
            "grid_template_rows": null,
            "height": null,
            "justify_content": null,
            "justify_items": null,
            "left": null,
            "margin": null,
            "max_height": null,
            "max_width": null,
            "min_height": null,
            "min_width": null,
            "object_fit": null,
            "object_position": null,
            "order": null,
            "overflow": null,
            "overflow_x": null,
            "overflow_y": null,
            "padding": null,
            "right": null,
            "top": null,
            "visibility": null,
            "width": null
          }
        },
        "8b2a48250e754937a38a063de1bf1b52": {
          "model_module": "@jupyter-widgets/controls",
          "model_name": "DescriptionStyleModel",
          "model_module_version": "1.5.0",
          "state": {
            "_model_module": "@jupyter-widgets/controls",
            "_model_module_version": "1.5.0",
            "_model_name": "DescriptionStyleModel",
            "_view_count": null,
            "_view_module": "@jupyter-widgets/base",
            "_view_module_version": "1.2.0",
            "_view_name": "StyleView",
            "description_width": ""
          }
        },
        "68d6620c97084983b7ba1b79a5028490": {
          "model_module": "@jupyter-widgets/base",
          "model_name": "LayoutModel",
          "model_module_version": "1.2.0",
          "state": {
            "_model_module": "@jupyter-widgets/base",
            "_model_module_version": "1.2.0",
            "_model_name": "LayoutModel",
            "_view_count": null,
            "_view_module": "@jupyter-widgets/base",
            "_view_module_version": "1.2.0",
            "_view_name": "LayoutView",
            "align_content": null,
            "align_items": null,
            "align_self": null,
            "border": null,
            "bottom": null,
            "display": null,
            "flex": null,
            "flex_flow": null,
            "grid_area": null,
            "grid_auto_columns": null,
            "grid_auto_flow": null,
            "grid_auto_rows": null,
            "grid_column": null,
            "grid_gap": null,
            "grid_row": null,
            "grid_template_areas": null,
            "grid_template_columns": null,
            "grid_template_rows": null,
            "height": null,
            "justify_content": null,
            "justify_items": null,
            "left": null,
            "margin": null,
            "max_height": null,
            "max_width": null,
            "min_height": null,
            "min_width": null,
            "object_fit": null,
            "object_position": null,
            "order": null,
            "overflow": null,
            "overflow_x": null,
            "overflow_y": null,
            "padding": null,
            "right": null,
            "top": null,
            "visibility": null,
            "width": null
          }
        },
        "760e94e65b9d40b3982d9e1d8efd09af": {
          "model_module": "@jupyter-widgets/controls",
          "model_name": "ProgressStyleModel",
          "model_module_version": "1.5.0",
          "state": {
            "_model_module": "@jupyter-widgets/controls",
            "_model_module_version": "1.5.0",
            "_model_name": "ProgressStyleModel",
            "_view_count": null,
            "_view_module": "@jupyter-widgets/base",
            "_view_module_version": "1.2.0",
            "_view_name": "StyleView",
            "bar_color": null,
            "description_width": ""
          }
        },
        "0a47f2dc79fa44f8879c723a9dc314b1": {
          "model_module": "@jupyter-widgets/controls",
          "model_name": "VBoxModel",
          "model_module_version": "1.5.0",
          "state": {
            "_dom_classes": [],
            "_model_module": "@jupyter-widgets/controls",
            "_model_module_version": "1.5.0",
            "_model_name": "VBoxModel",
            "_view_count": null,
            "_view_module": "@jupyter-widgets/controls",
            "_view_module_version": "1.5.0",
            "_view_name": "VBoxView",
            "box_style": "",
            "children": [
              "IPY_MODEL_7bd43f56c1ee40ea8e0b741b027e2e54",
              "IPY_MODEL_f7a0f946e02b4fd8bc7a20f0e036f46a"
            ],
            "layout": "IPY_MODEL_803009a172e844b3b7a98ca7cadede82"
          }
        },
        "7bd43f56c1ee40ea8e0b741b027e2e54": {
          "model_module": "@jupyter-widgets/controls",
          "model_name": "LabelModel",
          "model_module_version": "1.5.0",
          "state": {
            "_dom_classes": [],
            "_model_module": "@jupyter-widgets/controls",
            "_model_module_version": "1.5.0",
            "_model_name": "LabelModel",
            "_view_count": null,
            "_view_module": "@jupyter-widgets/controls",
            "_view_module_version": "1.5.0",
            "_view_name": "LabelView",
            "description": "",
            "description_tooltip": null,
            "layout": "IPY_MODEL_657d06ca374e448b87d0c7b7cba8fddc",
            "placeholder": "​",
            "style": "IPY_MODEL_0069277a28514ecfbd5a1117c9424da7",
            "value": "0.010 MB of 0.010 MB uploaded\r"
          }
        },
        "f7a0f946e02b4fd8bc7a20f0e036f46a": {
          "model_module": "@jupyter-widgets/controls",
          "model_name": "FloatProgressModel",
          "model_module_version": "1.5.0",
          "state": {
            "_dom_classes": [],
            "_model_module": "@jupyter-widgets/controls",
            "_model_module_version": "1.5.0",
            "_model_name": "FloatProgressModel",
            "_view_count": null,
            "_view_module": "@jupyter-widgets/controls",
            "_view_module_version": "1.5.0",
            "_view_name": "ProgressView",
            "bar_style": "",
            "description": "",
            "description_tooltip": null,
            "layout": "IPY_MODEL_7742d462292042c3ad4b41b6bb4302e1",
            "max": 1,
            "min": 0,
            "orientation": "horizontal",
            "style": "IPY_MODEL_bc22527fdf744b44934404292b7e19fa",
            "value": 1
          }
        },
        "803009a172e844b3b7a98ca7cadede82": {
          "model_module": "@jupyter-widgets/base",
          "model_name": "LayoutModel",
          "model_module_version": "1.2.0",
          "state": {
            "_model_module": "@jupyter-widgets/base",
            "_model_module_version": "1.2.0",
            "_model_name": "LayoutModel",
            "_view_count": null,
            "_view_module": "@jupyter-widgets/base",
            "_view_module_version": "1.2.0",
            "_view_name": "LayoutView",
            "align_content": null,
            "align_items": null,
            "align_self": null,
            "border": null,
            "bottom": null,
            "display": null,
            "flex": null,
            "flex_flow": null,
            "grid_area": null,
            "grid_auto_columns": null,
            "grid_auto_flow": null,
            "grid_auto_rows": null,
            "grid_column": null,
            "grid_gap": null,
            "grid_row": null,
            "grid_template_areas": null,
            "grid_template_columns": null,
            "grid_template_rows": null,
            "height": null,
            "justify_content": null,
            "justify_items": null,
            "left": null,
            "margin": null,
            "max_height": null,
            "max_width": null,
            "min_height": null,
            "min_width": null,
            "object_fit": null,
            "object_position": null,
            "order": null,
            "overflow": null,
            "overflow_x": null,
            "overflow_y": null,
            "padding": null,
            "right": null,
            "top": null,
            "visibility": null,
            "width": null
          }
        },
        "657d06ca374e448b87d0c7b7cba8fddc": {
          "model_module": "@jupyter-widgets/base",
          "model_name": "LayoutModel",
          "model_module_version": "1.2.0",
          "state": {
            "_model_module": "@jupyter-widgets/base",
            "_model_module_version": "1.2.0",
            "_model_name": "LayoutModel",
            "_view_count": null,
            "_view_module": "@jupyter-widgets/base",
            "_view_module_version": "1.2.0",
            "_view_name": "LayoutView",
            "align_content": null,
            "align_items": null,
            "align_self": null,
            "border": null,
            "bottom": null,
            "display": null,
            "flex": null,
            "flex_flow": null,
            "grid_area": null,
            "grid_auto_columns": null,
            "grid_auto_flow": null,
            "grid_auto_rows": null,
            "grid_column": null,
            "grid_gap": null,
            "grid_row": null,
            "grid_template_areas": null,
            "grid_template_columns": null,
            "grid_template_rows": null,
            "height": null,
            "justify_content": null,
            "justify_items": null,
            "left": null,
            "margin": null,
            "max_height": null,
            "max_width": null,
            "min_height": null,
            "min_width": null,
            "object_fit": null,
            "object_position": null,
            "order": null,
            "overflow": null,
            "overflow_x": null,
            "overflow_y": null,
            "padding": null,
            "right": null,
            "top": null,
            "visibility": null,
            "width": null
          }
        },
        "0069277a28514ecfbd5a1117c9424da7": {
          "model_module": "@jupyter-widgets/controls",
          "model_name": "DescriptionStyleModel",
          "model_module_version": "1.5.0",
          "state": {
            "_model_module": "@jupyter-widgets/controls",
            "_model_module_version": "1.5.0",
            "_model_name": "DescriptionStyleModel",
            "_view_count": null,
            "_view_module": "@jupyter-widgets/base",
            "_view_module_version": "1.2.0",
            "_view_name": "StyleView",
            "description_width": ""
          }
        },
        "7742d462292042c3ad4b41b6bb4302e1": {
          "model_module": "@jupyter-widgets/base",
          "model_name": "LayoutModel",
          "model_module_version": "1.2.0",
          "state": {
            "_model_module": "@jupyter-widgets/base",
            "_model_module_version": "1.2.0",
            "_model_name": "LayoutModel",
            "_view_count": null,
            "_view_module": "@jupyter-widgets/base",
            "_view_module_version": "1.2.0",
            "_view_name": "LayoutView",
            "align_content": null,
            "align_items": null,
            "align_self": null,
            "border": null,
            "bottom": null,
            "display": null,
            "flex": null,
            "flex_flow": null,
            "grid_area": null,
            "grid_auto_columns": null,
            "grid_auto_flow": null,
            "grid_auto_rows": null,
            "grid_column": null,
            "grid_gap": null,
            "grid_row": null,
            "grid_template_areas": null,
            "grid_template_columns": null,
            "grid_template_rows": null,
            "height": null,
            "justify_content": null,
            "justify_items": null,
            "left": null,
            "margin": null,
            "max_height": null,
            "max_width": null,
            "min_height": null,
            "min_width": null,
            "object_fit": null,
            "object_position": null,
            "order": null,
            "overflow": null,
            "overflow_x": null,
            "overflow_y": null,
            "padding": null,
            "right": null,
            "top": null,
            "visibility": null,
            "width": null
          }
        },
        "bc22527fdf744b44934404292b7e19fa": {
          "model_module": "@jupyter-widgets/controls",
          "model_name": "ProgressStyleModel",
          "model_module_version": "1.5.0",
          "state": {
            "_model_module": "@jupyter-widgets/controls",
            "_model_module_version": "1.5.0",
            "_model_name": "ProgressStyleModel",
            "_view_count": null,
            "_view_module": "@jupyter-widgets/base",
            "_view_module_version": "1.2.0",
            "_view_name": "StyleView",
            "bar_color": null,
            "description_width": ""
          }
        },
        "cfe55310608e44c98823a96d3270d141": {
          "model_module": "@jupyter-widgets/controls",
          "model_name": "VBoxModel",
          "model_module_version": "1.5.0",
          "state": {
            "_dom_classes": [],
            "_model_module": "@jupyter-widgets/controls",
            "_model_module_version": "1.5.0",
            "_model_name": "VBoxModel",
            "_view_count": null,
            "_view_module": "@jupyter-widgets/controls",
            "_view_module_version": "1.5.0",
            "_view_name": "VBoxView",
            "box_style": "",
            "children": [
              "IPY_MODEL_f62dedde80124e46afb1dec5536db42b",
              "IPY_MODEL_f46602091a1c4c09b7357b34813b8727"
            ],
            "layout": "IPY_MODEL_5dc00e143ed248f9888a727d605bf32c"
          }
        },
        "f62dedde80124e46afb1dec5536db42b": {
          "model_module": "@jupyter-widgets/controls",
          "model_name": "LabelModel",
          "model_module_version": "1.5.0",
          "state": {
            "_dom_classes": [],
            "_model_module": "@jupyter-widgets/controls",
            "_model_module_version": "1.5.0",
            "_model_name": "LabelModel",
            "_view_count": null,
            "_view_module": "@jupyter-widgets/controls",
            "_view_module_version": "1.5.0",
            "_view_name": "LabelView",
            "description": "",
            "description_tooltip": null,
            "layout": "IPY_MODEL_09350691124e4693b1ff4f41333f1a07",
            "placeholder": "​",
            "style": "IPY_MODEL_f2cfe1b3663742fda6bf0156f4f6e830",
            "value": "0.010 MB of 0.010 MB uploaded\r"
          }
        },
        "f46602091a1c4c09b7357b34813b8727": {
          "model_module": "@jupyter-widgets/controls",
          "model_name": "FloatProgressModel",
          "model_module_version": "1.5.0",
          "state": {
            "_dom_classes": [],
            "_model_module": "@jupyter-widgets/controls",
            "_model_module_version": "1.5.0",
            "_model_name": "FloatProgressModel",
            "_view_count": null,
            "_view_module": "@jupyter-widgets/controls",
            "_view_module_version": "1.5.0",
            "_view_name": "ProgressView",
            "bar_style": "",
            "description": "",
            "description_tooltip": null,
            "layout": "IPY_MODEL_31ebf050225d4f51b1434b9bf3dd0de6",
            "max": 1,
            "min": 0,
            "orientation": "horizontal",
            "style": "IPY_MODEL_fe2884262e6a4ffda5d6143a46ff5c8c",
            "value": 1
          }
        },
        "5dc00e143ed248f9888a727d605bf32c": {
          "model_module": "@jupyter-widgets/base",
          "model_name": "LayoutModel",
          "model_module_version": "1.2.0",
          "state": {
            "_model_module": "@jupyter-widgets/base",
            "_model_module_version": "1.2.0",
            "_model_name": "LayoutModel",
            "_view_count": null,
            "_view_module": "@jupyter-widgets/base",
            "_view_module_version": "1.2.0",
            "_view_name": "LayoutView",
            "align_content": null,
            "align_items": null,
            "align_self": null,
            "border": null,
            "bottom": null,
            "display": null,
            "flex": null,
            "flex_flow": null,
            "grid_area": null,
            "grid_auto_columns": null,
            "grid_auto_flow": null,
            "grid_auto_rows": null,
            "grid_column": null,
            "grid_gap": null,
            "grid_row": null,
            "grid_template_areas": null,
            "grid_template_columns": null,
            "grid_template_rows": null,
            "height": null,
            "justify_content": null,
            "justify_items": null,
            "left": null,
            "margin": null,
            "max_height": null,
            "max_width": null,
            "min_height": null,
            "min_width": null,
            "object_fit": null,
            "object_position": null,
            "order": null,
            "overflow": null,
            "overflow_x": null,
            "overflow_y": null,
            "padding": null,
            "right": null,
            "top": null,
            "visibility": null,
            "width": null
          }
        },
        "09350691124e4693b1ff4f41333f1a07": {
          "model_module": "@jupyter-widgets/base",
          "model_name": "LayoutModel",
          "model_module_version": "1.2.0",
          "state": {
            "_model_module": "@jupyter-widgets/base",
            "_model_module_version": "1.2.0",
            "_model_name": "LayoutModel",
            "_view_count": null,
            "_view_module": "@jupyter-widgets/base",
            "_view_module_version": "1.2.0",
            "_view_name": "LayoutView",
            "align_content": null,
            "align_items": null,
            "align_self": null,
            "border": null,
            "bottom": null,
            "display": null,
            "flex": null,
            "flex_flow": null,
            "grid_area": null,
            "grid_auto_columns": null,
            "grid_auto_flow": null,
            "grid_auto_rows": null,
            "grid_column": null,
            "grid_gap": null,
            "grid_row": null,
            "grid_template_areas": null,
            "grid_template_columns": null,
            "grid_template_rows": null,
            "height": null,
            "justify_content": null,
            "justify_items": null,
            "left": null,
            "margin": null,
            "max_height": null,
            "max_width": null,
            "min_height": null,
            "min_width": null,
            "object_fit": null,
            "object_position": null,
            "order": null,
            "overflow": null,
            "overflow_x": null,
            "overflow_y": null,
            "padding": null,
            "right": null,
            "top": null,
            "visibility": null,
            "width": null
          }
        },
        "f2cfe1b3663742fda6bf0156f4f6e830": {
          "model_module": "@jupyter-widgets/controls",
          "model_name": "DescriptionStyleModel",
          "model_module_version": "1.5.0",
          "state": {
            "_model_module": "@jupyter-widgets/controls",
            "_model_module_version": "1.5.0",
            "_model_name": "DescriptionStyleModel",
            "_view_count": null,
            "_view_module": "@jupyter-widgets/base",
            "_view_module_version": "1.2.0",
            "_view_name": "StyleView",
            "description_width": ""
          }
        },
        "31ebf050225d4f51b1434b9bf3dd0de6": {
          "model_module": "@jupyter-widgets/base",
          "model_name": "LayoutModel",
          "model_module_version": "1.2.0",
          "state": {
            "_model_module": "@jupyter-widgets/base",
            "_model_module_version": "1.2.0",
            "_model_name": "LayoutModel",
            "_view_count": null,
            "_view_module": "@jupyter-widgets/base",
            "_view_module_version": "1.2.0",
            "_view_name": "LayoutView",
            "align_content": null,
            "align_items": null,
            "align_self": null,
            "border": null,
            "bottom": null,
            "display": null,
            "flex": null,
            "flex_flow": null,
            "grid_area": null,
            "grid_auto_columns": null,
            "grid_auto_flow": null,
            "grid_auto_rows": null,
            "grid_column": null,
            "grid_gap": null,
            "grid_row": null,
            "grid_template_areas": null,
            "grid_template_columns": null,
            "grid_template_rows": null,
            "height": null,
            "justify_content": null,
            "justify_items": null,
            "left": null,
            "margin": null,
            "max_height": null,
            "max_width": null,
            "min_height": null,
            "min_width": null,
            "object_fit": null,
            "object_position": null,
            "order": null,
            "overflow": null,
            "overflow_x": null,
            "overflow_y": null,
            "padding": null,
            "right": null,
            "top": null,
            "visibility": null,
            "width": null
          }
        },
        "fe2884262e6a4ffda5d6143a46ff5c8c": {
          "model_module": "@jupyter-widgets/controls",
          "model_name": "ProgressStyleModel",
          "model_module_version": "1.5.0",
          "state": {
            "_model_module": "@jupyter-widgets/controls",
            "_model_module_version": "1.5.0",
            "_model_name": "ProgressStyleModel",
            "_view_count": null,
            "_view_module": "@jupyter-widgets/base",
            "_view_module_version": "1.2.0",
            "_view_name": "StyleView",
            "bar_color": null,
            "description_width": ""
          }
        },
        "7d05559f998d4b08a68e4e8a5a857689": {
          "model_module": "@jupyter-widgets/controls",
          "model_name": "VBoxModel",
          "model_module_version": "1.5.0",
          "state": {
            "_dom_classes": [],
            "_model_module": "@jupyter-widgets/controls",
            "_model_module_version": "1.5.0",
            "_model_name": "VBoxModel",
            "_view_count": null,
            "_view_module": "@jupyter-widgets/controls",
            "_view_module_version": "1.5.0",
            "_view_name": "VBoxView",
            "box_style": "",
            "children": [
              "IPY_MODEL_934e961588014a09bb8a0fbb5957af1e",
              "IPY_MODEL_e465f38ddeca4cd1a30dcd8361ff7ffb"
            ],
            "layout": "IPY_MODEL_db6f711f1bc141e88424fbfb601028af"
          }
        },
        "934e961588014a09bb8a0fbb5957af1e": {
          "model_module": "@jupyter-widgets/controls",
          "model_name": "LabelModel",
          "model_module_version": "1.5.0",
          "state": {
            "_dom_classes": [],
            "_model_module": "@jupyter-widgets/controls",
            "_model_module_version": "1.5.0",
            "_model_name": "LabelModel",
            "_view_count": null,
            "_view_module": "@jupyter-widgets/controls",
            "_view_module_version": "1.5.0",
            "_view_name": "LabelView",
            "description": "",
            "description_tooltip": null,
            "layout": "IPY_MODEL_5a7e81b0be0d467a87589633ace8af1a",
            "placeholder": "​",
            "style": "IPY_MODEL_0c642055378c43c981550318e6afd919",
            "value": "0.010 MB of 0.010 MB uploaded\r"
          }
        },
        "e465f38ddeca4cd1a30dcd8361ff7ffb": {
          "model_module": "@jupyter-widgets/controls",
          "model_name": "FloatProgressModel",
          "model_module_version": "1.5.0",
          "state": {
            "_dom_classes": [],
            "_model_module": "@jupyter-widgets/controls",
            "_model_module_version": "1.5.0",
            "_model_name": "FloatProgressModel",
            "_view_count": null,
            "_view_module": "@jupyter-widgets/controls",
            "_view_module_version": "1.5.0",
            "_view_name": "ProgressView",
            "bar_style": "",
            "description": "",
            "description_tooltip": null,
            "layout": "IPY_MODEL_a00cace96297464bb59dfb2f60d45a46",
            "max": 1,
            "min": 0,
            "orientation": "horizontal",
            "style": "IPY_MODEL_52ddac72c1a04ae0a87f0abf02d536ac",
            "value": 1
          }
        },
        "db6f711f1bc141e88424fbfb601028af": {
          "model_module": "@jupyter-widgets/base",
          "model_name": "LayoutModel",
          "model_module_version": "1.2.0",
          "state": {
            "_model_module": "@jupyter-widgets/base",
            "_model_module_version": "1.2.0",
            "_model_name": "LayoutModel",
            "_view_count": null,
            "_view_module": "@jupyter-widgets/base",
            "_view_module_version": "1.2.0",
            "_view_name": "LayoutView",
            "align_content": null,
            "align_items": null,
            "align_self": null,
            "border": null,
            "bottom": null,
            "display": null,
            "flex": null,
            "flex_flow": null,
            "grid_area": null,
            "grid_auto_columns": null,
            "grid_auto_flow": null,
            "grid_auto_rows": null,
            "grid_column": null,
            "grid_gap": null,
            "grid_row": null,
            "grid_template_areas": null,
            "grid_template_columns": null,
            "grid_template_rows": null,
            "height": null,
            "justify_content": null,
            "justify_items": null,
            "left": null,
            "margin": null,
            "max_height": null,
            "max_width": null,
            "min_height": null,
            "min_width": null,
            "object_fit": null,
            "object_position": null,
            "order": null,
            "overflow": null,
            "overflow_x": null,
            "overflow_y": null,
            "padding": null,
            "right": null,
            "top": null,
            "visibility": null,
            "width": null
          }
        },
        "5a7e81b0be0d467a87589633ace8af1a": {
          "model_module": "@jupyter-widgets/base",
          "model_name": "LayoutModel",
          "model_module_version": "1.2.0",
          "state": {
            "_model_module": "@jupyter-widgets/base",
            "_model_module_version": "1.2.0",
            "_model_name": "LayoutModel",
            "_view_count": null,
            "_view_module": "@jupyter-widgets/base",
            "_view_module_version": "1.2.0",
            "_view_name": "LayoutView",
            "align_content": null,
            "align_items": null,
            "align_self": null,
            "border": null,
            "bottom": null,
            "display": null,
            "flex": null,
            "flex_flow": null,
            "grid_area": null,
            "grid_auto_columns": null,
            "grid_auto_flow": null,
            "grid_auto_rows": null,
            "grid_column": null,
            "grid_gap": null,
            "grid_row": null,
            "grid_template_areas": null,
            "grid_template_columns": null,
            "grid_template_rows": null,
            "height": null,
            "justify_content": null,
            "justify_items": null,
            "left": null,
            "margin": null,
            "max_height": null,
            "max_width": null,
            "min_height": null,
            "min_width": null,
            "object_fit": null,
            "object_position": null,
            "order": null,
            "overflow": null,
            "overflow_x": null,
            "overflow_y": null,
            "padding": null,
            "right": null,
            "top": null,
            "visibility": null,
            "width": null
          }
        },
        "0c642055378c43c981550318e6afd919": {
          "model_module": "@jupyter-widgets/controls",
          "model_name": "DescriptionStyleModel",
          "model_module_version": "1.5.0",
          "state": {
            "_model_module": "@jupyter-widgets/controls",
            "_model_module_version": "1.5.0",
            "_model_name": "DescriptionStyleModel",
            "_view_count": null,
            "_view_module": "@jupyter-widgets/base",
            "_view_module_version": "1.2.0",
            "_view_name": "StyleView",
            "description_width": ""
          }
        },
        "a00cace96297464bb59dfb2f60d45a46": {
          "model_module": "@jupyter-widgets/base",
          "model_name": "LayoutModel",
          "model_module_version": "1.2.0",
          "state": {
            "_model_module": "@jupyter-widgets/base",
            "_model_module_version": "1.2.0",
            "_model_name": "LayoutModel",
            "_view_count": null,
            "_view_module": "@jupyter-widgets/base",
            "_view_module_version": "1.2.0",
            "_view_name": "LayoutView",
            "align_content": null,
            "align_items": null,
            "align_self": null,
            "border": null,
            "bottom": null,
            "display": null,
            "flex": null,
            "flex_flow": null,
            "grid_area": null,
            "grid_auto_columns": null,
            "grid_auto_flow": null,
            "grid_auto_rows": null,
            "grid_column": null,
            "grid_gap": null,
            "grid_row": null,
            "grid_template_areas": null,
            "grid_template_columns": null,
            "grid_template_rows": null,
            "height": null,
            "justify_content": null,
            "justify_items": null,
            "left": null,
            "margin": null,
            "max_height": null,
            "max_width": null,
            "min_height": null,
            "min_width": null,
            "object_fit": null,
            "object_position": null,
            "order": null,
            "overflow": null,
            "overflow_x": null,
            "overflow_y": null,
            "padding": null,
            "right": null,
            "top": null,
            "visibility": null,
            "width": null
          }
        },
        "52ddac72c1a04ae0a87f0abf02d536ac": {
          "model_module": "@jupyter-widgets/controls",
          "model_name": "ProgressStyleModel",
          "model_module_version": "1.5.0",
          "state": {
            "_model_module": "@jupyter-widgets/controls",
            "_model_module_version": "1.5.0",
            "_model_name": "ProgressStyleModel",
            "_view_count": null,
            "_view_module": "@jupyter-widgets/base",
            "_view_module_version": "1.2.0",
            "_view_name": "StyleView",
            "bar_color": null,
            "description_width": ""
          }
        },
        "324842a7a8f841a7bd94b8e960086b4c": {
          "model_module": "@jupyter-widgets/controls",
          "model_name": "VBoxModel",
          "model_module_version": "1.5.0",
          "state": {
            "_dom_classes": [],
            "_model_module": "@jupyter-widgets/controls",
            "_model_module_version": "1.5.0",
            "_model_name": "VBoxModel",
            "_view_count": null,
            "_view_module": "@jupyter-widgets/controls",
            "_view_module_version": "1.5.0",
            "_view_name": "VBoxView",
            "box_style": "",
            "children": [
              "IPY_MODEL_73de96dc7a584f138595fb497182ee9c",
              "IPY_MODEL_4694ce6ffd564c73a341a7daf67f1244"
            ],
            "layout": "IPY_MODEL_06c3716fa67b471a9a5dc98a26ebab6a"
          }
        },
        "73de96dc7a584f138595fb497182ee9c": {
          "model_module": "@jupyter-widgets/controls",
          "model_name": "LabelModel",
          "model_module_version": "1.5.0",
          "state": {
            "_dom_classes": [],
            "_model_module": "@jupyter-widgets/controls",
            "_model_module_version": "1.5.0",
            "_model_name": "LabelModel",
            "_view_count": null,
            "_view_module": "@jupyter-widgets/controls",
            "_view_module_version": "1.5.0",
            "_view_name": "LabelView",
            "description": "",
            "description_tooltip": null,
            "layout": "IPY_MODEL_b14336e2f8ec4adc982deda60a9aa56c",
            "placeholder": "​",
            "style": "IPY_MODEL_a2bb93f098554304b7f145fea7127add",
            "value": "0.010 MB of 0.010 MB uploaded\r"
          }
        },
        "4694ce6ffd564c73a341a7daf67f1244": {
          "model_module": "@jupyter-widgets/controls",
          "model_name": "FloatProgressModel",
          "model_module_version": "1.5.0",
          "state": {
            "_dom_classes": [],
            "_model_module": "@jupyter-widgets/controls",
            "_model_module_version": "1.5.0",
            "_model_name": "FloatProgressModel",
            "_view_count": null,
            "_view_module": "@jupyter-widgets/controls",
            "_view_module_version": "1.5.0",
            "_view_name": "ProgressView",
            "bar_style": "",
            "description": "",
            "description_tooltip": null,
            "layout": "IPY_MODEL_de7ace0dc2ac41b098edb5e9cdfe3e7b",
            "max": 1,
            "min": 0,
            "orientation": "horizontal",
            "style": "IPY_MODEL_2a0103b731bd4973bbc27e8456f3b157",
            "value": 1
          }
        },
        "06c3716fa67b471a9a5dc98a26ebab6a": {
          "model_module": "@jupyter-widgets/base",
          "model_name": "LayoutModel",
          "model_module_version": "1.2.0",
          "state": {
            "_model_module": "@jupyter-widgets/base",
            "_model_module_version": "1.2.0",
            "_model_name": "LayoutModel",
            "_view_count": null,
            "_view_module": "@jupyter-widgets/base",
            "_view_module_version": "1.2.0",
            "_view_name": "LayoutView",
            "align_content": null,
            "align_items": null,
            "align_self": null,
            "border": null,
            "bottom": null,
            "display": null,
            "flex": null,
            "flex_flow": null,
            "grid_area": null,
            "grid_auto_columns": null,
            "grid_auto_flow": null,
            "grid_auto_rows": null,
            "grid_column": null,
            "grid_gap": null,
            "grid_row": null,
            "grid_template_areas": null,
            "grid_template_columns": null,
            "grid_template_rows": null,
            "height": null,
            "justify_content": null,
            "justify_items": null,
            "left": null,
            "margin": null,
            "max_height": null,
            "max_width": null,
            "min_height": null,
            "min_width": null,
            "object_fit": null,
            "object_position": null,
            "order": null,
            "overflow": null,
            "overflow_x": null,
            "overflow_y": null,
            "padding": null,
            "right": null,
            "top": null,
            "visibility": null,
            "width": null
          }
        },
        "b14336e2f8ec4adc982deda60a9aa56c": {
          "model_module": "@jupyter-widgets/base",
          "model_name": "LayoutModel",
          "model_module_version": "1.2.0",
          "state": {
            "_model_module": "@jupyter-widgets/base",
            "_model_module_version": "1.2.0",
            "_model_name": "LayoutModel",
            "_view_count": null,
            "_view_module": "@jupyter-widgets/base",
            "_view_module_version": "1.2.0",
            "_view_name": "LayoutView",
            "align_content": null,
            "align_items": null,
            "align_self": null,
            "border": null,
            "bottom": null,
            "display": null,
            "flex": null,
            "flex_flow": null,
            "grid_area": null,
            "grid_auto_columns": null,
            "grid_auto_flow": null,
            "grid_auto_rows": null,
            "grid_column": null,
            "grid_gap": null,
            "grid_row": null,
            "grid_template_areas": null,
            "grid_template_columns": null,
            "grid_template_rows": null,
            "height": null,
            "justify_content": null,
            "justify_items": null,
            "left": null,
            "margin": null,
            "max_height": null,
            "max_width": null,
            "min_height": null,
            "min_width": null,
            "object_fit": null,
            "object_position": null,
            "order": null,
            "overflow": null,
            "overflow_x": null,
            "overflow_y": null,
            "padding": null,
            "right": null,
            "top": null,
            "visibility": null,
            "width": null
          }
        },
        "a2bb93f098554304b7f145fea7127add": {
          "model_module": "@jupyter-widgets/controls",
          "model_name": "DescriptionStyleModel",
          "model_module_version": "1.5.0",
          "state": {
            "_model_module": "@jupyter-widgets/controls",
            "_model_module_version": "1.5.0",
            "_model_name": "DescriptionStyleModel",
            "_view_count": null,
            "_view_module": "@jupyter-widgets/base",
            "_view_module_version": "1.2.0",
            "_view_name": "StyleView",
            "description_width": ""
          }
        },
        "de7ace0dc2ac41b098edb5e9cdfe3e7b": {
          "model_module": "@jupyter-widgets/base",
          "model_name": "LayoutModel",
          "model_module_version": "1.2.0",
          "state": {
            "_model_module": "@jupyter-widgets/base",
            "_model_module_version": "1.2.0",
            "_model_name": "LayoutModel",
            "_view_count": null,
            "_view_module": "@jupyter-widgets/base",
            "_view_module_version": "1.2.0",
            "_view_name": "LayoutView",
            "align_content": null,
            "align_items": null,
            "align_self": null,
            "border": null,
            "bottom": null,
            "display": null,
            "flex": null,
            "flex_flow": null,
            "grid_area": null,
            "grid_auto_columns": null,
            "grid_auto_flow": null,
            "grid_auto_rows": null,
            "grid_column": null,
            "grid_gap": null,
            "grid_row": null,
            "grid_template_areas": null,
            "grid_template_columns": null,
            "grid_template_rows": null,
            "height": null,
            "justify_content": null,
            "justify_items": null,
            "left": null,
            "margin": null,
            "max_height": null,
            "max_width": null,
            "min_height": null,
            "min_width": null,
            "object_fit": null,
            "object_position": null,
            "order": null,
            "overflow": null,
            "overflow_x": null,
            "overflow_y": null,
            "padding": null,
            "right": null,
            "top": null,
            "visibility": null,
            "width": null
          }
        },
        "2a0103b731bd4973bbc27e8456f3b157": {
          "model_module": "@jupyter-widgets/controls",
          "model_name": "ProgressStyleModel",
          "model_module_version": "1.5.0",
          "state": {
            "_model_module": "@jupyter-widgets/controls",
            "_model_module_version": "1.5.0",
            "_model_name": "ProgressStyleModel",
            "_view_count": null,
            "_view_module": "@jupyter-widgets/base",
            "_view_module_version": "1.2.0",
            "_view_name": "StyleView",
            "bar_color": null,
            "description_width": ""
          }
        },
        "c668bf9cb2a846b4ba93582d486d8f4d": {
          "model_module": "@jupyter-widgets/controls",
          "model_name": "VBoxModel",
          "model_module_version": "1.5.0",
          "state": {
            "_dom_classes": [],
            "_model_module": "@jupyter-widgets/controls",
            "_model_module_version": "1.5.0",
            "_model_name": "VBoxModel",
            "_view_count": null,
            "_view_module": "@jupyter-widgets/controls",
            "_view_module_version": "1.5.0",
            "_view_name": "VBoxView",
            "box_style": "",
            "children": [
              "IPY_MODEL_2d414aa43852474398904e03246d2d9f",
              "IPY_MODEL_c29a4e96970646be9af0844553ced779"
            ],
            "layout": "IPY_MODEL_65e5c60a8b34445d82521e67b37206ee"
          }
        },
        "2d414aa43852474398904e03246d2d9f": {
          "model_module": "@jupyter-widgets/controls",
          "model_name": "LabelModel",
          "model_module_version": "1.5.0",
          "state": {
            "_dom_classes": [],
            "_model_module": "@jupyter-widgets/controls",
            "_model_module_version": "1.5.0",
            "_model_name": "LabelModel",
            "_view_count": null,
            "_view_module": "@jupyter-widgets/controls",
            "_view_module_version": "1.5.0",
            "_view_name": "LabelView",
            "description": "",
            "description_tooltip": null,
            "layout": "IPY_MODEL_63e2a582ecd04549bffca2b58cfbc6ff",
            "placeholder": "​",
            "style": "IPY_MODEL_97d3e7b51404457395836c0199ccf931",
            "value": "0.010 MB of 0.010 MB uploaded\r"
          }
        },
        "c29a4e96970646be9af0844553ced779": {
          "model_module": "@jupyter-widgets/controls",
          "model_name": "FloatProgressModel",
          "model_module_version": "1.5.0",
          "state": {
            "_dom_classes": [],
            "_model_module": "@jupyter-widgets/controls",
            "_model_module_version": "1.5.0",
            "_model_name": "FloatProgressModel",
            "_view_count": null,
            "_view_module": "@jupyter-widgets/controls",
            "_view_module_version": "1.5.0",
            "_view_name": "ProgressView",
            "bar_style": "",
            "description": "",
            "description_tooltip": null,
            "layout": "IPY_MODEL_924df14e235547e2acc519fe0c0be10c",
            "max": 1,
            "min": 0,
            "orientation": "horizontal",
            "style": "IPY_MODEL_9b2b8280188b418dafaebf19f606d500",
            "value": 1
          }
        },
        "65e5c60a8b34445d82521e67b37206ee": {
          "model_module": "@jupyter-widgets/base",
          "model_name": "LayoutModel",
          "model_module_version": "1.2.0",
          "state": {
            "_model_module": "@jupyter-widgets/base",
            "_model_module_version": "1.2.0",
            "_model_name": "LayoutModel",
            "_view_count": null,
            "_view_module": "@jupyter-widgets/base",
            "_view_module_version": "1.2.0",
            "_view_name": "LayoutView",
            "align_content": null,
            "align_items": null,
            "align_self": null,
            "border": null,
            "bottom": null,
            "display": null,
            "flex": null,
            "flex_flow": null,
            "grid_area": null,
            "grid_auto_columns": null,
            "grid_auto_flow": null,
            "grid_auto_rows": null,
            "grid_column": null,
            "grid_gap": null,
            "grid_row": null,
            "grid_template_areas": null,
            "grid_template_columns": null,
            "grid_template_rows": null,
            "height": null,
            "justify_content": null,
            "justify_items": null,
            "left": null,
            "margin": null,
            "max_height": null,
            "max_width": null,
            "min_height": null,
            "min_width": null,
            "object_fit": null,
            "object_position": null,
            "order": null,
            "overflow": null,
            "overflow_x": null,
            "overflow_y": null,
            "padding": null,
            "right": null,
            "top": null,
            "visibility": null,
            "width": null
          }
        },
        "63e2a582ecd04549bffca2b58cfbc6ff": {
          "model_module": "@jupyter-widgets/base",
          "model_name": "LayoutModel",
          "model_module_version": "1.2.0",
          "state": {
            "_model_module": "@jupyter-widgets/base",
            "_model_module_version": "1.2.0",
            "_model_name": "LayoutModel",
            "_view_count": null,
            "_view_module": "@jupyter-widgets/base",
            "_view_module_version": "1.2.0",
            "_view_name": "LayoutView",
            "align_content": null,
            "align_items": null,
            "align_self": null,
            "border": null,
            "bottom": null,
            "display": null,
            "flex": null,
            "flex_flow": null,
            "grid_area": null,
            "grid_auto_columns": null,
            "grid_auto_flow": null,
            "grid_auto_rows": null,
            "grid_column": null,
            "grid_gap": null,
            "grid_row": null,
            "grid_template_areas": null,
            "grid_template_columns": null,
            "grid_template_rows": null,
            "height": null,
            "justify_content": null,
            "justify_items": null,
            "left": null,
            "margin": null,
            "max_height": null,
            "max_width": null,
            "min_height": null,
            "min_width": null,
            "object_fit": null,
            "object_position": null,
            "order": null,
            "overflow": null,
            "overflow_x": null,
            "overflow_y": null,
            "padding": null,
            "right": null,
            "top": null,
            "visibility": null,
            "width": null
          }
        },
        "97d3e7b51404457395836c0199ccf931": {
          "model_module": "@jupyter-widgets/controls",
          "model_name": "DescriptionStyleModel",
          "model_module_version": "1.5.0",
          "state": {
            "_model_module": "@jupyter-widgets/controls",
            "_model_module_version": "1.5.0",
            "_model_name": "DescriptionStyleModel",
            "_view_count": null,
            "_view_module": "@jupyter-widgets/base",
            "_view_module_version": "1.2.0",
            "_view_name": "StyleView",
            "description_width": ""
          }
        },
        "924df14e235547e2acc519fe0c0be10c": {
          "model_module": "@jupyter-widgets/base",
          "model_name": "LayoutModel",
          "model_module_version": "1.2.0",
          "state": {
            "_model_module": "@jupyter-widgets/base",
            "_model_module_version": "1.2.0",
            "_model_name": "LayoutModel",
            "_view_count": null,
            "_view_module": "@jupyter-widgets/base",
            "_view_module_version": "1.2.0",
            "_view_name": "LayoutView",
            "align_content": null,
            "align_items": null,
            "align_self": null,
            "border": null,
            "bottom": null,
            "display": null,
            "flex": null,
            "flex_flow": null,
            "grid_area": null,
            "grid_auto_columns": null,
            "grid_auto_flow": null,
            "grid_auto_rows": null,
            "grid_column": null,
            "grid_gap": null,
            "grid_row": null,
            "grid_template_areas": null,
            "grid_template_columns": null,
            "grid_template_rows": null,
            "height": null,
            "justify_content": null,
            "justify_items": null,
            "left": null,
            "margin": null,
            "max_height": null,
            "max_width": null,
            "min_height": null,
            "min_width": null,
            "object_fit": null,
            "object_position": null,
            "order": null,
            "overflow": null,
            "overflow_x": null,
            "overflow_y": null,
            "padding": null,
            "right": null,
            "top": null,
            "visibility": null,
            "width": null
          }
        },
        "9b2b8280188b418dafaebf19f606d500": {
          "model_module": "@jupyter-widgets/controls",
          "model_name": "ProgressStyleModel",
          "model_module_version": "1.5.0",
          "state": {
            "_model_module": "@jupyter-widgets/controls",
            "_model_module_version": "1.5.0",
            "_model_name": "ProgressStyleModel",
            "_view_count": null,
            "_view_module": "@jupyter-widgets/base",
            "_view_module_version": "1.2.0",
            "_view_name": "StyleView",
            "bar_color": null,
            "description_width": ""
          }
        },
        "569d2f8bed4f44e5a6917b9ddecadd20": {
          "model_module": "@jupyter-widgets/controls",
          "model_name": "VBoxModel",
          "model_module_version": "1.5.0",
          "state": {
            "_dom_classes": [],
            "_model_module": "@jupyter-widgets/controls",
            "_model_module_version": "1.5.0",
            "_model_name": "VBoxModel",
            "_view_count": null,
            "_view_module": "@jupyter-widgets/controls",
            "_view_module_version": "1.5.0",
            "_view_name": "VBoxView",
            "box_style": "",
            "children": [
              "IPY_MODEL_490e59c487314ac5b2e44c808971e866",
              "IPY_MODEL_6a6fad10626840b8a0df1e991847c2c4"
            ],
            "layout": "IPY_MODEL_64fea62239304634a870430fafad37f5"
          }
        },
        "490e59c487314ac5b2e44c808971e866": {
          "model_module": "@jupyter-widgets/controls",
          "model_name": "LabelModel",
          "model_module_version": "1.5.0",
          "state": {
            "_dom_classes": [],
            "_model_module": "@jupyter-widgets/controls",
            "_model_module_version": "1.5.0",
            "_model_name": "LabelModel",
            "_view_count": null,
            "_view_module": "@jupyter-widgets/controls",
            "_view_module_version": "1.5.0",
            "_view_name": "LabelView",
            "description": "",
            "description_tooltip": null,
            "layout": "IPY_MODEL_525852fbd55742629993da07e9e87e11",
            "placeholder": "​",
            "style": "IPY_MODEL_b392ae28797148c8b28527b731c94149",
            "value": "0.010 MB of 0.010 MB uploaded\r"
          }
        },
        "6a6fad10626840b8a0df1e991847c2c4": {
          "model_module": "@jupyter-widgets/controls",
          "model_name": "FloatProgressModel",
          "model_module_version": "1.5.0",
          "state": {
            "_dom_classes": [],
            "_model_module": "@jupyter-widgets/controls",
            "_model_module_version": "1.5.0",
            "_model_name": "FloatProgressModel",
            "_view_count": null,
            "_view_module": "@jupyter-widgets/controls",
            "_view_module_version": "1.5.0",
            "_view_name": "ProgressView",
            "bar_style": "",
            "description": "",
            "description_tooltip": null,
            "layout": "IPY_MODEL_07ff16c9dc4e4fec8a5c26addbf73ddf",
            "max": 1,
            "min": 0,
            "orientation": "horizontal",
            "style": "IPY_MODEL_135564b15ad9404d9249b250d60e9ff4",
            "value": 1
          }
        },
        "64fea62239304634a870430fafad37f5": {
          "model_module": "@jupyter-widgets/base",
          "model_name": "LayoutModel",
          "model_module_version": "1.2.0",
          "state": {
            "_model_module": "@jupyter-widgets/base",
            "_model_module_version": "1.2.0",
            "_model_name": "LayoutModel",
            "_view_count": null,
            "_view_module": "@jupyter-widgets/base",
            "_view_module_version": "1.2.0",
            "_view_name": "LayoutView",
            "align_content": null,
            "align_items": null,
            "align_self": null,
            "border": null,
            "bottom": null,
            "display": null,
            "flex": null,
            "flex_flow": null,
            "grid_area": null,
            "grid_auto_columns": null,
            "grid_auto_flow": null,
            "grid_auto_rows": null,
            "grid_column": null,
            "grid_gap": null,
            "grid_row": null,
            "grid_template_areas": null,
            "grid_template_columns": null,
            "grid_template_rows": null,
            "height": null,
            "justify_content": null,
            "justify_items": null,
            "left": null,
            "margin": null,
            "max_height": null,
            "max_width": null,
            "min_height": null,
            "min_width": null,
            "object_fit": null,
            "object_position": null,
            "order": null,
            "overflow": null,
            "overflow_x": null,
            "overflow_y": null,
            "padding": null,
            "right": null,
            "top": null,
            "visibility": null,
            "width": null
          }
        },
        "525852fbd55742629993da07e9e87e11": {
          "model_module": "@jupyter-widgets/base",
          "model_name": "LayoutModel",
          "model_module_version": "1.2.0",
          "state": {
            "_model_module": "@jupyter-widgets/base",
            "_model_module_version": "1.2.0",
            "_model_name": "LayoutModel",
            "_view_count": null,
            "_view_module": "@jupyter-widgets/base",
            "_view_module_version": "1.2.0",
            "_view_name": "LayoutView",
            "align_content": null,
            "align_items": null,
            "align_self": null,
            "border": null,
            "bottom": null,
            "display": null,
            "flex": null,
            "flex_flow": null,
            "grid_area": null,
            "grid_auto_columns": null,
            "grid_auto_flow": null,
            "grid_auto_rows": null,
            "grid_column": null,
            "grid_gap": null,
            "grid_row": null,
            "grid_template_areas": null,
            "grid_template_columns": null,
            "grid_template_rows": null,
            "height": null,
            "justify_content": null,
            "justify_items": null,
            "left": null,
            "margin": null,
            "max_height": null,
            "max_width": null,
            "min_height": null,
            "min_width": null,
            "object_fit": null,
            "object_position": null,
            "order": null,
            "overflow": null,
            "overflow_x": null,
            "overflow_y": null,
            "padding": null,
            "right": null,
            "top": null,
            "visibility": null,
            "width": null
          }
        },
        "b392ae28797148c8b28527b731c94149": {
          "model_module": "@jupyter-widgets/controls",
          "model_name": "DescriptionStyleModel",
          "model_module_version": "1.5.0",
          "state": {
            "_model_module": "@jupyter-widgets/controls",
            "_model_module_version": "1.5.0",
            "_model_name": "DescriptionStyleModel",
            "_view_count": null,
            "_view_module": "@jupyter-widgets/base",
            "_view_module_version": "1.2.0",
            "_view_name": "StyleView",
            "description_width": ""
          }
        },
        "07ff16c9dc4e4fec8a5c26addbf73ddf": {
          "model_module": "@jupyter-widgets/base",
          "model_name": "LayoutModel",
          "model_module_version": "1.2.0",
          "state": {
            "_model_module": "@jupyter-widgets/base",
            "_model_module_version": "1.2.0",
            "_model_name": "LayoutModel",
            "_view_count": null,
            "_view_module": "@jupyter-widgets/base",
            "_view_module_version": "1.2.0",
            "_view_name": "LayoutView",
            "align_content": null,
            "align_items": null,
            "align_self": null,
            "border": null,
            "bottom": null,
            "display": null,
            "flex": null,
            "flex_flow": null,
            "grid_area": null,
            "grid_auto_columns": null,
            "grid_auto_flow": null,
            "grid_auto_rows": null,
            "grid_column": null,
            "grid_gap": null,
            "grid_row": null,
            "grid_template_areas": null,
            "grid_template_columns": null,
            "grid_template_rows": null,
            "height": null,
            "justify_content": null,
            "justify_items": null,
            "left": null,
            "margin": null,
            "max_height": null,
            "max_width": null,
            "min_height": null,
            "min_width": null,
            "object_fit": null,
            "object_position": null,
            "order": null,
            "overflow": null,
            "overflow_x": null,
            "overflow_y": null,
            "padding": null,
            "right": null,
            "top": null,
            "visibility": null,
            "width": null
          }
        },
        "135564b15ad9404d9249b250d60e9ff4": {
          "model_module": "@jupyter-widgets/controls",
          "model_name": "ProgressStyleModel",
          "model_module_version": "1.5.0",
          "state": {
            "_model_module": "@jupyter-widgets/controls",
            "_model_module_version": "1.5.0",
            "_model_name": "ProgressStyleModel",
            "_view_count": null,
            "_view_module": "@jupyter-widgets/base",
            "_view_module_version": "1.2.0",
            "_view_name": "StyleView",
            "bar_color": null,
            "description_width": ""
          }
        },
        "1a788790f60d4fb9bbc8b1a8997dc031": {
          "model_module": "@jupyter-widgets/controls",
          "model_name": "VBoxModel",
          "model_module_version": "1.5.0",
          "state": {
            "_dom_classes": [],
            "_model_module": "@jupyter-widgets/controls",
            "_model_module_version": "1.5.0",
            "_model_name": "VBoxModel",
            "_view_count": null,
            "_view_module": "@jupyter-widgets/controls",
            "_view_module_version": "1.5.0",
            "_view_name": "VBoxView",
            "box_style": "",
            "children": [
              "IPY_MODEL_c8c80d364b7c474e9f3fae641c871ddb",
              "IPY_MODEL_a7de3c8ff548426da75a8ab0119ba42e"
            ],
            "layout": "IPY_MODEL_d0f1ee35f2ea417bbcfeb822d8191488"
          }
        },
        "c8c80d364b7c474e9f3fae641c871ddb": {
          "model_module": "@jupyter-widgets/controls",
          "model_name": "LabelModel",
          "model_module_version": "1.5.0",
          "state": {
            "_dom_classes": [],
            "_model_module": "@jupyter-widgets/controls",
            "_model_module_version": "1.5.0",
            "_model_name": "LabelModel",
            "_view_count": null,
            "_view_module": "@jupyter-widgets/controls",
            "_view_module_version": "1.5.0",
            "_view_name": "LabelView",
            "description": "",
            "description_tooltip": null,
            "layout": "IPY_MODEL_bef10f885ad244ad929fc4d67bf070af",
            "placeholder": "​",
            "style": "IPY_MODEL_14ff52c7c32d45ed91c5fa9f4530e928",
            "value": "0.010 MB of 0.010 MB uploaded\r"
          }
        },
        "a7de3c8ff548426da75a8ab0119ba42e": {
          "model_module": "@jupyter-widgets/controls",
          "model_name": "FloatProgressModel",
          "model_module_version": "1.5.0",
          "state": {
            "_dom_classes": [],
            "_model_module": "@jupyter-widgets/controls",
            "_model_module_version": "1.5.0",
            "_model_name": "FloatProgressModel",
            "_view_count": null,
            "_view_module": "@jupyter-widgets/controls",
            "_view_module_version": "1.5.0",
            "_view_name": "ProgressView",
            "bar_style": "",
            "description": "",
            "description_tooltip": null,
            "layout": "IPY_MODEL_d3a8eb058cdb4259bba4f8aba8864392",
            "max": 1,
            "min": 0,
            "orientation": "horizontal",
            "style": "IPY_MODEL_37fc06947dab4af1a6cfcd5b6bbd0872",
            "value": 1
          }
        },
        "d0f1ee35f2ea417bbcfeb822d8191488": {
          "model_module": "@jupyter-widgets/base",
          "model_name": "LayoutModel",
          "model_module_version": "1.2.0",
          "state": {
            "_model_module": "@jupyter-widgets/base",
            "_model_module_version": "1.2.0",
            "_model_name": "LayoutModel",
            "_view_count": null,
            "_view_module": "@jupyter-widgets/base",
            "_view_module_version": "1.2.0",
            "_view_name": "LayoutView",
            "align_content": null,
            "align_items": null,
            "align_self": null,
            "border": null,
            "bottom": null,
            "display": null,
            "flex": null,
            "flex_flow": null,
            "grid_area": null,
            "grid_auto_columns": null,
            "grid_auto_flow": null,
            "grid_auto_rows": null,
            "grid_column": null,
            "grid_gap": null,
            "grid_row": null,
            "grid_template_areas": null,
            "grid_template_columns": null,
            "grid_template_rows": null,
            "height": null,
            "justify_content": null,
            "justify_items": null,
            "left": null,
            "margin": null,
            "max_height": null,
            "max_width": null,
            "min_height": null,
            "min_width": null,
            "object_fit": null,
            "object_position": null,
            "order": null,
            "overflow": null,
            "overflow_x": null,
            "overflow_y": null,
            "padding": null,
            "right": null,
            "top": null,
            "visibility": null,
            "width": null
          }
        },
        "bef10f885ad244ad929fc4d67bf070af": {
          "model_module": "@jupyter-widgets/base",
          "model_name": "LayoutModel",
          "model_module_version": "1.2.0",
          "state": {
            "_model_module": "@jupyter-widgets/base",
            "_model_module_version": "1.2.0",
            "_model_name": "LayoutModel",
            "_view_count": null,
            "_view_module": "@jupyter-widgets/base",
            "_view_module_version": "1.2.0",
            "_view_name": "LayoutView",
            "align_content": null,
            "align_items": null,
            "align_self": null,
            "border": null,
            "bottom": null,
            "display": null,
            "flex": null,
            "flex_flow": null,
            "grid_area": null,
            "grid_auto_columns": null,
            "grid_auto_flow": null,
            "grid_auto_rows": null,
            "grid_column": null,
            "grid_gap": null,
            "grid_row": null,
            "grid_template_areas": null,
            "grid_template_columns": null,
            "grid_template_rows": null,
            "height": null,
            "justify_content": null,
            "justify_items": null,
            "left": null,
            "margin": null,
            "max_height": null,
            "max_width": null,
            "min_height": null,
            "min_width": null,
            "object_fit": null,
            "object_position": null,
            "order": null,
            "overflow": null,
            "overflow_x": null,
            "overflow_y": null,
            "padding": null,
            "right": null,
            "top": null,
            "visibility": null,
            "width": null
          }
        },
        "14ff52c7c32d45ed91c5fa9f4530e928": {
          "model_module": "@jupyter-widgets/controls",
          "model_name": "DescriptionStyleModel",
          "model_module_version": "1.5.0",
          "state": {
            "_model_module": "@jupyter-widgets/controls",
            "_model_module_version": "1.5.0",
            "_model_name": "DescriptionStyleModel",
            "_view_count": null,
            "_view_module": "@jupyter-widgets/base",
            "_view_module_version": "1.2.0",
            "_view_name": "StyleView",
            "description_width": ""
          }
        },
        "d3a8eb058cdb4259bba4f8aba8864392": {
          "model_module": "@jupyter-widgets/base",
          "model_name": "LayoutModel",
          "model_module_version": "1.2.0",
          "state": {
            "_model_module": "@jupyter-widgets/base",
            "_model_module_version": "1.2.0",
            "_model_name": "LayoutModel",
            "_view_count": null,
            "_view_module": "@jupyter-widgets/base",
            "_view_module_version": "1.2.0",
            "_view_name": "LayoutView",
            "align_content": null,
            "align_items": null,
            "align_self": null,
            "border": null,
            "bottom": null,
            "display": null,
            "flex": null,
            "flex_flow": null,
            "grid_area": null,
            "grid_auto_columns": null,
            "grid_auto_flow": null,
            "grid_auto_rows": null,
            "grid_column": null,
            "grid_gap": null,
            "grid_row": null,
            "grid_template_areas": null,
            "grid_template_columns": null,
            "grid_template_rows": null,
            "height": null,
            "justify_content": null,
            "justify_items": null,
            "left": null,
            "margin": null,
            "max_height": null,
            "max_width": null,
            "min_height": null,
            "min_width": null,
            "object_fit": null,
            "object_position": null,
            "order": null,
            "overflow": null,
            "overflow_x": null,
            "overflow_y": null,
            "padding": null,
            "right": null,
            "top": null,
            "visibility": null,
            "width": null
          }
        },
        "37fc06947dab4af1a6cfcd5b6bbd0872": {
          "model_module": "@jupyter-widgets/controls",
          "model_name": "ProgressStyleModel",
          "model_module_version": "1.5.0",
          "state": {
            "_model_module": "@jupyter-widgets/controls",
            "_model_module_version": "1.5.0",
            "_model_name": "ProgressStyleModel",
            "_view_count": null,
            "_view_module": "@jupyter-widgets/base",
            "_view_module_version": "1.2.0",
            "_view_name": "StyleView",
            "bar_color": null,
            "description_width": ""
          }
        },
        "438fd2a26ede4eb68e0f786d19462ca4": {
          "model_module": "@jupyter-widgets/controls",
          "model_name": "VBoxModel",
          "model_module_version": "1.5.0",
          "state": {
            "_dom_classes": [],
            "_model_module": "@jupyter-widgets/controls",
            "_model_module_version": "1.5.0",
            "_model_name": "VBoxModel",
            "_view_count": null,
            "_view_module": "@jupyter-widgets/controls",
            "_view_module_version": "1.5.0",
            "_view_name": "VBoxView",
            "box_style": "",
            "children": [
              "IPY_MODEL_31983afbf568407aa4a47e293763914f",
              "IPY_MODEL_0d24635ab13e4086913e20ee5c2d1adf"
            ],
            "layout": "IPY_MODEL_59938d69520a4e8e98a949784fbfb1c2"
          }
        },
        "31983afbf568407aa4a47e293763914f": {
          "model_module": "@jupyter-widgets/controls",
          "model_name": "LabelModel",
          "model_module_version": "1.5.0",
          "state": {
            "_dom_classes": [],
            "_model_module": "@jupyter-widgets/controls",
            "_model_module_version": "1.5.0",
            "_model_name": "LabelModel",
            "_view_count": null,
            "_view_module": "@jupyter-widgets/controls",
            "_view_module_version": "1.5.0",
            "_view_name": "LabelView",
            "description": "",
            "description_tooltip": null,
            "layout": "IPY_MODEL_662c40ea390b46659a4c7c4ec7311fbc",
            "placeholder": "​",
            "style": "IPY_MODEL_d7829c25006f497097c4442a145baeb6",
            "value": "0.337 MB of 0.337 MB uploaded\r"
          }
        },
        "0d24635ab13e4086913e20ee5c2d1adf": {
          "model_module": "@jupyter-widgets/controls",
          "model_name": "FloatProgressModel",
          "model_module_version": "1.5.0",
          "state": {
            "_dom_classes": [],
            "_model_module": "@jupyter-widgets/controls",
            "_model_module_version": "1.5.0",
            "_model_name": "FloatProgressModel",
            "_view_count": null,
            "_view_module": "@jupyter-widgets/controls",
            "_view_module_version": "1.5.0",
            "_view_name": "ProgressView",
            "bar_style": "",
            "description": "",
            "description_tooltip": null,
            "layout": "IPY_MODEL_da2f9ef0ab2b4efa8c3c390d0b020027",
            "max": 1,
            "min": 0,
            "orientation": "horizontal",
            "style": "IPY_MODEL_0e40b7f230ac4be59dcef6353553c0d5",
            "value": 1
          }
        },
        "59938d69520a4e8e98a949784fbfb1c2": {
          "model_module": "@jupyter-widgets/base",
          "model_name": "LayoutModel",
          "model_module_version": "1.2.0",
          "state": {
            "_model_module": "@jupyter-widgets/base",
            "_model_module_version": "1.2.0",
            "_model_name": "LayoutModel",
            "_view_count": null,
            "_view_module": "@jupyter-widgets/base",
            "_view_module_version": "1.2.0",
            "_view_name": "LayoutView",
            "align_content": null,
            "align_items": null,
            "align_self": null,
            "border": null,
            "bottom": null,
            "display": null,
            "flex": null,
            "flex_flow": null,
            "grid_area": null,
            "grid_auto_columns": null,
            "grid_auto_flow": null,
            "grid_auto_rows": null,
            "grid_column": null,
            "grid_gap": null,
            "grid_row": null,
            "grid_template_areas": null,
            "grid_template_columns": null,
            "grid_template_rows": null,
            "height": null,
            "justify_content": null,
            "justify_items": null,
            "left": null,
            "margin": null,
            "max_height": null,
            "max_width": null,
            "min_height": null,
            "min_width": null,
            "object_fit": null,
            "object_position": null,
            "order": null,
            "overflow": null,
            "overflow_x": null,
            "overflow_y": null,
            "padding": null,
            "right": null,
            "top": null,
            "visibility": null,
            "width": null
          }
        },
        "662c40ea390b46659a4c7c4ec7311fbc": {
          "model_module": "@jupyter-widgets/base",
          "model_name": "LayoutModel",
          "model_module_version": "1.2.0",
          "state": {
            "_model_module": "@jupyter-widgets/base",
            "_model_module_version": "1.2.0",
            "_model_name": "LayoutModel",
            "_view_count": null,
            "_view_module": "@jupyter-widgets/base",
            "_view_module_version": "1.2.0",
            "_view_name": "LayoutView",
            "align_content": null,
            "align_items": null,
            "align_self": null,
            "border": null,
            "bottom": null,
            "display": null,
            "flex": null,
            "flex_flow": null,
            "grid_area": null,
            "grid_auto_columns": null,
            "grid_auto_flow": null,
            "grid_auto_rows": null,
            "grid_column": null,
            "grid_gap": null,
            "grid_row": null,
            "grid_template_areas": null,
            "grid_template_columns": null,
            "grid_template_rows": null,
            "height": null,
            "justify_content": null,
            "justify_items": null,
            "left": null,
            "margin": null,
            "max_height": null,
            "max_width": null,
            "min_height": null,
            "min_width": null,
            "object_fit": null,
            "object_position": null,
            "order": null,
            "overflow": null,
            "overflow_x": null,
            "overflow_y": null,
            "padding": null,
            "right": null,
            "top": null,
            "visibility": null,
            "width": null
          }
        },
        "d7829c25006f497097c4442a145baeb6": {
          "model_module": "@jupyter-widgets/controls",
          "model_name": "DescriptionStyleModel",
          "model_module_version": "1.5.0",
          "state": {
            "_model_module": "@jupyter-widgets/controls",
            "_model_module_version": "1.5.0",
            "_model_name": "DescriptionStyleModel",
            "_view_count": null,
            "_view_module": "@jupyter-widgets/base",
            "_view_module_version": "1.2.0",
            "_view_name": "StyleView",
            "description_width": ""
          }
        },
        "da2f9ef0ab2b4efa8c3c390d0b020027": {
          "model_module": "@jupyter-widgets/base",
          "model_name": "LayoutModel",
          "model_module_version": "1.2.0",
          "state": {
            "_model_module": "@jupyter-widgets/base",
            "_model_module_version": "1.2.0",
            "_model_name": "LayoutModel",
            "_view_count": null,
            "_view_module": "@jupyter-widgets/base",
            "_view_module_version": "1.2.0",
            "_view_name": "LayoutView",
            "align_content": null,
            "align_items": null,
            "align_self": null,
            "border": null,
            "bottom": null,
            "display": null,
            "flex": null,
            "flex_flow": null,
            "grid_area": null,
            "grid_auto_columns": null,
            "grid_auto_flow": null,
            "grid_auto_rows": null,
            "grid_column": null,
            "grid_gap": null,
            "grid_row": null,
            "grid_template_areas": null,
            "grid_template_columns": null,
            "grid_template_rows": null,
            "height": null,
            "justify_content": null,
            "justify_items": null,
            "left": null,
            "margin": null,
            "max_height": null,
            "max_width": null,
            "min_height": null,
            "min_width": null,
            "object_fit": null,
            "object_position": null,
            "order": null,
            "overflow": null,
            "overflow_x": null,
            "overflow_y": null,
            "padding": null,
            "right": null,
            "top": null,
            "visibility": null,
            "width": null
          }
        },
        "0e40b7f230ac4be59dcef6353553c0d5": {
          "model_module": "@jupyter-widgets/controls",
          "model_name": "ProgressStyleModel",
          "model_module_version": "1.5.0",
          "state": {
            "_model_module": "@jupyter-widgets/controls",
            "_model_module_version": "1.5.0",
            "_model_name": "ProgressStyleModel",
            "_view_count": null,
            "_view_module": "@jupyter-widgets/base",
            "_view_module_version": "1.2.0",
            "_view_name": "StyleView",
            "bar_color": null,
            "description_width": ""
          }
        }
      }
    }
  },
  "cells": [
    {
      "cell_type": "markdown",
      "metadata": {
        "id": "0I4pgzLVtBTP"
      },
      "source": [
        "# 1.0 An end-to-end classification problem (Training)\n",
        "\n"
      ]
    },
    {
      "cell_type": "markdown",
      "metadata": {
        "id": "Dh34gim6KPtT"
      },
      "source": [
        "## 1.1 Dataset description"
      ]
    },
    {
      "cell_type": "markdown",
      "metadata": {
        "id": "iE8OJoDZ5AFK"
      },
      "source": [
        "We'll be looking at individual income in the United States. The **data** is from the **1994 census**, and contains information on an individual's **marital status**, **age**, **type of work**, and more. The **target column**, or what we want to predict, is whether individuals make less than or equal to 50k a year, or more than **50k a year**.\n",
        "\n",
        "You can download the data from the [University of California, Irvine's website](http://archive.ics.uci.edu/ml/datasets/Adult).\n",
        "\n",
        "Let's take the following steps:\n",
        "\n",
        "1. ETL (done)\n",
        "2. Data Checks (done)\n",
        "3. Data Segregation (done)\n",
        "4. Training\n",
        "\n",
        "<center><img width=\"800\" src=\"https://drive.google.com/uc?export=view&id=13kfVPzq-Jy-kH6GcJRfB44lIYAu5mtGl\"></center>\n"
      ]
    },
    {
      "cell_type": "markdown",
      "metadata": {
        "id": "7UpxKxU1Ej7f"
      },
      "source": [
        "## 1.2 Install, load libraries"
      ]
    },
    {
      "cell_type": "code",
      "execution_count": null,
      "metadata": {
        "id": "t82KewAPWCYe"
      },
      "outputs": [],
      "source": [
        "!pip install wandb"
      ]
    },
    {
      "cell_type": "code",
      "source": [
        "import logging\n",
        "import wandb\n",
        "import pandas as pd\n",
        "import numpy as np\n",
        "import joblib\n",
        "import matplotlib.pyplot as plt\n",
        "from sklearn.model_selection import train_test_split\n",
        "from sklearn.neighbors import LocalOutlierFactor\n",
        "from sklearn.preprocessing import LabelEncoder\n",
        "from sklearn.preprocessing import OneHotEncoder\n",
        "from sklearn.base import BaseEstimator, TransformerMixin\n",
        "from sklearn.preprocessing import MinMaxScaler\n",
        "from sklearn.preprocessing import StandardScaler\n",
        "from sklearn.preprocessing import OneHotEncoder\n",
        "from sklearn.pipeline import Pipeline, FeatureUnion\n",
        "from sklearn.tree import DecisionTreeClassifier\n",
        "from sklearn.impute import SimpleImputer\n",
        "from sklearn.metrics import fbeta_score, precision_score, recall_score, accuracy_score\n",
        "from sklearn.metrics import classification_report\n",
        "from sklearn.metrics import confusion_matrix\n",
        "from sklearn.metrics import ConfusionMatrixDisplay"
      ],
      "metadata": {
        "id": "NreRnbvI8lL5"
      },
      "execution_count": 2,
      "outputs": []
    },
    {
      "cell_type": "code",
      "source": [
        "# Login to Weights & Biases\n",
        "!wandb login c31b37325ded6fca6cc264d97e82531864b3d69a"
      ],
      "metadata": {
        "id": "QZXcN54GkP25",
        "colab": {
          "base_uri": "https://localhost:8080/"
        },
        "outputId": "03e71410-0746-4de0-a5b2-5e712699ac51"
      },
      "execution_count": 3,
      "outputs": [
        {
          "output_type": "stream",
          "name": "stdout",
          "text": [
            "\u001b[34m\u001b[1mwandb\u001b[0m: Appending key for api.wandb.ai to your netrc file: /root/.netrc\n"
          ]
        }
      ]
    },
    {
      "cell_type": "markdown",
      "source": [
        "## 1.3 Holdout Configuration"
      ],
      "metadata": {
        "id": "BeMVUzr08AK8"
      }
    },
    {
      "cell_type": "markdown",
      "source": [
        "<center><img width=\"800\" src=\"https://drive.google.com/uc?export=view&id=1C2SEVnhyEd_lBpdTuwL3aTxNXh5-ktVX\"></center>"
      ],
      "metadata": {
        "id": "-ExC7k2h7Jb0"
      }
    },
    {
      "cell_type": "code",
      "source": [
        "# global variables\n",
        "\n",
        "# ratio used to split train and validation data\n",
        "val_size = 0.30\n",
        "\n",
        "# seed used to reproduce purposes\n",
        "seed = 41\n",
        "\n",
        "# reference (column) to stratify the data\n",
        "stratify = \"high_income\"\n",
        "\n",
        "# name of the input artifact\n",
        "artifact_input_name = \"decision_tree/train.csv:latest\"\n",
        "\n",
        "# type of the artifact\n",
        "artifact_type = \"Train\""
      ],
      "metadata": {
        "id": "sZzaS0x8ZYUB"
      },
      "execution_count": 4,
      "outputs": []
    },
    {
      "cell_type": "code",
      "source": [
        "# configure logging\n",
        "logging.basicConfig(level=logging.INFO,\n",
        "                    format=\"%(asctime)s %(message)s\",\n",
        "                    datefmt='%d-%m-%Y %H:%M:%S')\n",
        "\n",
        "# reference for a logging obj\n",
        "logger = logging.getLogger()\n",
        "\n",
        "# initiate the wandb project\n",
        "run = wandb.init(project=\"decision_tree\",job_type=\"train\")\n",
        "\n",
        "logger.info(\"Downloading and reading train artifact\")\n",
        "local_path = run.use_artifact(artifact_input_name).file()\n",
        "df_train = pd.read_csv(local_path)\n",
        "\n",
        "# Spliting train.csv into train and validation dataset\n",
        "logger.info(\"Spliting data into train/val\")\n",
        "# split-out train/validation and test dataset\n",
        "x_train, x_val, y_train, y_val = train_test_split(df_train.drop(labels=stratify,axis=1),\n",
        "                                                  df_train[stratify],\n",
        "                                                  test_size=val_size,\n",
        "                                                  random_state=seed,\n",
        "                                                  shuffle=True,\n",
        "                                                  stratify=df_train[stratify])"
      ],
      "metadata": {
        "id": "VILw-BwKY2Wn",
        "colab": {
          "base_uri": "https://localhost:8080/",
          "height": 143
        },
        "outputId": "73381407-2f4d-47a2-8a2d-ce0e0d6b7272"
      },
      "execution_count": 5,
      "outputs": [
        {
          "output_type": "stream",
          "name": "stderr",
          "text": [
            "\u001b[34m\u001b[1mwandb\u001b[0m: Currently logged in as: \u001b[33mthiagotheiry05\u001b[0m (\u001b[33mteam-thiago\u001b[0m). Use \u001b[1m`wandb login --relogin`\u001b[0m to force relogin\n"
          ]
        },
        {
          "output_type": "display_data",
          "data": {
            "text/plain": [
              "<IPython.core.display.HTML object>"
            ],
            "text/html": [
              "Tracking run with wandb version 0.16.6"
            ]
          },
          "metadata": {}
        },
        {
          "output_type": "display_data",
          "data": {
            "text/plain": [
              "<IPython.core.display.HTML object>"
            ],
            "text/html": [
              "Run data is saved locally in <code>/content/wandb/run-20240417_180926-6vgmv4ea</code>"
            ]
          },
          "metadata": {}
        },
        {
          "output_type": "display_data",
          "data": {
            "text/plain": [
              "<IPython.core.display.HTML object>"
            ],
            "text/html": [
              "Syncing run <strong><a href='https://wandb.ai/team-thiago/decision_tree/runs/6vgmv4ea' target=\"_blank\">devout-sea-18</a></strong> to <a href='https://wandb.ai/team-thiago/decision_tree' target=\"_blank\">Weights & Biases</a> (<a href='https://wandb.me/run' target=\"_blank\">docs</a>)<br/>"
            ]
          },
          "metadata": {}
        },
        {
          "output_type": "display_data",
          "data": {
            "text/plain": [
              "<IPython.core.display.HTML object>"
            ],
            "text/html": [
              " View project at <a href='https://wandb.ai/team-thiago/decision_tree' target=\"_blank\">https://wandb.ai/team-thiago/decision_tree</a>"
            ]
          },
          "metadata": {}
        },
        {
          "output_type": "display_data",
          "data": {
            "text/plain": [
              "<IPython.core.display.HTML object>"
            ],
            "text/html": [
              " View run at <a href='https://wandb.ai/team-thiago/decision_tree/runs/6vgmv4ea' target=\"_blank\">https://wandb.ai/team-thiago/decision_tree/runs/6vgmv4ea</a>"
            ]
          },
          "metadata": {}
        }
      ]
    },
    {
      "cell_type": "code",
      "source": [
        "logger.info(\"x train: {}\".format(x_train.shape))\n",
        "logger.info(\"y train: {}\".format(y_train.shape))\n",
        "logger.info(\"x val: {}\".format(x_val.shape))\n",
        "logger.info(\"y val: {}\".format(y_val.shape))"
      ],
      "metadata": {
        "id": "VOFF72bq9QoB"
      },
      "execution_count": 6,
      "outputs": []
    },
    {
      "cell_type": "markdown",
      "source": [
        "## 1.4 Data preparation"
      ],
      "metadata": {
        "id": "PcqOxTYQ4z3D"
      }
    },
    {
      "cell_type": "markdown",
      "source": [
        "**Data preparation** may be the most important part of a machine learning project.\n",
        "\n",
        "```\n",
        "It is the most time-consuming part, although it seems to be the least discussed topic.\n",
        "```\n",
        "\n",
        "**Data preparation** sometimes referred to as **data preprocessing**, is the act of transforming raw data into a form that is appropriate for modeling.\n",
        "\n",
        "Machine learning algorithms require input data to be numbered, and most algorithm implementations maintain this expectation. As such, **if your data contains data types and values that are not numbers, such as labels, you will need to change the data into numbers**. Further, specific machine learning algorithms have expectations regarding the data types, scale, probability distribution, and relationships between input variables, and you may need to change the data to meet these expectations.\n",
        "\n",
        "The philosophy of **data preparation** is to discover how to best expose the unknown underlying structure of the problem to the learning algorithms. This often requires **an iterative path of experimentation through a suite of different data preparation techniques** in order to discover what works well or best. The vast majority of the machine learning algorithms you may use on a project are years to decades old. **The implementation and application of the algorithms are well understood**. So much so that they are routine, with amazing, fully-featured open-source machine learning libraries like [scikit-learn](https://scikit-learn.org/stable/) in Python.\n",
        "```\n",
        "The thing that is different from project to project is the data.\n",
        "```\n",
        "\n",
        "You may be the first person (ever!) to use a specific dataset as the basis for a predictive modeling project. As such, the **preparation of the data** in order to best present it to the problem of the learning algorithms **is the primary task of any modern machine learning project**.\n",
        "\n",
        "````\n",
        "The challenge of data preparation is that each dataset is unique and different.\n",
        "````\n",
        "\n",
        "Datasets differ in the number of variables (tens, hundreds, thousands, or more), the types of the variables (numeric, nominal, ordinal, boolean), the scale of the variables, the drift in the values over time, and more. As such, this makes discussing data preparation a challenge. Either specific case studies are used, or focus is put on the general methods that can be used across projects. The result is that neither approach is explored."
      ],
      "metadata": {
        "id": "XSNQMhXygjSB"
      }
    },
    {
      "cell_type": "markdown",
      "source": [
        "### 1.4.1 Outlier Removal"
      ],
      "metadata": {
        "id": "tt9AnGT3922Q"
      }
    },
    {
      "cell_type": "markdown",
      "source": [
        "\n",
        "<center><img width=\"800\" src=\"https://drive.google.com/uc?export=view&id=1FMN6clRy5WuUPirbNStWFTk3LnxakWWW\"></center>"
      ],
      "metadata": {
        "id": "m3SLeG77DRBB"
      }
    },
    {
      "cell_type": "code",
      "source": [
        "logger.info(\"Outlier Removal\")\n",
        "# temporary variable\n",
        "x = x_train.select_dtypes(\"int64\").copy()\n",
        "\n",
        "# identify outlier in the dataset\n",
        "lof = LocalOutlierFactor()\n",
        "outlier = lof.fit_predict(x)\n",
        "mask = outlier != -1"
      ],
      "metadata": {
        "id": "KRvgo0Ol9sPL"
      },
      "execution_count": 7,
      "outputs": []
    },
    {
      "cell_type": "code",
      "source": [
        "logger.info(\"x_train shape [original]: {}\".format(x_train.shape))\n",
        "logger.info(\"x_train shape [outlier removal]: {}\".format(x_train.loc[mask,:].shape))"
      ],
      "metadata": {
        "id": "A2Y4UgfA9-kn"
      },
      "execution_count": 8,
      "outputs": []
    },
    {
      "cell_type": "code",
      "source": [
        "# AVOID data leakage and you should not do this procedure in the preprocessing stage\n",
        "# Note that we did not perform this procedure in the validation set\n",
        "x_train = x_train.loc[mask,:].copy()\n",
        "y_train = y_train[mask].copy()"
      ],
      "metadata": {
        "id": "TD1yG61E9_xK"
      },
      "execution_count": 9,
      "outputs": []
    },
    {
      "cell_type": "markdown",
      "source": [
        "### 1.4.2 Encoding Target Variable"
      ],
      "metadata": {
        "id": "EEKvM3qL_3Hb"
      }
    },
    {
      "cell_type": "markdown",
      "source": [
        "<center><img width=\"800\" src=\"https://drive.google.com/uc?export=view&id=1oigyMuJiI5gGb9V185y_GN9skS0BRy5Y\"></center>"
      ],
      "metadata": {
        "id": "9fhdMoJBF2l5"
      }
    },
    {
      "cell_type": "code",
      "source": [
        "logger.info(\"Encoding Target Variable\")\n",
        "# define a categorical encoding for target variable\n",
        "le = LabelEncoder()\n",
        "\n",
        "# fit and transform y_train\n",
        "y_train = le.fit_transform(y_train)\n",
        "\n",
        "# transform y_test (avoiding data leakage)\n",
        "y_val = le.transform(y_val)\n",
        "\n",
        "logger.info(\"Classes [0, 1]: {}\".format(le.inverse_transform([0, 1])))"
      ],
      "metadata": {
        "id": "hGToiv4198vq"
      },
      "execution_count": 10,
      "outputs": []
    },
    {
      "cell_type": "code",
      "source": [
        "y_train"
      ],
      "metadata": {
        "id": "KjZA7Fa2ENJH",
        "colab": {
          "base_uri": "https://localhost:8080/"
        },
        "outputId": "f49b3718-56dc-4411-9d71-e6e4318c4953"
      },
      "execution_count": 11,
      "outputs": [
        {
          "output_type": "execute_result",
          "data": {
            "text/plain": [
              "array([0, 0, 0, ..., 0, 0, 0])"
            ]
          },
          "metadata": {},
          "execution_count": 11
        }
      ]
    },
    {
      "cell_type": "code",
      "source": [
        "y_val"
      ],
      "metadata": {
        "id": "vHSpkzzdEYpC",
        "colab": {
          "base_uri": "https://localhost:8080/"
        },
        "outputId": "ebe493e4-b090-4a9f-a463-484753936dca"
      },
      "execution_count": 12,
      "outputs": [
        {
          "output_type": "execute_result",
          "data": {
            "text/plain": [
              "array([0, 0, 0, ..., 0, 0, 0])"
            ]
          },
          "metadata": {},
          "execution_count": 12
        }
      ]
    },
    {
      "cell_type": "markdown",
      "source": [
        "### 1.4.3 Encoding independent variables [Experiment]\n"
      ],
      "metadata": {
        "id": "7c_W3F0IGN15"
      }
    },
    {
      "cell_type": "code",
      "source": [
        "x_train.head()"
      ],
      "metadata": {
        "id": "DB7S-d4nGkzZ"
      },
      "execution_count": null,
      "outputs": []
    },
    {
      "cell_type": "code",
      "source": [
        "x_train.workclass.unique()"
      ],
      "metadata": {
        "id": "sAFxm2RV6VLb"
      },
      "execution_count": null,
      "outputs": []
    },
    {
      "cell_type": "code",
      "source": [
        "x_train[\"sex\"].values.shape"
      ],
      "metadata": {
        "id": "Nz1tALP27B8f"
      },
      "execution_count": null,
      "outputs": []
    },
    {
      "cell_type": "code",
      "source": [
        "x_train[\"sex\"].values.reshape(-1,1).shape"
      ],
      "metadata": {
        "id": "Wo0tYaDo7GN7"
      },
      "execution_count": null,
      "outputs": []
    },
    {
      "cell_type": "code",
      "source": [
        "# just an experimentation\n",
        "\n",
        "# drop=first erase redundant column\n",
        "onehot = OneHotEncoder(sparse=False,drop=\"first\")\n",
        "\n",
        "# fit using x_train\n",
        "onehot.fit(x_train[\"sex\"].values.reshape(-1,1))\n",
        "\n",
        "# make a copy\n",
        "x_train_aux = x_train.copy()\n",
        "\n",
        "# transform train\n",
        "x_train_aux[onehot.get_feature_names_out()] = onehot.transform(x_train_aux[\"sex\"].values.reshape(-1,1))\n",
        "x_train_aux.head()"
      ],
      "metadata": {
        "id": "e9HSLsUuGY5E"
      },
      "execution_count": null,
      "outputs": []
    },
    {
      "cell_type": "code",
      "source": [
        "# Inverse transformation\n",
        "onehot.inverse_transform(np.array([0,1]).reshape(-1,1))"
      ],
      "metadata": {
        "id": "JdD7W-KWIhfc"
      },
      "execution_count": null,
      "outputs": []
    },
    {
      "cell_type": "code",
      "source": [
        "# Inverse transformation (other way)\n",
        "onehot.inverse_transform([[0],[1]])"
      ],
      "metadata": {
        "id": "46EsKOykJral"
      },
      "execution_count": null,
      "outputs": []
    },
    {
      "cell_type": "code",
      "source": [
        "# Return the name of the new feature\n",
        "onehot.get_feature_names_out()"
      ],
      "metadata": {
        "id": "Plr9Mw7UJ44T"
      },
      "execution_count": null,
      "outputs": []
    },
    {
      "cell_type": "markdown",
      "source": [
        "### 1.4.4 Encoding independent variables"
      ],
      "metadata": {
        "id": "TuoN4_opKXzp"
      }
    },
    {
      "cell_type": "code",
      "source": [
        "# Show the shape of x train before transformation\n",
        "x_train.shape"
      ],
      "metadata": {
        "id": "uEkoYcQNLmyD"
      },
      "execution_count": null,
      "outputs": []
    },
    {
      "cell_type": "code",
      "source": [
        "# Lets review what are categorical columns\n",
        "x_train.select_dtypes(\"object\").columns.to_list()"
      ],
      "metadata": {
        "id": "YFMnbI6tKbX0"
      },
      "execution_count": null,
      "outputs": []
    },
    {
      "cell_type": "code",
      "source": [
        "# 08 columns are \"object\", lets transform them to categorical\n",
        "for name in x_train.select_dtypes(\"object\").columns.to_list():\n",
        "    onehot = OneHotEncoder(sparse=False,drop=\"first\")\n",
        "    # fit using x_train\n",
        "    onehot.fit(x_train[name].values.reshape(-1,1))\n",
        "\n",
        "    # transform train and validation\n",
        "    x_train[onehot.get_feature_names_out()] = onehot.transform(x_train[name].values.reshape(-1,1))\n",
        "    x_val[onehot.get_feature_names_out()] = onehot.transform(x_val[name].values.reshape(-1,1))"
      ],
      "metadata": {
        "id": "mm8VoPdtKmmC"
      },
      "execution_count": null,
      "outputs": []
    },
    {
      "cell_type": "code",
      "source": [
        "x_train.head()"
      ],
      "metadata": {
        "id": "UspBaLsuLUzC"
      },
      "execution_count": null,
      "outputs": []
    },
    {
      "cell_type": "code",
      "source": [
        "x_val.head()"
      ],
      "metadata": {
        "id": "aZEiTzwRLg4O"
      },
      "execution_count": null,
      "outputs": []
    },
    {
      "cell_type": "code",
      "source": [
        "cols=['workclass','education','marital_status','occupation',\n",
        "      'relationship','race','sex','native_country']\n",
        "\n",
        "x_train.drop(labels=cols,axis=1,inplace=True)\n",
        "x_val.drop(labels=cols,axis=1,inplace=True)"
      ],
      "metadata": {
        "id": "TrkGdT4QLzBU"
      },
      "execution_count": null,
      "outputs": []
    },
    {
      "cell_type": "code",
      "source": [
        "x_train.head()"
      ],
      "metadata": {
        "id": "MqhsXXzPL5ql"
      },
      "execution_count": null,
      "outputs": []
    },
    {
      "cell_type": "code",
      "source": [
        "x_val.head()"
      ],
      "metadata": {
        "id": "HSRjrsQuL75B"
      },
      "execution_count": null,
      "outputs": []
    },
    {
      "cell_type": "markdown",
      "source": [
        "In thesis, after this encoding process the dataset is ready to be trained."
      ],
      "metadata": {
        "id": "zXOAm38WZXIg"
      }
    },
    {
      "cell_type": "code",
      "source": [
        "# close the current run before to execute the next section\n",
        "run.finish()"
      ],
      "metadata": {
        "id": "V9cMG590cum8"
      },
      "execution_count": null,
      "outputs": []
    },
    {
      "cell_type": "markdown",
      "source": [
        "### 1.4.5 Using a full-pipeline"
      ],
      "metadata": {
        "id": "7qcpCDX0gce4"
      }
    },
    {
      "cell_type": "markdown",
      "source": [
        "```\n",
        "A reproducible pipeline is all you need\n",
        "```\n",
        "\n",
        "To follow the next cells' execution, it is important you re-run all cells at:\n",
        "- Section 1.3\n",
        "- Section 1.4.1\n",
        "- Section 1.4.2\n",
        "\n",
        "These steps are necessary to guarantee the raw ```train.csv``` is used."
      ],
      "metadata": {
        "id": "rNRBHjI-ZscT"
      }
    },
    {
      "cell_type": "markdown",
      "source": [
        "#### 1.4.5.1 Feature Extractor"
      ],
      "metadata": {
        "id": "gF_ZLoVjjPUg"
      }
    },
    {
      "cell_type": "code",
      "source": [
        "class FeatureSelector(BaseEstimator, TransformerMixin):\n",
        "    # Class Constructor\n",
        "    def __init__(self, feature_names):\n",
        "        self.feature_names = feature_names\n",
        "\n",
        "    # Return self nothing else to do here\n",
        "    def fit(self, X, y=None):\n",
        "        return self\n",
        "\n",
        "    # Method that describes what this custom transformer need to do\n",
        "    def transform(self, X, y=None):\n",
        "        return X[self.feature_names]"
      ],
      "metadata": {
        "id": "0yn1GUbCdFmj"
      },
      "execution_count": 13,
      "outputs": []
    },
    {
      "cell_type": "code",
      "source": [
        "# for validation purposes\n",
        "fs = FeatureSelector(x_train.select_dtypes(\"object\").columns.to_list())\n",
        "df = fs.fit_transform(x_train)\n",
        "df.head()"
      ],
      "metadata": {
        "id": "DEa9qLnVirdY",
        "colab": {
          "base_uri": "https://localhost:8080/",
          "height": 330
        },
        "outputId": "b022ae70-6f63-4d5e-a51d-5887f012c84d"
      },
      "execution_count": 14,
      "outputs": [
        {
          "output_type": "execute_result",
          "data": {
            "text/plain": [
              "           workclass      education       marital_status          occupation  \\\n",
              "111          Private           11th             Divorced   Handlers-cleaners   \n",
              "22049        Private        Masters        Never-married      Prof-specialty   \n",
              "1080    Self-emp-inc        HS-grad   Married-civ-spouse    Transport-moving   \n",
              "22186    Federal-gov   Some-college              Widowed      Prof-specialty   \n",
              "6028         Private        HS-grad   Married-civ-spouse        Craft-repair   \n",
              "\n",
              "         relationship                 race      sex  native_country  \n",
              "111     Not-in-family                White     Male   United-States  \n",
              "22049   Not-in-family                White   Female   United-States  \n",
              "1080          Husband                White     Male               ?  \n",
              "22186       Unmarried   Amer-Indian-Eskimo   Female   United-States  \n",
              "6028          Husband                White     Male   United-States  "
            ],
            "text/html": [
              "\n",
              "  <div id=\"df-c078d001-0896-42dd-87cc-a5ec1556dba0\" class=\"colab-df-container\">\n",
              "    <div>\n",
              "<style scoped>\n",
              "    .dataframe tbody tr th:only-of-type {\n",
              "        vertical-align: middle;\n",
              "    }\n",
              "\n",
              "    .dataframe tbody tr th {\n",
              "        vertical-align: top;\n",
              "    }\n",
              "\n",
              "    .dataframe thead th {\n",
              "        text-align: right;\n",
              "    }\n",
              "</style>\n",
              "<table border=\"1\" class=\"dataframe\">\n",
              "  <thead>\n",
              "    <tr style=\"text-align: right;\">\n",
              "      <th></th>\n",
              "      <th>workclass</th>\n",
              "      <th>education</th>\n",
              "      <th>marital_status</th>\n",
              "      <th>occupation</th>\n",
              "      <th>relationship</th>\n",
              "      <th>race</th>\n",
              "      <th>sex</th>\n",
              "      <th>native_country</th>\n",
              "    </tr>\n",
              "  </thead>\n",
              "  <tbody>\n",
              "    <tr>\n",
              "      <th>111</th>\n",
              "      <td>Private</td>\n",
              "      <td>11th</td>\n",
              "      <td>Divorced</td>\n",
              "      <td>Handlers-cleaners</td>\n",
              "      <td>Not-in-family</td>\n",
              "      <td>White</td>\n",
              "      <td>Male</td>\n",
              "      <td>United-States</td>\n",
              "    </tr>\n",
              "    <tr>\n",
              "      <th>22049</th>\n",
              "      <td>Private</td>\n",
              "      <td>Masters</td>\n",
              "      <td>Never-married</td>\n",
              "      <td>Prof-specialty</td>\n",
              "      <td>Not-in-family</td>\n",
              "      <td>White</td>\n",
              "      <td>Female</td>\n",
              "      <td>United-States</td>\n",
              "    </tr>\n",
              "    <tr>\n",
              "      <th>1080</th>\n",
              "      <td>Self-emp-inc</td>\n",
              "      <td>HS-grad</td>\n",
              "      <td>Married-civ-spouse</td>\n",
              "      <td>Transport-moving</td>\n",
              "      <td>Husband</td>\n",
              "      <td>White</td>\n",
              "      <td>Male</td>\n",
              "      <td>?</td>\n",
              "    </tr>\n",
              "    <tr>\n",
              "      <th>22186</th>\n",
              "      <td>Federal-gov</td>\n",
              "      <td>Some-college</td>\n",
              "      <td>Widowed</td>\n",
              "      <td>Prof-specialty</td>\n",
              "      <td>Unmarried</td>\n",
              "      <td>Amer-Indian-Eskimo</td>\n",
              "      <td>Female</td>\n",
              "      <td>United-States</td>\n",
              "    </tr>\n",
              "    <tr>\n",
              "      <th>6028</th>\n",
              "      <td>Private</td>\n",
              "      <td>HS-grad</td>\n",
              "      <td>Married-civ-spouse</td>\n",
              "      <td>Craft-repair</td>\n",
              "      <td>Husband</td>\n",
              "      <td>White</td>\n",
              "      <td>Male</td>\n",
              "      <td>United-States</td>\n",
              "    </tr>\n",
              "  </tbody>\n",
              "</table>\n",
              "</div>\n",
              "    <div class=\"colab-df-buttons\">\n",
              "\n",
              "  <div class=\"colab-df-container\">\n",
              "    <button class=\"colab-df-convert\" onclick=\"convertToInteractive('df-c078d001-0896-42dd-87cc-a5ec1556dba0')\"\n",
              "            title=\"Convert this dataframe to an interactive table.\"\n",
              "            style=\"display:none;\">\n",
              "\n",
              "  <svg xmlns=\"http://www.w3.org/2000/svg\" height=\"24px\" viewBox=\"0 -960 960 960\">\n",
              "    <path d=\"M120-120v-720h720v720H120Zm60-500h600v-160H180v160Zm220 220h160v-160H400v160Zm0 220h160v-160H400v160ZM180-400h160v-160H180v160Zm440 0h160v-160H620v160ZM180-180h160v-160H180v160Zm440 0h160v-160H620v160Z\"/>\n",
              "  </svg>\n",
              "    </button>\n",
              "\n",
              "  <style>\n",
              "    .colab-df-container {\n",
              "      display:flex;\n",
              "      gap: 12px;\n",
              "    }\n",
              "\n",
              "    .colab-df-convert {\n",
              "      background-color: #E8F0FE;\n",
              "      border: none;\n",
              "      border-radius: 50%;\n",
              "      cursor: pointer;\n",
              "      display: none;\n",
              "      fill: #1967D2;\n",
              "      height: 32px;\n",
              "      padding: 0 0 0 0;\n",
              "      width: 32px;\n",
              "    }\n",
              "\n",
              "    .colab-df-convert:hover {\n",
              "      background-color: #E2EBFA;\n",
              "      box-shadow: 0px 1px 2px rgba(60, 64, 67, 0.3), 0px 1px 3px 1px rgba(60, 64, 67, 0.15);\n",
              "      fill: #174EA6;\n",
              "    }\n",
              "\n",
              "    .colab-df-buttons div {\n",
              "      margin-bottom: 4px;\n",
              "    }\n",
              "\n",
              "    [theme=dark] .colab-df-convert {\n",
              "      background-color: #3B4455;\n",
              "      fill: #D2E3FC;\n",
              "    }\n",
              "\n",
              "    [theme=dark] .colab-df-convert:hover {\n",
              "      background-color: #434B5C;\n",
              "      box-shadow: 0px 1px 3px 1px rgba(0, 0, 0, 0.15);\n",
              "      filter: drop-shadow(0px 1px 2px rgba(0, 0, 0, 0.3));\n",
              "      fill: #FFFFFF;\n",
              "    }\n",
              "  </style>\n",
              "\n",
              "    <script>\n",
              "      const buttonEl =\n",
              "        document.querySelector('#df-c078d001-0896-42dd-87cc-a5ec1556dba0 button.colab-df-convert');\n",
              "      buttonEl.style.display =\n",
              "        google.colab.kernel.accessAllowed ? 'block' : 'none';\n",
              "\n",
              "      async function convertToInteractive(key) {\n",
              "        const element = document.querySelector('#df-c078d001-0896-42dd-87cc-a5ec1556dba0');\n",
              "        const dataTable =\n",
              "          await google.colab.kernel.invokeFunction('convertToInteractive',\n",
              "                                                    [key], {});\n",
              "        if (!dataTable) return;\n",
              "\n",
              "        const docLinkHtml = 'Like what you see? Visit the ' +\n",
              "          '<a target=\"_blank\" href=https://colab.research.google.com/notebooks/data_table.ipynb>data table notebook</a>'\n",
              "          + ' to learn more about interactive tables.';\n",
              "        element.innerHTML = '';\n",
              "        dataTable['output_type'] = 'display_data';\n",
              "        await google.colab.output.renderOutput(dataTable, element);\n",
              "        const docLink = document.createElement('div');\n",
              "        docLink.innerHTML = docLinkHtml;\n",
              "        element.appendChild(docLink);\n",
              "      }\n",
              "    </script>\n",
              "  </div>\n",
              "\n",
              "\n",
              "<div id=\"df-8b19af41-46fb-42bd-b8d0-e51e8fa42a82\">\n",
              "  <button class=\"colab-df-quickchart\" onclick=\"quickchart('df-8b19af41-46fb-42bd-b8d0-e51e8fa42a82')\"\n",
              "            title=\"Suggest charts\"\n",
              "            style=\"display:none;\">\n",
              "\n",
              "<svg xmlns=\"http://www.w3.org/2000/svg\" height=\"24px\"viewBox=\"0 0 24 24\"\n",
              "     width=\"24px\">\n",
              "    <g>\n",
              "        <path d=\"M19 3H5c-1.1 0-2 .9-2 2v14c0 1.1.9 2 2 2h14c1.1 0 2-.9 2-2V5c0-1.1-.9-2-2-2zM9 17H7v-7h2v7zm4 0h-2V7h2v10zm4 0h-2v-4h2v4z\"/>\n",
              "    </g>\n",
              "</svg>\n",
              "  </button>\n",
              "\n",
              "<style>\n",
              "  .colab-df-quickchart {\n",
              "      --bg-color: #E8F0FE;\n",
              "      --fill-color: #1967D2;\n",
              "      --hover-bg-color: #E2EBFA;\n",
              "      --hover-fill-color: #174EA6;\n",
              "      --disabled-fill-color: #AAA;\n",
              "      --disabled-bg-color: #DDD;\n",
              "  }\n",
              "\n",
              "  [theme=dark] .colab-df-quickchart {\n",
              "      --bg-color: #3B4455;\n",
              "      --fill-color: #D2E3FC;\n",
              "      --hover-bg-color: #434B5C;\n",
              "      --hover-fill-color: #FFFFFF;\n",
              "      --disabled-bg-color: #3B4455;\n",
              "      --disabled-fill-color: #666;\n",
              "  }\n",
              "\n",
              "  .colab-df-quickchart {\n",
              "    background-color: var(--bg-color);\n",
              "    border: none;\n",
              "    border-radius: 50%;\n",
              "    cursor: pointer;\n",
              "    display: none;\n",
              "    fill: var(--fill-color);\n",
              "    height: 32px;\n",
              "    padding: 0;\n",
              "    width: 32px;\n",
              "  }\n",
              "\n",
              "  .colab-df-quickchart:hover {\n",
              "    background-color: var(--hover-bg-color);\n",
              "    box-shadow: 0 1px 2px rgba(60, 64, 67, 0.3), 0 1px 3px 1px rgba(60, 64, 67, 0.15);\n",
              "    fill: var(--button-hover-fill-color);\n",
              "  }\n",
              "\n",
              "  .colab-df-quickchart-complete:disabled,\n",
              "  .colab-df-quickchart-complete:disabled:hover {\n",
              "    background-color: var(--disabled-bg-color);\n",
              "    fill: var(--disabled-fill-color);\n",
              "    box-shadow: none;\n",
              "  }\n",
              "\n",
              "  .colab-df-spinner {\n",
              "    border: 2px solid var(--fill-color);\n",
              "    border-color: transparent;\n",
              "    border-bottom-color: var(--fill-color);\n",
              "    animation:\n",
              "      spin 1s steps(1) infinite;\n",
              "  }\n",
              "\n",
              "  @keyframes spin {\n",
              "    0% {\n",
              "      border-color: transparent;\n",
              "      border-bottom-color: var(--fill-color);\n",
              "      border-left-color: var(--fill-color);\n",
              "    }\n",
              "    20% {\n",
              "      border-color: transparent;\n",
              "      border-left-color: var(--fill-color);\n",
              "      border-top-color: var(--fill-color);\n",
              "    }\n",
              "    30% {\n",
              "      border-color: transparent;\n",
              "      border-left-color: var(--fill-color);\n",
              "      border-top-color: var(--fill-color);\n",
              "      border-right-color: var(--fill-color);\n",
              "    }\n",
              "    40% {\n",
              "      border-color: transparent;\n",
              "      border-right-color: var(--fill-color);\n",
              "      border-top-color: var(--fill-color);\n",
              "    }\n",
              "    60% {\n",
              "      border-color: transparent;\n",
              "      border-right-color: var(--fill-color);\n",
              "    }\n",
              "    80% {\n",
              "      border-color: transparent;\n",
              "      border-right-color: var(--fill-color);\n",
              "      border-bottom-color: var(--fill-color);\n",
              "    }\n",
              "    90% {\n",
              "      border-color: transparent;\n",
              "      border-bottom-color: var(--fill-color);\n",
              "    }\n",
              "  }\n",
              "</style>\n",
              "\n",
              "  <script>\n",
              "    async function quickchart(key) {\n",
              "      const quickchartButtonEl =\n",
              "        document.querySelector('#' + key + ' button');\n",
              "      quickchartButtonEl.disabled = true;  // To prevent multiple clicks.\n",
              "      quickchartButtonEl.classList.add('colab-df-spinner');\n",
              "      try {\n",
              "        const charts = await google.colab.kernel.invokeFunction(\n",
              "            'suggestCharts', [key], {});\n",
              "      } catch (error) {\n",
              "        console.error('Error during call to suggestCharts:', error);\n",
              "      }\n",
              "      quickchartButtonEl.classList.remove('colab-df-spinner');\n",
              "      quickchartButtonEl.classList.add('colab-df-quickchart-complete');\n",
              "    }\n",
              "    (() => {\n",
              "      let quickchartButtonEl =\n",
              "        document.querySelector('#df-8b19af41-46fb-42bd-b8d0-e51e8fa42a82 button');\n",
              "      quickchartButtonEl.style.display =\n",
              "        google.colab.kernel.accessAllowed ? 'block' : 'none';\n",
              "    })();\n",
              "  </script>\n",
              "</div>\n",
              "\n",
              "    </div>\n",
              "  </div>\n"
            ],
            "application/vnd.google.colaboratory.intrinsic+json": {
              "type": "dataframe",
              "variable_name": "df",
              "summary": "{\n  \"name\": \"df\",\n  \"rows\": 14694,\n  \"fields\": [\n    {\n      \"column\": \"workclass\",\n      \"properties\": {\n        \"dtype\": \"category\",\n        \"num_unique_values\": 9,\n        \"samples\": [\n          \" Without-pay\",\n          \" Self-emp-inc\",\n          \" Self-emp-not-inc\"\n        ],\n        \"semantic_type\": \"\",\n        \"description\": \"\"\n      }\n    },\n    {\n      \"column\": \"education\",\n      \"properties\": {\n        \"dtype\": \"category\",\n        \"num_unique_values\": 16,\n        \"samples\": [\n          \" 11th\",\n          \" Masters\",\n          \" 9th\"\n        ],\n        \"semantic_type\": \"\",\n        \"description\": \"\"\n      }\n    },\n    {\n      \"column\": \"marital_status\",\n      \"properties\": {\n        \"dtype\": \"category\",\n        \"num_unique_values\": 7,\n        \"samples\": [\n          \" Divorced\",\n          \" Never-married\",\n          \" Married-AF-spouse\"\n        ],\n        \"semantic_type\": \"\",\n        \"description\": \"\"\n      }\n    },\n    {\n      \"column\": \"occupation\",\n      \"properties\": {\n        \"dtype\": \"category\",\n        \"num_unique_values\": 15,\n        \"samples\": [\n          \" Other-service\",\n          \" Tech-support\",\n          \" Handlers-cleaners\"\n        ],\n        \"semantic_type\": \"\",\n        \"description\": \"\"\n      }\n    },\n    {\n      \"column\": \"relationship\",\n      \"properties\": {\n        \"dtype\": \"category\",\n        \"num_unique_values\": 6,\n        \"samples\": [\n          \" Not-in-family\",\n          \" Husband\",\n          \" Other-relative\"\n        ],\n        \"semantic_type\": \"\",\n        \"description\": \"\"\n      }\n    },\n    {\n      \"column\": \"race\",\n      \"properties\": {\n        \"dtype\": \"category\",\n        \"num_unique_values\": 5,\n        \"samples\": [\n          \" Amer-Indian-Eskimo\",\n          \" Asian-Pac-Islander\",\n          \" Black\"\n        ],\n        \"semantic_type\": \"\",\n        \"description\": \"\"\n      }\n    },\n    {\n      \"column\": \"sex\",\n      \"properties\": {\n        \"dtype\": \"category\",\n        \"num_unique_values\": 2,\n        \"samples\": [\n          \" Female\",\n          \" Male\"\n        ],\n        \"semantic_type\": \"\",\n        \"description\": \"\"\n      }\n    },\n    {\n      \"column\": \"native_country\",\n      \"properties\": {\n        \"dtype\": \"category\",\n        \"num_unique_values\": 41,\n        \"samples\": [\n          \" Trinadad&Tobago\",\n          \" Vietnam\"\n        ],\n        \"semantic_type\": \"\",\n        \"description\": \"\"\n      }\n    }\n  ]\n}"
            }
          },
          "metadata": {},
          "execution_count": 14
        }
      ]
    },
    {
      "cell_type": "code",
      "source": [
        "# for validation purposes\n",
        "fs = FeatureSelector(x_train.select_dtypes(\"int64\").columns.to_list())\n",
        "df = fs.fit_transform(x_train)\n",
        "df.head()"
      ],
      "metadata": {
        "id": "9GQeBeNNjB8b",
        "colab": {
          "base_uri": "https://localhost:8080/",
          "height": 226
        },
        "outputId": "25aad4df-8fe2-46e3-d019-f91e8283e293"
      },
      "execution_count": 15,
      "outputs": [
        {
          "output_type": "execute_result",
          "data": {
            "text/plain": [
              "       age  fnlwgt  education_num  capital_gain  capital_loss  hours_per_week\n",
              "111     47  344157              7             0             0              40\n",
              "22049   47   72880             14             0             0              40\n",
              "1080    44  195124              9             0             0              60\n",
              "22186   58   30111             10             0             0              40\n",
              "6028    36  162424              9             0             0              45"
            ],
            "text/html": [
              "\n",
              "  <div id=\"df-1264044d-ca65-4b53-a4d1-3ed7b3b2a4e8\" class=\"colab-df-container\">\n",
              "    <div>\n",
              "<style scoped>\n",
              "    .dataframe tbody tr th:only-of-type {\n",
              "        vertical-align: middle;\n",
              "    }\n",
              "\n",
              "    .dataframe tbody tr th {\n",
              "        vertical-align: top;\n",
              "    }\n",
              "\n",
              "    .dataframe thead th {\n",
              "        text-align: right;\n",
              "    }\n",
              "</style>\n",
              "<table border=\"1\" class=\"dataframe\">\n",
              "  <thead>\n",
              "    <tr style=\"text-align: right;\">\n",
              "      <th></th>\n",
              "      <th>age</th>\n",
              "      <th>fnlwgt</th>\n",
              "      <th>education_num</th>\n",
              "      <th>capital_gain</th>\n",
              "      <th>capital_loss</th>\n",
              "      <th>hours_per_week</th>\n",
              "    </tr>\n",
              "  </thead>\n",
              "  <tbody>\n",
              "    <tr>\n",
              "      <th>111</th>\n",
              "      <td>47</td>\n",
              "      <td>344157</td>\n",
              "      <td>7</td>\n",
              "      <td>0</td>\n",
              "      <td>0</td>\n",
              "      <td>40</td>\n",
              "    </tr>\n",
              "    <tr>\n",
              "      <th>22049</th>\n",
              "      <td>47</td>\n",
              "      <td>72880</td>\n",
              "      <td>14</td>\n",
              "      <td>0</td>\n",
              "      <td>0</td>\n",
              "      <td>40</td>\n",
              "    </tr>\n",
              "    <tr>\n",
              "      <th>1080</th>\n",
              "      <td>44</td>\n",
              "      <td>195124</td>\n",
              "      <td>9</td>\n",
              "      <td>0</td>\n",
              "      <td>0</td>\n",
              "      <td>60</td>\n",
              "    </tr>\n",
              "    <tr>\n",
              "      <th>22186</th>\n",
              "      <td>58</td>\n",
              "      <td>30111</td>\n",
              "      <td>10</td>\n",
              "      <td>0</td>\n",
              "      <td>0</td>\n",
              "      <td>40</td>\n",
              "    </tr>\n",
              "    <tr>\n",
              "      <th>6028</th>\n",
              "      <td>36</td>\n",
              "      <td>162424</td>\n",
              "      <td>9</td>\n",
              "      <td>0</td>\n",
              "      <td>0</td>\n",
              "      <td>45</td>\n",
              "    </tr>\n",
              "  </tbody>\n",
              "</table>\n",
              "</div>\n",
              "    <div class=\"colab-df-buttons\">\n",
              "\n",
              "  <div class=\"colab-df-container\">\n",
              "    <button class=\"colab-df-convert\" onclick=\"convertToInteractive('df-1264044d-ca65-4b53-a4d1-3ed7b3b2a4e8')\"\n",
              "            title=\"Convert this dataframe to an interactive table.\"\n",
              "            style=\"display:none;\">\n",
              "\n",
              "  <svg xmlns=\"http://www.w3.org/2000/svg\" height=\"24px\" viewBox=\"0 -960 960 960\">\n",
              "    <path d=\"M120-120v-720h720v720H120Zm60-500h600v-160H180v160Zm220 220h160v-160H400v160Zm0 220h160v-160H400v160ZM180-400h160v-160H180v160Zm440 0h160v-160H620v160ZM180-180h160v-160H180v160Zm440 0h160v-160H620v160Z\"/>\n",
              "  </svg>\n",
              "    </button>\n",
              "\n",
              "  <style>\n",
              "    .colab-df-container {\n",
              "      display:flex;\n",
              "      gap: 12px;\n",
              "    }\n",
              "\n",
              "    .colab-df-convert {\n",
              "      background-color: #E8F0FE;\n",
              "      border: none;\n",
              "      border-radius: 50%;\n",
              "      cursor: pointer;\n",
              "      display: none;\n",
              "      fill: #1967D2;\n",
              "      height: 32px;\n",
              "      padding: 0 0 0 0;\n",
              "      width: 32px;\n",
              "    }\n",
              "\n",
              "    .colab-df-convert:hover {\n",
              "      background-color: #E2EBFA;\n",
              "      box-shadow: 0px 1px 2px rgba(60, 64, 67, 0.3), 0px 1px 3px 1px rgba(60, 64, 67, 0.15);\n",
              "      fill: #174EA6;\n",
              "    }\n",
              "\n",
              "    .colab-df-buttons div {\n",
              "      margin-bottom: 4px;\n",
              "    }\n",
              "\n",
              "    [theme=dark] .colab-df-convert {\n",
              "      background-color: #3B4455;\n",
              "      fill: #D2E3FC;\n",
              "    }\n",
              "\n",
              "    [theme=dark] .colab-df-convert:hover {\n",
              "      background-color: #434B5C;\n",
              "      box-shadow: 0px 1px 3px 1px rgba(0, 0, 0, 0.15);\n",
              "      filter: drop-shadow(0px 1px 2px rgba(0, 0, 0, 0.3));\n",
              "      fill: #FFFFFF;\n",
              "    }\n",
              "  </style>\n",
              "\n",
              "    <script>\n",
              "      const buttonEl =\n",
              "        document.querySelector('#df-1264044d-ca65-4b53-a4d1-3ed7b3b2a4e8 button.colab-df-convert');\n",
              "      buttonEl.style.display =\n",
              "        google.colab.kernel.accessAllowed ? 'block' : 'none';\n",
              "\n",
              "      async function convertToInteractive(key) {\n",
              "        const element = document.querySelector('#df-1264044d-ca65-4b53-a4d1-3ed7b3b2a4e8');\n",
              "        const dataTable =\n",
              "          await google.colab.kernel.invokeFunction('convertToInteractive',\n",
              "                                                    [key], {});\n",
              "        if (!dataTable) return;\n",
              "\n",
              "        const docLinkHtml = 'Like what you see? Visit the ' +\n",
              "          '<a target=\"_blank\" href=https://colab.research.google.com/notebooks/data_table.ipynb>data table notebook</a>'\n",
              "          + ' to learn more about interactive tables.';\n",
              "        element.innerHTML = '';\n",
              "        dataTable['output_type'] = 'display_data';\n",
              "        await google.colab.output.renderOutput(dataTable, element);\n",
              "        const docLink = document.createElement('div');\n",
              "        docLink.innerHTML = docLinkHtml;\n",
              "        element.appendChild(docLink);\n",
              "      }\n",
              "    </script>\n",
              "  </div>\n",
              "\n",
              "\n",
              "<div id=\"df-52b89d11-6ee3-4b32-a591-0d8abc17127f\">\n",
              "  <button class=\"colab-df-quickchart\" onclick=\"quickchart('df-52b89d11-6ee3-4b32-a591-0d8abc17127f')\"\n",
              "            title=\"Suggest charts\"\n",
              "            style=\"display:none;\">\n",
              "\n",
              "<svg xmlns=\"http://www.w3.org/2000/svg\" height=\"24px\"viewBox=\"0 0 24 24\"\n",
              "     width=\"24px\">\n",
              "    <g>\n",
              "        <path d=\"M19 3H5c-1.1 0-2 .9-2 2v14c0 1.1.9 2 2 2h14c1.1 0 2-.9 2-2V5c0-1.1-.9-2-2-2zM9 17H7v-7h2v7zm4 0h-2V7h2v10zm4 0h-2v-4h2v4z\"/>\n",
              "    </g>\n",
              "</svg>\n",
              "  </button>\n",
              "\n",
              "<style>\n",
              "  .colab-df-quickchart {\n",
              "      --bg-color: #E8F0FE;\n",
              "      --fill-color: #1967D2;\n",
              "      --hover-bg-color: #E2EBFA;\n",
              "      --hover-fill-color: #174EA6;\n",
              "      --disabled-fill-color: #AAA;\n",
              "      --disabled-bg-color: #DDD;\n",
              "  }\n",
              "\n",
              "  [theme=dark] .colab-df-quickchart {\n",
              "      --bg-color: #3B4455;\n",
              "      --fill-color: #D2E3FC;\n",
              "      --hover-bg-color: #434B5C;\n",
              "      --hover-fill-color: #FFFFFF;\n",
              "      --disabled-bg-color: #3B4455;\n",
              "      --disabled-fill-color: #666;\n",
              "  }\n",
              "\n",
              "  .colab-df-quickchart {\n",
              "    background-color: var(--bg-color);\n",
              "    border: none;\n",
              "    border-radius: 50%;\n",
              "    cursor: pointer;\n",
              "    display: none;\n",
              "    fill: var(--fill-color);\n",
              "    height: 32px;\n",
              "    padding: 0;\n",
              "    width: 32px;\n",
              "  }\n",
              "\n",
              "  .colab-df-quickchart:hover {\n",
              "    background-color: var(--hover-bg-color);\n",
              "    box-shadow: 0 1px 2px rgba(60, 64, 67, 0.3), 0 1px 3px 1px rgba(60, 64, 67, 0.15);\n",
              "    fill: var(--button-hover-fill-color);\n",
              "  }\n",
              "\n",
              "  .colab-df-quickchart-complete:disabled,\n",
              "  .colab-df-quickchart-complete:disabled:hover {\n",
              "    background-color: var(--disabled-bg-color);\n",
              "    fill: var(--disabled-fill-color);\n",
              "    box-shadow: none;\n",
              "  }\n",
              "\n",
              "  .colab-df-spinner {\n",
              "    border: 2px solid var(--fill-color);\n",
              "    border-color: transparent;\n",
              "    border-bottom-color: var(--fill-color);\n",
              "    animation:\n",
              "      spin 1s steps(1) infinite;\n",
              "  }\n",
              "\n",
              "  @keyframes spin {\n",
              "    0% {\n",
              "      border-color: transparent;\n",
              "      border-bottom-color: var(--fill-color);\n",
              "      border-left-color: var(--fill-color);\n",
              "    }\n",
              "    20% {\n",
              "      border-color: transparent;\n",
              "      border-left-color: var(--fill-color);\n",
              "      border-top-color: var(--fill-color);\n",
              "    }\n",
              "    30% {\n",
              "      border-color: transparent;\n",
              "      border-left-color: var(--fill-color);\n",
              "      border-top-color: var(--fill-color);\n",
              "      border-right-color: var(--fill-color);\n",
              "    }\n",
              "    40% {\n",
              "      border-color: transparent;\n",
              "      border-right-color: var(--fill-color);\n",
              "      border-top-color: var(--fill-color);\n",
              "    }\n",
              "    60% {\n",
              "      border-color: transparent;\n",
              "      border-right-color: var(--fill-color);\n",
              "    }\n",
              "    80% {\n",
              "      border-color: transparent;\n",
              "      border-right-color: var(--fill-color);\n",
              "      border-bottom-color: var(--fill-color);\n",
              "    }\n",
              "    90% {\n",
              "      border-color: transparent;\n",
              "      border-bottom-color: var(--fill-color);\n",
              "    }\n",
              "  }\n",
              "</style>\n",
              "\n",
              "  <script>\n",
              "    async function quickchart(key) {\n",
              "      const quickchartButtonEl =\n",
              "        document.querySelector('#' + key + ' button');\n",
              "      quickchartButtonEl.disabled = true;  // To prevent multiple clicks.\n",
              "      quickchartButtonEl.classList.add('colab-df-spinner');\n",
              "      try {\n",
              "        const charts = await google.colab.kernel.invokeFunction(\n",
              "            'suggestCharts', [key], {});\n",
              "      } catch (error) {\n",
              "        console.error('Error during call to suggestCharts:', error);\n",
              "      }\n",
              "      quickchartButtonEl.classList.remove('colab-df-spinner');\n",
              "      quickchartButtonEl.classList.add('colab-df-quickchart-complete');\n",
              "    }\n",
              "    (() => {\n",
              "      let quickchartButtonEl =\n",
              "        document.querySelector('#df-52b89d11-6ee3-4b32-a591-0d8abc17127f button');\n",
              "      quickchartButtonEl.style.display =\n",
              "        google.colab.kernel.accessAllowed ? 'block' : 'none';\n",
              "    })();\n",
              "  </script>\n",
              "</div>\n",
              "\n",
              "    </div>\n",
              "  </div>\n"
            ],
            "application/vnd.google.colaboratory.intrinsic+json": {
              "type": "dataframe",
              "variable_name": "df",
              "summary": "{\n  \"name\": \"df\",\n  \"rows\": 14694,\n  \"fields\": [\n    {\n      \"column\": \"age\",\n      \"properties\": {\n        \"dtype\": \"number\",\n        \"std\": 13,\n        \"min\": 17,\n        \"max\": 90,\n        \"num_unique_values\": 71,\n        \"samples\": [\n          39,\n          47,\n          60\n        ],\n        \"semantic_type\": \"\",\n        \"description\": \"\"\n      }\n    },\n    {\n      \"column\": \"fnlwgt\",\n      \"properties\": {\n        \"dtype\": \"number\",\n        \"std\": 102527,\n        \"min\": 19214,\n        \"max\": 816750,\n        \"num_unique_values\": 11790,\n        \"samples\": [\n          280169,\n          104542,\n          363405\n        ],\n        \"semantic_type\": \"\",\n        \"description\": \"\"\n      }\n    },\n    {\n      \"column\": \"education_num\",\n      \"properties\": {\n        \"dtype\": \"number\",\n        \"std\": 2,\n        \"min\": 1,\n        \"max\": 16,\n        \"num_unique_values\": 16,\n        \"samples\": [\n          7,\n          14,\n          5\n        ],\n        \"semantic_type\": \"\",\n        \"description\": \"\"\n      }\n    },\n    {\n      \"column\": \"capital_gain\",\n      \"properties\": {\n        \"dtype\": \"number\",\n        \"std\": 7019,\n        \"min\": 0,\n        \"max\": 99999,\n        \"num_unique_values\": 68,\n        \"samples\": [\n          3471,\n          3908,\n          7430\n        ],\n        \"semantic_type\": \"\",\n        \"description\": \"\"\n      }\n    },\n    {\n      \"column\": \"capital_loss\",\n      \"properties\": {\n        \"dtype\": \"number\",\n        \"std\": 145,\n        \"min\": 0,\n        \"max\": 3900,\n        \"num_unique_values\": 35,\n        \"samples\": [\n          3900,\n          2179,\n          2051\n        ],\n        \"semantic_type\": \"\",\n        \"description\": \"\"\n      }\n    },\n    {\n      \"column\": \"hours_per_week\",\n      \"properties\": {\n        \"dtype\": \"number\",\n        \"std\": 12,\n        \"min\": 1,\n        \"max\": 99,\n        \"num_unique_values\": 90,\n        \"samples\": [\n          27,\n          55,\n          39\n        ],\n        \"semantic_type\": \"\",\n        \"description\": \"\"\n      }\n    }\n  ]\n}"
            }
          },
          "metadata": {},
          "execution_count": 15
        }
      ]
    },
    {
      "cell_type": "markdown",
      "source": [
        "#### 1.4.5.2 Handling Categorical Features"
      ],
      "metadata": {
        "id": "_ofrw3WLjVay"
      }
    },
    {
      "cell_type": "code",
      "source": [
        "# Handling categorical features\n",
        "class CategoricalTransformer(BaseEstimator, TransformerMixin):\n",
        "    # Class constructor method that takes one boolean as its argument\n",
        "    def __init__(self, new_features=True, colnames=None):\n",
        "        self.new_features = new_features\n",
        "        self.colnames = colnames\n",
        "\n",
        "    # Return self nothing else to do here\n",
        "    def fit(self, X, y=None):\n",
        "        return self\n",
        "\n",
        "    def get_feature_names_out(self):\n",
        "        return self.colnames.tolist()\n",
        "\n",
        "    # Transformer method we wrote for this transformer\n",
        "    def transform(self, X, y=None):\n",
        "        df = pd.DataFrame(X, columns=self.colnames)\n",
        "\n",
        "        # Remove white space in categorical features\n",
        "        df = df.apply(lambda row: row.str.strip())\n",
        "\n",
        "        # customize feature?\n",
        "        # How can I identify what needs to be modified? EDA!!!!\n",
        "        if self.new_features:\n",
        "\n",
        "            # minimize the cardinality of native_country feature\n",
        "            # check cardinality using df.native_country.unique()\n",
        "            df.loc[df['native_country'] != 'United-States','native_country'] = 'non_usa'\n",
        "\n",
        "            # replace ? with Unknown\n",
        "            edit_cols = ['native_country', 'occupation', 'workclass']\n",
        "            for col in edit_cols:\n",
        "                df.loc[df[col] == '?', col] = 'unknown'\n",
        "\n",
        "            # decrease the cardinality of education feature\n",
        "            hs_grad = ['HS-grad', '11th', '10th', '9th', '12th']\n",
        "            elementary = ['1st-4th', '5th-6th', '7th-8th']\n",
        "            # replace\n",
        "            df['education'].replace(to_replace=hs_grad,value='HS-grad',inplace=True)\n",
        "            df['education'].replace(to_replace=elementary,value='elementary_school',inplace=True)\n",
        "\n",
        "            # adjust marital_status feature\n",
        "            married = ['Married-spouse-absent','Married-civ-spouse','Married-AF-spouse']\n",
        "            separated = ['Separated', 'Divorced']\n",
        "\n",
        "            # replace\n",
        "            df['marital_status'].replace(to_replace=married, value='Married', inplace=True)\n",
        "            df['marital_status'].replace(to_replace=separated, value='Separated', inplace=True)\n",
        "\n",
        "            # adjust workclass feature\n",
        "            self_employed = ['Self-emp-not-inc', 'Self-emp-inc']\n",
        "            govt_employees = ['Local-gov', 'State-gov', 'Federal-gov']\n",
        "\n",
        "            # replace elements in list.\n",
        "            df['workclass'].replace(to_replace=self_employed,value='Self_employed',inplace=True)\n",
        "            df['workclass'].replace(to_replace=govt_employees,value='Govt_employees',inplace=True)\n",
        "\n",
        "        # update column names\n",
        "        self.colnames = df.columns\n",
        "\n",
        "        return df\n"
      ],
      "metadata": {
        "id": "Od5QTxwdhqgL"
      },
      "execution_count": 16,
      "outputs": []
    },
    {
      "cell_type": "code",
      "source": [
        "# for validation purposes\n",
        "fs = FeatureSelector(x_train.select_dtypes(\"object\").columns.to_list())\n",
        "df = fs.fit_transform(x_train)\n",
        "df.head()"
      ],
      "metadata": {
        "id": "j6BYQho9mQHU",
        "colab": {
          "base_uri": "https://localhost:8080/",
          "height": 330
        },
        "outputId": "10805021-336c-4a7a-b21a-0190d141d070"
      },
      "execution_count": 17,
      "outputs": [
        {
          "output_type": "execute_result",
          "data": {
            "text/plain": [
              "           workclass      education       marital_status          occupation  \\\n",
              "111          Private           11th             Divorced   Handlers-cleaners   \n",
              "22049        Private        Masters        Never-married      Prof-specialty   \n",
              "1080    Self-emp-inc        HS-grad   Married-civ-spouse    Transport-moving   \n",
              "22186    Federal-gov   Some-college              Widowed      Prof-specialty   \n",
              "6028         Private        HS-grad   Married-civ-spouse        Craft-repair   \n",
              "\n",
              "         relationship                 race      sex  native_country  \n",
              "111     Not-in-family                White     Male   United-States  \n",
              "22049   Not-in-family                White   Female   United-States  \n",
              "1080          Husband                White     Male               ?  \n",
              "22186       Unmarried   Amer-Indian-Eskimo   Female   United-States  \n",
              "6028          Husband                White     Male   United-States  "
            ],
            "text/html": [
              "\n",
              "  <div id=\"df-ac1749c9-f969-4460-9259-8156f8351529\" class=\"colab-df-container\">\n",
              "    <div>\n",
              "<style scoped>\n",
              "    .dataframe tbody tr th:only-of-type {\n",
              "        vertical-align: middle;\n",
              "    }\n",
              "\n",
              "    .dataframe tbody tr th {\n",
              "        vertical-align: top;\n",
              "    }\n",
              "\n",
              "    .dataframe thead th {\n",
              "        text-align: right;\n",
              "    }\n",
              "</style>\n",
              "<table border=\"1\" class=\"dataframe\">\n",
              "  <thead>\n",
              "    <tr style=\"text-align: right;\">\n",
              "      <th></th>\n",
              "      <th>workclass</th>\n",
              "      <th>education</th>\n",
              "      <th>marital_status</th>\n",
              "      <th>occupation</th>\n",
              "      <th>relationship</th>\n",
              "      <th>race</th>\n",
              "      <th>sex</th>\n",
              "      <th>native_country</th>\n",
              "    </tr>\n",
              "  </thead>\n",
              "  <tbody>\n",
              "    <tr>\n",
              "      <th>111</th>\n",
              "      <td>Private</td>\n",
              "      <td>11th</td>\n",
              "      <td>Divorced</td>\n",
              "      <td>Handlers-cleaners</td>\n",
              "      <td>Not-in-family</td>\n",
              "      <td>White</td>\n",
              "      <td>Male</td>\n",
              "      <td>United-States</td>\n",
              "    </tr>\n",
              "    <tr>\n",
              "      <th>22049</th>\n",
              "      <td>Private</td>\n",
              "      <td>Masters</td>\n",
              "      <td>Never-married</td>\n",
              "      <td>Prof-specialty</td>\n",
              "      <td>Not-in-family</td>\n",
              "      <td>White</td>\n",
              "      <td>Female</td>\n",
              "      <td>United-States</td>\n",
              "    </tr>\n",
              "    <tr>\n",
              "      <th>1080</th>\n",
              "      <td>Self-emp-inc</td>\n",
              "      <td>HS-grad</td>\n",
              "      <td>Married-civ-spouse</td>\n",
              "      <td>Transport-moving</td>\n",
              "      <td>Husband</td>\n",
              "      <td>White</td>\n",
              "      <td>Male</td>\n",
              "      <td>?</td>\n",
              "    </tr>\n",
              "    <tr>\n",
              "      <th>22186</th>\n",
              "      <td>Federal-gov</td>\n",
              "      <td>Some-college</td>\n",
              "      <td>Widowed</td>\n",
              "      <td>Prof-specialty</td>\n",
              "      <td>Unmarried</td>\n",
              "      <td>Amer-Indian-Eskimo</td>\n",
              "      <td>Female</td>\n",
              "      <td>United-States</td>\n",
              "    </tr>\n",
              "    <tr>\n",
              "      <th>6028</th>\n",
              "      <td>Private</td>\n",
              "      <td>HS-grad</td>\n",
              "      <td>Married-civ-spouse</td>\n",
              "      <td>Craft-repair</td>\n",
              "      <td>Husband</td>\n",
              "      <td>White</td>\n",
              "      <td>Male</td>\n",
              "      <td>United-States</td>\n",
              "    </tr>\n",
              "  </tbody>\n",
              "</table>\n",
              "</div>\n",
              "    <div class=\"colab-df-buttons\">\n",
              "\n",
              "  <div class=\"colab-df-container\">\n",
              "    <button class=\"colab-df-convert\" onclick=\"convertToInteractive('df-ac1749c9-f969-4460-9259-8156f8351529')\"\n",
              "            title=\"Convert this dataframe to an interactive table.\"\n",
              "            style=\"display:none;\">\n",
              "\n",
              "  <svg xmlns=\"http://www.w3.org/2000/svg\" height=\"24px\" viewBox=\"0 -960 960 960\">\n",
              "    <path d=\"M120-120v-720h720v720H120Zm60-500h600v-160H180v160Zm220 220h160v-160H400v160Zm0 220h160v-160H400v160ZM180-400h160v-160H180v160Zm440 0h160v-160H620v160ZM180-180h160v-160H180v160Zm440 0h160v-160H620v160Z\"/>\n",
              "  </svg>\n",
              "    </button>\n",
              "\n",
              "  <style>\n",
              "    .colab-df-container {\n",
              "      display:flex;\n",
              "      gap: 12px;\n",
              "    }\n",
              "\n",
              "    .colab-df-convert {\n",
              "      background-color: #E8F0FE;\n",
              "      border: none;\n",
              "      border-radius: 50%;\n",
              "      cursor: pointer;\n",
              "      display: none;\n",
              "      fill: #1967D2;\n",
              "      height: 32px;\n",
              "      padding: 0 0 0 0;\n",
              "      width: 32px;\n",
              "    }\n",
              "\n",
              "    .colab-df-convert:hover {\n",
              "      background-color: #E2EBFA;\n",
              "      box-shadow: 0px 1px 2px rgba(60, 64, 67, 0.3), 0px 1px 3px 1px rgba(60, 64, 67, 0.15);\n",
              "      fill: #174EA6;\n",
              "    }\n",
              "\n",
              "    .colab-df-buttons div {\n",
              "      margin-bottom: 4px;\n",
              "    }\n",
              "\n",
              "    [theme=dark] .colab-df-convert {\n",
              "      background-color: #3B4455;\n",
              "      fill: #D2E3FC;\n",
              "    }\n",
              "\n",
              "    [theme=dark] .colab-df-convert:hover {\n",
              "      background-color: #434B5C;\n",
              "      box-shadow: 0px 1px 3px 1px rgba(0, 0, 0, 0.15);\n",
              "      filter: drop-shadow(0px 1px 2px rgba(0, 0, 0, 0.3));\n",
              "      fill: #FFFFFF;\n",
              "    }\n",
              "  </style>\n",
              "\n",
              "    <script>\n",
              "      const buttonEl =\n",
              "        document.querySelector('#df-ac1749c9-f969-4460-9259-8156f8351529 button.colab-df-convert');\n",
              "      buttonEl.style.display =\n",
              "        google.colab.kernel.accessAllowed ? 'block' : 'none';\n",
              "\n",
              "      async function convertToInteractive(key) {\n",
              "        const element = document.querySelector('#df-ac1749c9-f969-4460-9259-8156f8351529');\n",
              "        const dataTable =\n",
              "          await google.colab.kernel.invokeFunction('convertToInteractive',\n",
              "                                                    [key], {});\n",
              "        if (!dataTable) return;\n",
              "\n",
              "        const docLinkHtml = 'Like what you see? Visit the ' +\n",
              "          '<a target=\"_blank\" href=https://colab.research.google.com/notebooks/data_table.ipynb>data table notebook</a>'\n",
              "          + ' to learn more about interactive tables.';\n",
              "        element.innerHTML = '';\n",
              "        dataTable['output_type'] = 'display_data';\n",
              "        await google.colab.output.renderOutput(dataTable, element);\n",
              "        const docLink = document.createElement('div');\n",
              "        docLink.innerHTML = docLinkHtml;\n",
              "        element.appendChild(docLink);\n",
              "      }\n",
              "    </script>\n",
              "  </div>\n",
              "\n",
              "\n",
              "<div id=\"df-87531327-2a39-47ed-8847-d4fe3a6bd075\">\n",
              "  <button class=\"colab-df-quickchart\" onclick=\"quickchart('df-87531327-2a39-47ed-8847-d4fe3a6bd075')\"\n",
              "            title=\"Suggest charts\"\n",
              "            style=\"display:none;\">\n",
              "\n",
              "<svg xmlns=\"http://www.w3.org/2000/svg\" height=\"24px\"viewBox=\"0 0 24 24\"\n",
              "     width=\"24px\">\n",
              "    <g>\n",
              "        <path d=\"M19 3H5c-1.1 0-2 .9-2 2v14c0 1.1.9 2 2 2h14c1.1 0 2-.9 2-2V5c0-1.1-.9-2-2-2zM9 17H7v-7h2v7zm4 0h-2V7h2v10zm4 0h-2v-4h2v4z\"/>\n",
              "    </g>\n",
              "</svg>\n",
              "  </button>\n",
              "\n",
              "<style>\n",
              "  .colab-df-quickchart {\n",
              "      --bg-color: #E8F0FE;\n",
              "      --fill-color: #1967D2;\n",
              "      --hover-bg-color: #E2EBFA;\n",
              "      --hover-fill-color: #174EA6;\n",
              "      --disabled-fill-color: #AAA;\n",
              "      --disabled-bg-color: #DDD;\n",
              "  }\n",
              "\n",
              "  [theme=dark] .colab-df-quickchart {\n",
              "      --bg-color: #3B4455;\n",
              "      --fill-color: #D2E3FC;\n",
              "      --hover-bg-color: #434B5C;\n",
              "      --hover-fill-color: #FFFFFF;\n",
              "      --disabled-bg-color: #3B4455;\n",
              "      --disabled-fill-color: #666;\n",
              "  }\n",
              "\n",
              "  .colab-df-quickchart {\n",
              "    background-color: var(--bg-color);\n",
              "    border: none;\n",
              "    border-radius: 50%;\n",
              "    cursor: pointer;\n",
              "    display: none;\n",
              "    fill: var(--fill-color);\n",
              "    height: 32px;\n",
              "    padding: 0;\n",
              "    width: 32px;\n",
              "  }\n",
              "\n",
              "  .colab-df-quickchart:hover {\n",
              "    background-color: var(--hover-bg-color);\n",
              "    box-shadow: 0 1px 2px rgba(60, 64, 67, 0.3), 0 1px 3px 1px rgba(60, 64, 67, 0.15);\n",
              "    fill: var(--button-hover-fill-color);\n",
              "  }\n",
              "\n",
              "  .colab-df-quickchart-complete:disabled,\n",
              "  .colab-df-quickchart-complete:disabled:hover {\n",
              "    background-color: var(--disabled-bg-color);\n",
              "    fill: var(--disabled-fill-color);\n",
              "    box-shadow: none;\n",
              "  }\n",
              "\n",
              "  .colab-df-spinner {\n",
              "    border: 2px solid var(--fill-color);\n",
              "    border-color: transparent;\n",
              "    border-bottom-color: var(--fill-color);\n",
              "    animation:\n",
              "      spin 1s steps(1) infinite;\n",
              "  }\n",
              "\n",
              "  @keyframes spin {\n",
              "    0% {\n",
              "      border-color: transparent;\n",
              "      border-bottom-color: var(--fill-color);\n",
              "      border-left-color: var(--fill-color);\n",
              "    }\n",
              "    20% {\n",
              "      border-color: transparent;\n",
              "      border-left-color: var(--fill-color);\n",
              "      border-top-color: var(--fill-color);\n",
              "    }\n",
              "    30% {\n",
              "      border-color: transparent;\n",
              "      border-left-color: var(--fill-color);\n",
              "      border-top-color: var(--fill-color);\n",
              "      border-right-color: var(--fill-color);\n",
              "    }\n",
              "    40% {\n",
              "      border-color: transparent;\n",
              "      border-right-color: var(--fill-color);\n",
              "      border-top-color: var(--fill-color);\n",
              "    }\n",
              "    60% {\n",
              "      border-color: transparent;\n",
              "      border-right-color: var(--fill-color);\n",
              "    }\n",
              "    80% {\n",
              "      border-color: transparent;\n",
              "      border-right-color: var(--fill-color);\n",
              "      border-bottom-color: var(--fill-color);\n",
              "    }\n",
              "    90% {\n",
              "      border-color: transparent;\n",
              "      border-bottom-color: var(--fill-color);\n",
              "    }\n",
              "  }\n",
              "</style>\n",
              "\n",
              "  <script>\n",
              "    async function quickchart(key) {\n",
              "      const quickchartButtonEl =\n",
              "        document.querySelector('#' + key + ' button');\n",
              "      quickchartButtonEl.disabled = true;  // To prevent multiple clicks.\n",
              "      quickchartButtonEl.classList.add('colab-df-spinner');\n",
              "      try {\n",
              "        const charts = await google.colab.kernel.invokeFunction(\n",
              "            'suggestCharts', [key], {});\n",
              "      } catch (error) {\n",
              "        console.error('Error during call to suggestCharts:', error);\n",
              "      }\n",
              "      quickchartButtonEl.classList.remove('colab-df-spinner');\n",
              "      quickchartButtonEl.classList.add('colab-df-quickchart-complete');\n",
              "    }\n",
              "    (() => {\n",
              "      let quickchartButtonEl =\n",
              "        document.querySelector('#df-87531327-2a39-47ed-8847-d4fe3a6bd075 button');\n",
              "      quickchartButtonEl.style.display =\n",
              "        google.colab.kernel.accessAllowed ? 'block' : 'none';\n",
              "    })();\n",
              "  </script>\n",
              "</div>\n",
              "\n",
              "    </div>\n",
              "  </div>\n"
            ],
            "application/vnd.google.colaboratory.intrinsic+json": {
              "type": "dataframe",
              "variable_name": "df",
              "summary": "{\n  \"name\": \"df\",\n  \"rows\": 14694,\n  \"fields\": [\n    {\n      \"column\": \"workclass\",\n      \"properties\": {\n        \"dtype\": \"category\",\n        \"num_unique_values\": 9,\n        \"samples\": [\n          \" Without-pay\",\n          \" Self-emp-inc\",\n          \" Self-emp-not-inc\"\n        ],\n        \"semantic_type\": \"\",\n        \"description\": \"\"\n      }\n    },\n    {\n      \"column\": \"education\",\n      \"properties\": {\n        \"dtype\": \"category\",\n        \"num_unique_values\": 16,\n        \"samples\": [\n          \" 11th\",\n          \" Masters\",\n          \" 9th\"\n        ],\n        \"semantic_type\": \"\",\n        \"description\": \"\"\n      }\n    },\n    {\n      \"column\": \"marital_status\",\n      \"properties\": {\n        \"dtype\": \"category\",\n        \"num_unique_values\": 7,\n        \"samples\": [\n          \" Divorced\",\n          \" Never-married\",\n          \" Married-AF-spouse\"\n        ],\n        \"semantic_type\": \"\",\n        \"description\": \"\"\n      }\n    },\n    {\n      \"column\": \"occupation\",\n      \"properties\": {\n        \"dtype\": \"category\",\n        \"num_unique_values\": 15,\n        \"samples\": [\n          \" Other-service\",\n          \" Tech-support\",\n          \" Handlers-cleaners\"\n        ],\n        \"semantic_type\": \"\",\n        \"description\": \"\"\n      }\n    },\n    {\n      \"column\": \"relationship\",\n      \"properties\": {\n        \"dtype\": \"category\",\n        \"num_unique_values\": 6,\n        \"samples\": [\n          \" Not-in-family\",\n          \" Husband\",\n          \" Other-relative\"\n        ],\n        \"semantic_type\": \"\",\n        \"description\": \"\"\n      }\n    },\n    {\n      \"column\": \"race\",\n      \"properties\": {\n        \"dtype\": \"category\",\n        \"num_unique_values\": 5,\n        \"samples\": [\n          \" Amer-Indian-Eskimo\",\n          \" Asian-Pac-Islander\",\n          \" Black\"\n        ],\n        \"semantic_type\": \"\",\n        \"description\": \"\"\n      }\n    },\n    {\n      \"column\": \"sex\",\n      \"properties\": {\n        \"dtype\": \"category\",\n        \"num_unique_values\": 2,\n        \"samples\": [\n          \" Female\",\n          \" Male\"\n        ],\n        \"semantic_type\": \"\",\n        \"description\": \"\"\n      }\n    },\n    {\n      \"column\": \"native_country\",\n      \"properties\": {\n        \"dtype\": \"category\",\n        \"num_unique_values\": 41,\n        \"samples\": [\n          \" Trinadad&Tobago\",\n          \" Vietnam\"\n        ],\n        \"semantic_type\": \"\",\n        \"description\": \"\"\n      }\n    }\n  ]\n}"
            }
          },
          "metadata": {},
          "execution_count": 17
        }
      ]
    },
    {
      "cell_type": "code",
      "source": [
        "# for validation purposes\n",
        "ct = CategoricalTransformer(new_features=True,colnames=df.columns.tolist())\n",
        "df_cat = ct.fit_transform(df)\n",
        "df_cat.head()"
      ],
      "metadata": {
        "id": "41xrQMJqmfEW",
        "colab": {
          "base_uri": "https://localhost:8080/",
          "height": 313
        },
        "outputId": "bb6c832c-2e31-4a89-9467-92f2b0b7e49a"
      },
      "execution_count": 18,
      "outputs": [
        {
          "output_type": "execute_result",
          "data": {
            "text/plain": [
              "            workclass     education marital_status         occupation  \\\n",
              "111           Private       HS-grad      Separated  Handlers-cleaners   \n",
              "22049         Private       Masters  Never-married     Prof-specialty   \n",
              "1080    Self_employed       HS-grad        Married   Transport-moving   \n",
              "22186  Govt_employees  Some-college        Widowed     Prof-specialty   \n",
              "6028          Private       HS-grad        Married       Craft-repair   \n",
              "\n",
              "        relationship                race     sex native_country  \n",
              "111    Not-in-family               White    Male  United-States  \n",
              "22049  Not-in-family               White  Female  United-States  \n",
              "1080         Husband               White    Male        non_usa  \n",
              "22186      Unmarried  Amer-Indian-Eskimo  Female  United-States  \n",
              "6028         Husband               White    Male  United-States  "
            ],
            "text/html": [
              "\n",
              "  <div id=\"df-dd2866c4-390f-40b9-8788-ad0a024840dc\" class=\"colab-df-container\">\n",
              "    <div>\n",
              "<style scoped>\n",
              "    .dataframe tbody tr th:only-of-type {\n",
              "        vertical-align: middle;\n",
              "    }\n",
              "\n",
              "    .dataframe tbody tr th {\n",
              "        vertical-align: top;\n",
              "    }\n",
              "\n",
              "    .dataframe thead th {\n",
              "        text-align: right;\n",
              "    }\n",
              "</style>\n",
              "<table border=\"1\" class=\"dataframe\">\n",
              "  <thead>\n",
              "    <tr style=\"text-align: right;\">\n",
              "      <th></th>\n",
              "      <th>workclass</th>\n",
              "      <th>education</th>\n",
              "      <th>marital_status</th>\n",
              "      <th>occupation</th>\n",
              "      <th>relationship</th>\n",
              "      <th>race</th>\n",
              "      <th>sex</th>\n",
              "      <th>native_country</th>\n",
              "    </tr>\n",
              "  </thead>\n",
              "  <tbody>\n",
              "    <tr>\n",
              "      <th>111</th>\n",
              "      <td>Private</td>\n",
              "      <td>HS-grad</td>\n",
              "      <td>Separated</td>\n",
              "      <td>Handlers-cleaners</td>\n",
              "      <td>Not-in-family</td>\n",
              "      <td>White</td>\n",
              "      <td>Male</td>\n",
              "      <td>United-States</td>\n",
              "    </tr>\n",
              "    <tr>\n",
              "      <th>22049</th>\n",
              "      <td>Private</td>\n",
              "      <td>Masters</td>\n",
              "      <td>Never-married</td>\n",
              "      <td>Prof-specialty</td>\n",
              "      <td>Not-in-family</td>\n",
              "      <td>White</td>\n",
              "      <td>Female</td>\n",
              "      <td>United-States</td>\n",
              "    </tr>\n",
              "    <tr>\n",
              "      <th>1080</th>\n",
              "      <td>Self_employed</td>\n",
              "      <td>HS-grad</td>\n",
              "      <td>Married</td>\n",
              "      <td>Transport-moving</td>\n",
              "      <td>Husband</td>\n",
              "      <td>White</td>\n",
              "      <td>Male</td>\n",
              "      <td>non_usa</td>\n",
              "    </tr>\n",
              "    <tr>\n",
              "      <th>22186</th>\n",
              "      <td>Govt_employees</td>\n",
              "      <td>Some-college</td>\n",
              "      <td>Widowed</td>\n",
              "      <td>Prof-specialty</td>\n",
              "      <td>Unmarried</td>\n",
              "      <td>Amer-Indian-Eskimo</td>\n",
              "      <td>Female</td>\n",
              "      <td>United-States</td>\n",
              "    </tr>\n",
              "    <tr>\n",
              "      <th>6028</th>\n",
              "      <td>Private</td>\n",
              "      <td>HS-grad</td>\n",
              "      <td>Married</td>\n",
              "      <td>Craft-repair</td>\n",
              "      <td>Husband</td>\n",
              "      <td>White</td>\n",
              "      <td>Male</td>\n",
              "      <td>United-States</td>\n",
              "    </tr>\n",
              "  </tbody>\n",
              "</table>\n",
              "</div>\n",
              "    <div class=\"colab-df-buttons\">\n",
              "\n",
              "  <div class=\"colab-df-container\">\n",
              "    <button class=\"colab-df-convert\" onclick=\"convertToInteractive('df-dd2866c4-390f-40b9-8788-ad0a024840dc')\"\n",
              "            title=\"Convert this dataframe to an interactive table.\"\n",
              "            style=\"display:none;\">\n",
              "\n",
              "  <svg xmlns=\"http://www.w3.org/2000/svg\" height=\"24px\" viewBox=\"0 -960 960 960\">\n",
              "    <path d=\"M120-120v-720h720v720H120Zm60-500h600v-160H180v160Zm220 220h160v-160H400v160Zm0 220h160v-160H400v160ZM180-400h160v-160H180v160Zm440 0h160v-160H620v160ZM180-180h160v-160H180v160Zm440 0h160v-160H620v160Z\"/>\n",
              "  </svg>\n",
              "    </button>\n",
              "\n",
              "  <style>\n",
              "    .colab-df-container {\n",
              "      display:flex;\n",
              "      gap: 12px;\n",
              "    }\n",
              "\n",
              "    .colab-df-convert {\n",
              "      background-color: #E8F0FE;\n",
              "      border: none;\n",
              "      border-radius: 50%;\n",
              "      cursor: pointer;\n",
              "      display: none;\n",
              "      fill: #1967D2;\n",
              "      height: 32px;\n",
              "      padding: 0 0 0 0;\n",
              "      width: 32px;\n",
              "    }\n",
              "\n",
              "    .colab-df-convert:hover {\n",
              "      background-color: #E2EBFA;\n",
              "      box-shadow: 0px 1px 2px rgba(60, 64, 67, 0.3), 0px 1px 3px 1px rgba(60, 64, 67, 0.15);\n",
              "      fill: #174EA6;\n",
              "    }\n",
              "\n",
              "    .colab-df-buttons div {\n",
              "      margin-bottom: 4px;\n",
              "    }\n",
              "\n",
              "    [theme=dark] .colab-df-convert {\n",
              "      background-color: #3B4455;\n",
              "      fill: #D2E3FC;\n",
              "    }\n",
              "\n",
              "    [theme=dark] .colab-df-convert:hover {\n",
              "      background-color: #434B5C;\n",
              "      box-shadow: 0px 1px 3px 1px rgba(0, 0, 0, 0.15);\n",
              "      filter: drop-shadow(0px 1px 2px rgba(0, 0, 0, 0.3));\n",
              "      fill: #FFFFFF;\n",
              "    }\n",
              "  </style>\n",
              "\n",
              "    <script>\n",
              "      const buttonEl =\n",
              "        document.querySelector('#df-dd2866c4-390f-40b9-8788-ad0a024840dc button.colab-df-convert');\n",
              "      buttonEl.style.display =\n",
              "        google.colab.kernel.accessAllowed ? 'block' : 'none';\n",
              "\n",
              "      async function convertToInteractive(key) {\n",
              "        const element = document.querySelector('#df-dd2866c4-390f-40b9-8788-ad0a024840dc');\n",
              "        const dataTable =\n",
              "          await google.colab.kernel.invokeFunction('convertToInteractive',\n",
              "                                                    [key], {});\n",
              "        if (!dataTable) return;\n",
              "\n",
              "        const docLinkHtml = 'Like what you see? Visit the ' +\n",
              "          '<a target=\"_blank\" href=https://colab.research.google.com/notebooks/data_table.ipynb>data table notebook</a>'\n",
              "          + ' to learn more about interactive tables.';\n",
              "        element.innerHTML = '';\n",
              "        dataTable['output_type'] = 'display_data';\n",
              "        await google.colab.output.renderOutput(dataTable, element);\n",
              "        const docLink = document.createElement('div');\n",
              "        docLink.innerHTML = docLinkHtml;\n",
              "        element.appendChild(docLink);\n",
              "      }\n",
              "    </script>\n",
              "  </div>\n",
              "\n",
              "\n",
              "<div id=\"df-2fc994b7-0075-4ffb-ab23-90b2aa8b3684\">\n",
              "  <button class=\"colab-df-quickchart\" onclick=\"quickchart('df-2fc994b7-0075-4ffb-ab23-90b2aa8b3684')\"\n",
              "            title=\"Suggest charts\"\n",
              "            style=\"display:none;\">\n",
              "\n",
              "<svg xmlns=\"http://www.w3.org/2000/svg\" height=\"24px\"viewBox=\"0 0 24 24\"\n",
              "     width=\"24px\">\n",
              "    <g>\n",
              "        <path d=\"M19 3H5c-1.1 0-2 .9-2 2v14c0 1.1.9 2 2 2h14c1.1 0 2-.9 2-2V5c0-1.1-.9-2-2-2zM9 17H7v-7h2v7zm4 0h-2V7h2v10zm4 0h-2v-4h2v4z\"/>\n",
              "    </g>\n",
              "</svg>\n",
              "  </button>\n",
              "\n",
              "<style>\n",
              "  .colab-df-quickchart {\n",
              "      --bg-color: #E8F0FE;\n",
              "      --fill-color: #1967D2;\n",
              "      --hover-bg-color: #E2EBFA;\n",
              "      --hover-fill-color: #174EA6;\n",
              "      --disabled-fill-color: #AAA;\n",
              "      --disabled-bg-color: #DDD;\n",
              "  }\n",
              "\n",
              "  [theme=dark] .colab-df-quickchart {\n",
              "      --bg-color: #3B4455;\n",
              "      --fill-color: #D2E3FC;\n",
              "      --hover-bg-color: #434B5C;\n",
              "      --hover-fill-color: #FFFFFF;\n",
              "      --disabled-bg-color: #3B4455;\n",
              "      --disabled-fill-color: #666;\n",
              "  }\n",
              "\n",
              "  .colab-df-quickchart {\n",
              "    background-color: var(--bg-color);\n",
              "    border: none;\n",
              "    border-radius: 50%;\n",
              "    cursor: pointer;\n",
              "    display: none;\n",
              "    fill: var(--fill-color);\n",
              "    height: 32px;\n",
              "    padding: 0;\n",
              "    width: 32px;\n",
              "  }\n",
              "\n",
              "  .colab-df-quickchart:hover {\n",
              "    background-color: var(--hover-bg-color);\n",
              "    box-shadow: 0 1px 2px rgba(60, 64, 67, 0.3), 0 1px 3px 1px rgba(60, 64, 67, 0.15);\n",
              "    fill: var(--button-hover-fill-color);\n",
              "  }\n",
              "\n",
              "  .colab-df-quickchart-complete:disabled,\n",
              "  .colab-df-quickchart-complete:disabled:hover {\n",
              "    background-color: var(--disabled-bg-color);\n",
              "    fill: var(--disabled-fill-color);\n",
              "    box-shadow: none;\n",
              "  }\n",
              "\n",
              "  .colab-df-spinner {\n",
              "    border: 2px solid var(--fill-color);\n",
              "    border-color: transparent;\n",
              "    border-bottom-color: var(--fill-color);\n",
              "    animation:\n",
              "      spin 1s steps(1) infinite;\n",
              "  }\n",
              "\n",
              "  @keyframes spin {\n",
              "    0% {\n",
              "      border-color: transparent;\n",
              "      border-bottom-color: var(--fill-color);\n",
              "      border-left-color: var(--fill-color);\n",
              "    }\n",
              "    20% {\n",
              "      border-color: transparent;\n",
              "      border-left-color: var(--fill-color);\n",
              "      border-top-color: var(--fill-color);\n",
              "    }\n",
              "    30% {\n",
              "      border-color: transparent;\n",
              "      border-left-color: var(--fill-color);\n",
              "      border-top-color: var(--fill-color);\n",
              "      border-right-color: var(--fill-color);\n",
              "    }\n",
              "    40% {\n",
              "      border-color: transparent;\n",
              "      border-right-color: var(--fill-color);\n",
              "      border-top-color: var(--fill-color);\n",
              "    }\n",
              "    60% {\n",
              "      border-color: transparent;\n",
              "      border-right-color: var(--fill-color);\n",
              "    }\n",
              "    80% {\n",
              "      border-color: transparent;\n",
              "      border-right-color: var(--fill-color);\n",
              "      border-bottom-color: var(--fill-color);\n",
              "    }\n",
              "    90% {\n",
              "      border-color: transparent;\n",
              "      border-bottom-color: var(--fill-color);\n",
              "    }\n",
              "  }\n",
              "</style>\n",
              "\n",
              "  <script>\n",
              "    async function quickchart(key) {\n",
              "      const quickchartButtonEl =\n",
              "        document.querySelector('#' + key + ' button');\n",
              "      quickchartButtonEl.disabled = true;  // To prevent multiple clicks.\n",
              "      quickchartButtonEl.classList.add('colab-df-spinner');\n",
              "      try {\n",
              "        const charts = await google.colab.kernel.invokeFunction(\n",
              "            'suggestCharts', [key], {});\n",
              "      } catch (error) {\n",
              "        console.error('Error during call to suggestCharts:', error);\n",
              "      }\n",
              "      quickchartButtonEl.classList.remove('colab-df-spinner');\n",
              "      quickchartButtonEl.classList.add('colab-df-quickchart-complete');\n",
              "    }\n",
              "    (() => {\n",
              "      let quickchartButtonEl =\n",
              "        document.querySelector('#df-2fc994b7-0075-4ffb-ab23-90b2aa8b3684 button');\n",
              "      quickchartButtonEl.style.display =\n",
              "        google.colab.kernel.accessAllowed ? 'block' : 'none';\n",
              "    })();\n",
              "  </script>\n",
              "</div>\n",
              "\n",
              "    </div>\n",
              "  </div>\n"
            ],
            "application/vnd.google.colaboratory.intrinsic+json": {
              "type": "dataframe",
              "variable_name": "df_cat",
              "summary": "{\n  \"name\": \"df_cat\",\n  \"rows\": 14694,\n  \"fields\": [\n    {\n      \"column\": \"workclass\",\n      \"properties\": {\n        \"dtype\": \"category\",\n        \"num_unique_values\": 6,\n        \"samples\": [\n          \"Private\",\n          \"Self_employed\",\n          \"Never-worked\"\n        ],\n        \"semantic_type\": \"\",\n        \"description\": \"\"\n      }\n    },\n    {\n      \"column\": \"education\",\n      \"properties\": {\n        \"dtype\": \"category\",\n        \"num_unique_values\": 10,\n        \"samples\": [\n          \"Prof-school\",\n          \"Masters\",\n          \"elementary_school\"\n        ],\n        \"semantic_type\": \"\",\n        \"description\": \"\"\n      }\n    },\n    {\n      \"column\": \"marital_status\",\n      \"properties\": {\n        \"dtype\": \"category\",\n        \"num_unique_values\": 4,\n        \"samples\": [\n          \"Never-married\",\n          \"Widowed\",\n          \"Separated\"\n        ],\n        \"semantic_type\": \"\",\n        \"description\": \"\"\n      }\n    },\n    {\n      \"column\": \"occupation\",\n      \"properties\": {\n        \"dtype\": \"category\",\n        \"num_unique_values\": 15,\n        \"samples\": [\n          \"Other-service\",\n          \"Tech-support\",\n          \"Handlers-cleaners\"\n        ],\n        \"semantic_type\": \"\",\n        \"description\": \"\"\n      }\n    },\n    {\n      \"column\": \"relationship\",\n      \"properties\": {\n        \"dtype\": \"category\",\n        \"num_unique_values\": 6,\n        \"samples\": [\n          \"Not-in-family\",\n          \"Husband\",\n          \"Other-relative\"\n        ],\n        \"semantic_type\": \"\",\n        \"description\": \"\"\n      }\n    },\n    {\n      \"column\": \"race\",\n      \"properties\": {\n        \"dtype\": \"category\",\n        \"num_unique_values\": 5,\n        \"samples\": [\n          \"Amer-Indian-Eskimo\",\n          \"Asian-Pac-Islander\",\n          \"Black\"\n        ],\n        \"semantic_type\": \"\",\n        \"description\": \"\"\n      }\n    },\n    {\n      \"column\": \"sex\",\n      \"properties\": {\n        \"dtype\": \"category\",\n        \"num_unique_values\": 2,\n        \"samples\": [\n          \"Female\",\n          \"Male\"\n        ],\n        \"semantic_type\": \"\",\n        \"description\": \"\"\n      }\n    },\n    {\n      \"column\": \"native_country\",\n      \"properties\": {\n        \"dtype\": \"category\",\n        \"num_unique_values\": 2,\n        \"samples\": [\n          \"non_usa\",\n          \"United-States\"\n        ],\n        \"semantic_type\": \"\",\n        \"description\": \"\"\n      }\n    }\n  ]\n}"
            }
          },
          "metadata": {},
          "execution_count": 18
        }
      ]
    },
    {
      "cell_type": "code",
      "source": [
        "# check the cardinality before and after transformation\n",
        "x_train.select_dtypes(\"object\").apply(pd.Series.nunique)"
      ],
      "metadata": {
        "id": "jmznhBWqo9zE",
        "colab": {
          "base_uri": "https://localhost:8080/"
        },
        "outputId": "f6ca55df-995e-4cad-cef8-cced5507022e"
      },
      "execution_count": 19,
      "outputs": [
        {
          "output_type": "execute_result",
          "data": {
            "text/plain": [
              "workclass          9\n",
              "education         16\n",
              "marital_status     7\n",
              "occupation        15\n",
              "relationship       6\n",
              "race               5\n",
              "sex                2\n",
              "native_country    41\n",
              "dtype: int64"
            ]
          },
          "metadata": {},
          "execution_count": 19
        }
      ]
    },
    {
      "cell_type": "code",
      "source": [
        "# check the cardinality before and after transformation\n",
        "df_cat.apply(pd.Series.nunique)"
      ],
      "metadata": {
        "id": "ig-jZN0NpCTF",
        "colab": {
          "base_uri": "https://localhost:8080/"
        },
        "outputId": "ef8eab4f-3b59-40b6-c5c6-1dd96e8c4941"
      },
      "execution_count": 20,
      "outputs": [
        {
          "output_type": "execute_result",
          "data": {
            "text/plain": [
              "workclass          6\n",
              "education         10\n",
              "marital_status     4\n",
              "occupation        15\n",
              "relationship       6\n",
              "race               5\n",
              "sex                2\n",
              "native_country     2\n",
              "dtype: int64"
            ]
          },
          "metadata": {},
          "execution_count": 20
        }
      ]
    },
    {
      "cell_type": "markdown",
      "source": [
        "#### 1.4.5.3 Handling Numerical Features"
      ],
      "metadata": {
        "id": "ldfU54n7njja"
      }
    },
    {
      "cell_type": "code",
      "source": [
        "# transform numerical features\n",
        "class NumericalTransformer(BaseEstimator, TransformerMixin):\n",
        "    # Class constructor method that takes a model parameter as its argument\n",
        "    # model 0: minmax\n",
        "    # model 1: standard\n",
        "    # model 2: without scaler\n",
        "    def __init__(self, model=0, colnames=None):\n",
        "        self.model = model\n",
        "        self.colnames = colnames\n",
        "        self.scaler = None\n",
        "\n",
        "    # Fit is used only to learn statistical about Scalers\n",
        "    def fit(self, X, y=None):\n",
        "        df = pd.DataFrame(X, columns=self.colnames)\n",
        "        # minmax\n",
        "        if self.model == 0:\n",
        "            self.scaler = MinMaxScaler()\n",
        "            self.scaler.fit(df)\n",
        "        # standard scaler\n",
        "        elif self.model == 1:\n",
        "            self.scaler = StandardScaler()\n",
        "            self.scaler.fit(df)\n",
        "        return self\n",
        "\n",
        "    # return columns names after transformation\n",
        "    def get_feature_names_out(self):\n",
        "        return self.colnames\n",
        "\n",
        "    # Transformer method we wrote for this transformer\n",
        "    # Use fitted scalers\n",
        "    def transform(self, X, y=None):\n",
        "        df = pd.DataFrame(X, columns=self.colnames)\n",
        "\n",
        "        # update columns name\n",
        "        self.colnames = df.columns.tolist()\n",
        "\n",
        "        # minmax\n",
        "        if self.model == 0:\n",
        "            # transform data\n",
        "            df = self.scaler.transform(df)\n",
        "        elif self.model == 1:\n",
        "            # transform data\n",
        "            df = self.scaler.transform(df)\n",
        "        else:\n",
        "            df = df.values\n",
        "\n",
        "        return df"
      ],
      "metadata": {
        "id": "2RWfY7ctjxW2"
      },
      "execution_count": 21,
      "outputs": []
    },
    {
      "cell_type": "code",
      "source": [
        "# for validation purposes\n",
        "fs = FeatureSelector(x_train.select_dtypes(\"int64\").columns.to_list())\n",
        "df = fs.fit_transform(x_train)\n",
        "df.head()"
      ],
      "metadata": {
        "id": "05vfbEtjo4RQ",
        "colab": {
          "base_uri": "https://localhost:8080/",
          "height": 226
        },
        "outputId": "b9556cfc-4bdc-49b6-b736-3d523b35f8e1"
      },
      "execution_count": 22,
      "outputs": [
        {
          "output_type": "execute_result",
          "data": {
            "text/plain": [
              "       age  fnlwgt  education_num  capital_gain  capital_loss  hours_per_week\n",
              "111     47  344157              7             0             0              40\n",
              "22049   47   72880             14             0             0              40\n",
              "1080    44  195124              9             0             0              60\n",
              "22186   58   30111             10             0             0              40\n",
              "6028    36  162424              9             0             0              45"
            ],
            "text/html": [
              "\n",
              "  <div id=\"df-bb0ae9a4-e016-4e82-ba66-440b9d17f157\" class=\"colab-df-container\">\n",
              "    <div>\n",
              "<style scoped>\n",
              "    .dataframe tbody tr th:only-of-type {\n",
              "        vertical-align: middle;\n",
              "    }\n",
              "\n",
              "    .dataframe tbody tr th {\n",
              "        vertical-align: top;\n",
              "    }\n",
              "\n",
              "    .dataframe thead th {\n",
              "        text-align: right;\n",
              "    }\n",
              "</style>\n",
              "<table border=\"1\" class=\"dataframe\">\n",
              "  <thead>\n",
              "    <tr style=\"text-align: right;\">\n",
              "      <th></th>\n",
              "      <th>age</th>\n",
              "      <th>fnlwgt</th>\n",
              "      <th>education_num</th>\n",
              "      <th>capital_gain</th>\n",
              "      <th>capital_loss</th>\n",
              "      <th>hours_per_week</th>\n",
              "    </tr>\n",
              "  </thead>\n",
              "  <tbody>\n",
              "    <tr>\n",
              "      <th>111</th>\n",
              "      <td>47</td>\n",
              "      <td>344157</td>\n",
              "      <td>7</td>\n",
              "      <td>0</td>\n",
              "      <td>0</td>\n",
              "      <td>40</td>\n",
              "    </tr>\n",
              "    <tr>\n",
              "      <th>22049</th>\n",
              "      <td>47</td>\n",
              "      <td>72880</td>\n",
              "      <td>14</td>\n",
              "      <td>0</td>\n",
              "      <td>0</td>\n",
              "      <td>40</td>\n",
              "    </tr>\n",
              "    <tr>\n",
              "      <th>1080</th>\n",
              "      <td>44</td>\n",
              "      <td>195124</td>\n",
              "      <td>9</td>\n",
              "      <td>0</td>\n",
              "      <td>0</td>\n",
              "      <td>60</td>\n",
              "    </tr>\n",
              "    <tr>\n",
              "      <th>22186</th>\n",
              "      <td>58</td>\n",
              "      <td>30111</td>\n",
              "      <td>10</td>\n",
              "      <td>0</td>\n",
              "      <td>0</td>\n",
              "      <td>40</td>\n",
              "    </tr>\n",
              "    <tr>\n",
              "      <th>6028</th>\n",
              "      <td>36</td>\n",
              "      <td>162424</td>\n",
              "      <td>9</td>\n",
              "      <td>0</td>\n",
              "      <td>0</td>\n",
              "      <td>45</td>\n",
              "    </tr>\n",
              "  </tbody>\n",
              "</table>\n",
              "</div>\n",
              "    <div class=\"colab-df-buttons\">\n",
              "\n",
              "  <div class=\"colab-df-container\">\n",
              "    <button class=\"colab-df-convert\" onclick=\"convertToInteractive('df-bb0ae9a4-e016-4e82-ba66-440b9d17f157')\"\n",
              "            title=\"Convert this dataframe to an interactive table.\"\n",
              "            style=\"display:none;\">\n",
              "\n",
              "  <svg xmlns=\"http://www.w3.org/2000/svg\" height=\"24px\" viewBox=\"0 -960 960 960\">\n",
              "    <path d=\"M120-120v-720h720v720H120Zm60-500h600v-160H180v160Zm220 220h160v-160H400v160Zm0 220h160v-160H400v160ZM180-400h160v-160H180v160Zm440 0h160v-160H620v160ZM180-180h160v-160H180v160Zm440 0h160v-160H620v160Z\"/>\n",
              "  </svg>\n",
              "    </button>\n",
              "\n",
              "  <style>\n",
              "    .colab-df-container {\n",
              "      display:flex;\n",
              "      gap: 12px;\n",
              "    }\n",
              "\n",
              "    .colab-df-convert {\n",
              "      background-color: #E8F0FE;\n",
              "      border: none;\n",
              "      border-radius: 50%;\n",
              "      cursor: pointer;\n",
              "      display: none;\n",
              "      fill: #1967D2;\n",
              "      height: 32px;\n",
              "      padding: 0 0 0 0;\n",
              "      width: 32px;\n",
              "    }\n",
              "\n",
              "    .colab-df-convert:hover {\n",
              "      background-color: #E2EBFA;\n",
              "      box-shadow: 0px 1px 2px rgba(60, 64, 67, 0.3), 0px 1px 3px 1px rgba(60, 64, 67, 0.15);\n",
              "      fill: #174EA6;\n",
              "    }\n",
              "\n",
              "    .colab-df-buttons div {\n",
              "      margin-bottom: 4px;\n",
              "    }\n",
              "\n",
              "    [theme=dark] .colab-df-convert {\n",
              "      background-color: #3B4455;\n",
              "      fill: #D2E3FC;\n",
              "    }\n",
              "\n",
              "    [theme=dark] .colab-df-convert:hover {\n",
              "      background-color: #434B5C;\n",
              "      box-shadow: 0px 1px 3px 1px rgba(0, 0, 0, 0.15);\n",
              "      filter: drop-shadow(0px 1px 2px rgba(0, 0, 0, 0.3));\n",
              "      fill: #FFFFFF;\n",
              "    }\n",
              "  </style>\n",
              "\n",
              "    <script>\n",
              "      const buttonEl =\n",
              "        document.querySelector('#df-bb0ae9a4-e016-4e82-ba66-440b9d17f157 button.colab-df-convert');\n",
              "      buttonEl.style.display =\n",
              "        google.colab.kernel.accessAllowed ? 'block' : 'none';\n",
              "\n",
              "      async function convertToInteractive(key) {\n",
              "        const element = document.querySelector('#df-bb0ae9a4-e016-4e82-ba66-440b9d17f157');\n",
              "        const dataTable =\n",
              "          await google.colab.kernel.invokeFunction('convertToInteractive',\n",
              "                                                    [key], {});\n",
              "        if (!dataTable) return;\n",
              "\n",
              "        const docLinkHtml = 'Like what you see? Visit the ' +\n",
              "          '<a target=\"_blank\" href=https://colab.research.google.com/notebooks/data_table.ipynb>data table notebook</a>'\n",
              "          + ' to learn more about interactive tables.';\n",
              "        element.innerHTML = '';\n",
              "        dataTable['output_type'] = 'display_data';\n",
              "        await google.colab.output.renderOutput(dataTable, element);\n",
              "        const docLink = document.createElement('div');\n",
              "        docLink.innerHTML = docLinkHtml;\n",
              "        element.appendChild(docLink);\n",
              "      }\n",
              "    </script>\n",
              "  </div>\n",
              "\n",
              "\n",
              "<div id=\"df-23965751-98dc-4778-a57d-f154f0d7b8c5\">\n",
              "  <button class=\"colab-df-quickchart\" onclick=\"quickchart('df-23965751-98dc-4778-a57d-f154f0d7b8c5')\"\n",
              "            title=\"Suggest charts\"\n",
              "            style=\"display:none;\">\n",
              "\n",
              "<svg xmlns=\"http://www.w3.org/2000/svg\" height=\"24px\"viewBox=\"0 0 24 24\"\n",
              "     width=\"24px\">\n",
              "    <g>\n",
              "        <path d=\"M19 3H5c-1.1 0-2 .9-2 2v14c0 1.1.9 2 2 2h14c1.1 0 2-.9 2-2V5c0-1.1-.9-2-2-2zM9 17H7v-7h2v7zm4 0h-2V7h2v10zm4 0h-2v-4h2v4z\"/>\n",
              "    </g>\n",
              "</svg>\n",
              "  </button>\n",
              "\n",
              "<style>\n",
              "  .colab-df-quickchart {\n",
              "      --bg-color: #E8F0FE;\n",
              "      --fill-color: #1967D2;\n",
              "      --hover-bg-color: #E2EBFA;\n",
              "      --hover-fill-color: #174EA6;\n",
              "      --disabled-fill-color: #AAA;\n",
              "      --disabled-bg-color: #DDD;\n",
              "  }\n",
              "\n",
              "  [theme=dark] .colab-df-quickchart {\n",
              "      --bg-color: #3B4455;\n",
              "      --fill-color: #D2E3FC;\n",
              "      --hover-bg-color: #434B5C;\n",
              "      --hover-fill-color: #FFFFFF;\n",
              "      --disabled-bg-color: #3B4455;\n",
              "      --disabled-fill-color: #666;\n",
              "  }\n",
              "\n",
              "  .colab-df-quickchart {\n",
              "    background-color: var(--bg-color);\n",
              "    border: none;\n",
              "    border-radius: 50%;\n",
              "    cursor: pointer;\n",
              "    display: none;\n",
              "    fill: var(--fill-color);\n",
              "    height: 32px;\n",
              "    padding: 0;\n",
              "    width: 32px;\n",
              "  }\n",
              "\n",
              "  .colab-df-quickchart:hover {\n",
              "    background-color: var(--hover-bg-color);\n",
              "    box-shadow: 0 1px 2px rgba(60, 64, 67, 0.3), 0 1px 3px 1px rgba(60, 64, 67, 0.15);\n",
              "    fill: var(--button-hover-fill-color);\n",
              "  }\n",
              "\n",
              "  .colab-df-quickchart-complete:disabled,\n",
              "  .colab-df-quickchart-complete:disabled:hover {\n",
              "    background-color: var(--disabled-bg-color);\n",
              "    fill: var(--disabled-fill-color);\n",
              "    box-shadow: none;\n",
              "  }\n",
              "\n",
              "  .colab-df-spinner {\n",
              "    border: 2px solid var(--fill-color);\n",
              "    border-color: transparent;\n",
              "    border-bottom-color: var(--fill-color);\n",
              "    animation:\n",
              "      spin 1s steps(1) infinite;\n",
              "  }\n",
              "\n",
              "  @keyframes spin {\n",
              "    0% {\n",
              "      border-color: transparent;\n",
              "      border-bottom-color: var(--fill-color);\n",
              "      border-left-color: var(--fill-color);\n",
              "    }\n",
              "    20% {\n",
              "      border-color: transparent;\n",
              "      border-left-color: var(--fill-color);\n",
              "      border-top-color: var(--fill-color);\n",
              "    }\n",
              "    30% {\n",
              "      border-color: transparent;\n",
              "      border-left-color: var(--fill-color);\n",
              "      border-top-color: var(--fill-color);\n",
              "      border-right-color: var(--fill-color);\n",
              "    }\n",
              "    40% {\n",
              "      border-color: transparent;\n",
              "      border-right-color: var(--fill-color);\n",
              "      border-top-color: var(--fill-color);\n",
              "    }\n",
              "    60% {\n",
              "      border-color: transparent;\n",
              "      border-right-color: var(--fill-color);\n",
              "    }\n",
              "    80% {\n",
              "      border-color: transparent;\n",
              "      border-right-color: var(--fill-color);\n",
              "      border-bottom-color: var(--fill-color);\n",
              "    }\n",
              "    90% {\n",
              "      border-color: transparent;\n",
              "      border-bottom-color: var(--fill-color);\n",
              "    }\n",
              "  }\n",
              "</style>\n",
              "\n",
              "  <script>\n",
              "    async function quickchart(key) {\n",
              "      const quickchartButtonEl =\n",
              "        document.querySelector('#' + key + ' button');\n",
              "      quickchartButtonEl.disabled = true;  // To prevent multiple clicks.\n",
              "      quickchartButtonEl.classList.add('colab-df-spinner');\n",
              "      try {\n",
              "        const charts = await google.colab.kernel.invokeFunction(\n",
              "            'suggestCharts', [key], {});\n",
              "      } catch (error) {\n",
              "        console.error('Error during call to suggestCharts:', error);\n",
              "      }\n",
              "      quickchartButtonEl.classList.remove('colab-df-spinner');\n",
              "      quickchartButtonEl.classList.add('colab-df-quickchart-complete');\n",
              "    }\n",
              "    (() => {\n",
              "      let quickchartButtonEl =\n",
              "        document.querySelector('#df-23965751-98dc-4778-a57d-f154f0d7b8c5 button');\n",
              "      quickchartButtonEl.style.display =\n",
              "        google.colab.kernel.accessAllowed ? 'block' : 'none';\n",
              "    })();\n",
              "  </script>\n",
              "</div>\n",
              "\n",
              "    </div>\n",
              "  </div>\n"
            ],
            "application/vnd.google.colaboratory.intrinsic+json": {
              "type": "dataframe",
              "variable_name": "df",
              "summary": "{\n  \"name\": \"df\",\n  \"rows\": 14694,\n  \"fields\": [\n    {\n      \"column\": \"age\",\n      \"properties\": {\n        \"dtype\": \"number\",\n        \"std\": 13,\n        \"min\": 17,\n        \"max\": 90,\n        \"num_unique_values\": 71,\n        \"samples\": [\n          39,\n          47,\n          60\n        ],\n        \"semantic_type\": \"\",\n        \"description\": \"\"\n      }\n    },\n    {\n      \"column\": \"fnlwgt\",\n      \"properties\": {\n        \"dtype\": \"number\",\n        \"std\": 102527,\n        \"min\": 19214,\n        \"max\": 816750,\n        \"num_unique_values\": 11790,\n        \"samples\": [\n          280169,\n          104542,\n          363405\n        ],\n        \"semantic_type\": \"\",\n        \"description\": \"\"\n      }\n    },\n    {\n      \"column\": \"education_num\",\n      \"properties\": {\n        \"dtype\": \"number\",\n        \"std\": 2,\n        \"min\": 1,\n        \"max\": 16,\n        \"num_unique_values\": 16,\n        \"samples\": [\n          7,\n          14,\n          5\n        ],\n        \"semantic_type\": \"\",\n        \"description\": \"\"\n      }\n    },\n    {\n      \"column\": \"capital_gain\",\n      \"properties\": {\n        \"dtype\": \"number\",\n        \"std\": 7019,\n        \"min\": 0,\n        \"max\": 99999,\n        \"num_unique_values\": 68,\n        \"samples\": [\n          3471,\n          3908,\n          7430\n        ],\n        \"semantic_type\": \"\",\n        \"description\": \"\"\n      }\n    },\n    {\n      \"column\": \"capital_loss\",\n      \"properties\": {\n        \"dtype\": \"number\",\n        \"std\": 145,\n        \"min\": 0,\n        \"max\": 3900,\n        \"num_unique_values\": 35,\n        \"samples\": [\n          3900,\n          2179,\n          2051\n        ],\n        \"semantic_type\": \"\",\n        \"description\": \"\"\n      }\n    },\n    {\n      \"column\": \"hours_per_week\",\n      \"properties\": {\n        \"dtype\": \"number\",\n        \"std\": 12,\n        \"min\": 1,\n        \"max\": 99,\n        \"num_unique_values\": 90,\n        \"samples\": [\n          27,\n          55,\n          39\n        ],\n        \"semantic_type\": \"\",\n        \"description\": \"\"\n      }\n    }\n  ]\n}"
            }
          },
          "metadata": {},
          "execution_count": 22
        }
      ]
    },
    {
      "cell_type": "code",
      "source": [
        "# for validation purposes\n",
        "nt = NumericalTransformer(model=3)\n",
        "df_num = nt.fit_transform(df)\n",
        "df_num"
      ],
      "metadata": {
        "id": "22lgbdTqpXqD",
        "colab": {
          "base_uri": "https://localhost:8080/"
        },
        "outputId": "ae2c8cae-48eb-4ed0-e606-4560c2eaa62a"
      },
      "execution_count": 23,
      "outputs": [
        {
          "output_type": "execute_result",
          "data": {
            "text/plain": [
              "array([[    47, 344157,      7,      0,      0,     40],\n",
              "       [    47,  72880,     14,      0,      0,     40],\n",
              "       [    44, 195124,      9,      0,      0,     60],\n",
              "       ...,\n",
              "       [    62, 159908,     10,      0,      0,     16],\n",
              "       [    27, 207948,     10,      0,      0,     40],\n",
              "       [    45, 353012,      9,      0,      0,     40]])"
            ]
          },
          "metadata": {},
          "execution_count": 23
        }
      ]
    },
    {
      "cell_type": "code",
      "source": [
        "# return columns name\n",
        "nt.get_feature_names_out()"
      ],
      "metadata": {
        "id": "GgJK5Bnspo8A",
        "colab": {
          "base_uri": "https://localhost:8080/"
        },
        "outputId": "e1a29b07-db1b-46ca-a9ae-44f083cd6d89"
      },
      "execution_count": 24,
      "outputs": [
        {
          "output_type": "execute_result",
          "data": {
            "text/plain": [
              "['age',\n",
              " 'fnlwgt',\n",
              " 'education_num',\n",
              " 'capital_gain',\n",
              " 'capital_loss',\n",
              " 'hours_per_week']"
            ]
          },
          "metadata": {},
          "execution_count": 24
        }
      ]
    },
    {
      "cell_type": "markdown",
      "source": [
        "#### 1.4.5.4 Data Preparation Pipeline"
      ],
      "metadata": {
        "id": "_HjGtsdP2xb9"
      }
    },
    {
      "cell_type": "code",
      "source": [
        "# model = 0 (min-max), 1 (z-score), 2 (without normalization)\n",
        "numerical_model = 0\n",
        "\n",
        "# Categrical features to pass down the categorical pipeline\n",
        "categorical_features = x_train.select_dtypes(\"object\").columns.to_list()\n",
        "\n",
        "# Numerical features to pass down the numerical pipeline\n",
        "numerical_features = x_train.select_dtypes(\"int64\").columns.to_list()\n",
        "\n",
        "# Defining the steps for the categorical pipeline\n",
        "categorical_pipeline = Pipeline(steps=[('cat_selector', FeatureSelector(categorical_features)),\n",
        "                                       ('imputer_cat', SimpleImputer(strategy=\"most_frequent\")),\n",
        "                                       ('cat_transformer', CategoricalTransformer(colnames=categorical_features)),\n",
        "                                       # ('cat_encoder','passthrough'\n",
        "                                       ('cat_encoder', OneHotEncoder(sparse=False, drop=\"first\"))\n",
        "                                       ]\n",
        "                                )\n",
        "\n",
        "# Defining the steps in the numerical pipeline\n",
        "numerical_pipeline = Pipeline(steps=[('num_selector', FeatureSelector(numerical_features)),\n",
        "                                     ('imputer_num', SimpleImputer(strategy=\"median\")),\n",
        "                                     ('num_transformer', NumericalTransformer(numerical_model,\n",
        "                                                                              colnames=numerical_features))])\n",
        "\n",
        "# Combine numerical and categorical pieplines into one full big pipeline horizontally\n",
        "full_pipeline_preprocessing = FeatureUnion(transformer_list=[('cat_pipeline', categorical_pipeline),\n",
        "                                                             ('num_pipeline', numerical_pipeline)]\n",
        "                                           )"
      ],
      "metadata": {
        "id": "dOn6aApB212h"
      },
      "execution_count": 25,
      "outputs": []
    },
    {
      "cell_type": "code",
      "source": [
        "# for validation purposes\n",
        "new_data = full_pipeline_preprocessing.fit_transform(x_train)\n",
        "# cat_names is a numpy array\n",
        "cat_names = full_pipeline_preprocessing.get_params()[\"cat_pipeline\"][3].get_feature_names_out().tolist()\n",
        "# num_names is a list\n",
        "num_names = full_pipeline_preprocessing.get_params()[\"num_pipeline\"][2].get_feature_names_out()\n",
        "df = pd.DataFrame(new_data,columns = cat_names + num_names)\n",
        "df.head()"
      ],
      "metadata": {
        "id": "eKOidk7l4PXz",
        "colab": {
          "base_uri": "https://localhost:8080/",
          "height": 310
        },
        "outputId": "7a1076e5-a44c-4dc6-f5d2-ca94b851a912"
      },
      "execution_count": 26,
      "outputs": [
        {
          "output_type": "stream",
          "name": "stderr",
          "text": [
            "/usr/local/lib/python3.10/dist-packages/sklearn/preprocessing/_encoders.py:868: FutureWarning: `sparse` was renamed to `sparse_output` in version 1.2 and will be removed in 1.4. `sparse_output` is ignored unless you leave `sparse` to its default value.\n",
            "  warnings.warn(\n"
          ]
        },
        {
          "output_type": "execute_result",
          "data": {
            "text/plain": [
              "   workclass_Never-worked  workclass_Private  workclass_Self_employed  \\\n",
              "0                     0.0                1.0                      0.0   \n",
              "1                     0.0                1.0                      0.0   \n",
              "2                     0.0                0.0                      1.0   \n",
              "3                     0.0                0.0                      0.0   \n",
              "4                     0.0                1.0                      0.0   \n",
              "\n",
              "   workclass_Without-pay  workclass_unknown  education_Assoc-voc  \\\n",
              "0                    0.0                0.0                  0.0   \n",
              "1                    0.0                0.0                  0.0   \n",
              "2                    0.0                0.0                  0.0   \n",
              "3                    0.0                0.0                  0.0   \n",
              "4                    0.0                0.0                  0.0   \n",
              "\n",
              "   education_Bachelors  education_Doctorate  education_HS-grad  \\\n",
              "0                  0.0                  0.0                1.0   \n",
              "1                  0.0                  0.0                0.0   \n",
              "2                  0.0                  0.0                1.0   \n",
              "3                  0.0                  0.0                0.0   \n",
              "4                  0.0                  0.0                1.0   \n",
              "\n",
              "   education_Masters  ...  race_Other  race_White  sex_Male  \\\n",
              "0                0.0  ...         0.0         1.0       1.0   \n",
              "1                1.0  ...         0.0         1.0       0.0   \n",
              "2                0.0  ...         0.0         1.0       1.0   \n",
              "3                0.0  ...         0.0         0.0       0.0   \n",
              "4                0.0  ...         0.0         1.0       1.0   \n",
              "\n",
              "   native_country_non_usa       age    fnlwgt  education_num  capital_gain  \\\n",
              "0                     0.0  0.410959  0.407434       0.400000           0.0   \n",
              "1                     0.0  0.410959  0.067290       0.866667           0.0   \n",
              "2                     1.0  0.369863  0.220567       0.533333           0.0   \n",
              "3                     0.0  0.561644  0.013663       0.600000           0.0   \n",
              "4                     0.0  0.260274  0.179566       0.533333           0.0   \n",
              "\n",
              "   capital_loss  hours_per_week  \n",
              "0           0.0        0.397959  \n",
              "1           0.0        0.397959  \n",
              "2           0.0        0.602041  \n",
              "3           0.0        0.397959  \n",
              "4           0.0        0.448980  \n",
              "\n",
              "[5 rows x 48 columns]"
            ],
            "text/html": [
              "\n",
              "  <div id=\"df-7d12bf26-2727-47fa-a1bb-5b5722ace89e\" class=\"colab-df-container\">\n",
              "    <div>\n",
              "<style scoped>\n",
              "    .dataframe tbody tr th:only-of-type {\n",
              "        vertical-align: middle;\n",
              "    }\n",
              "\n",
              "    .dataframe tbody tr th {\n",
              "        vertical-align: top;\n",
              "    }\n",
              "\n",
              "    .dataframe thead th {\n",
              "        text-align: right;\n",
              "    }\n",
              "</style>\n",
              "<table border=\"1\" class=\"dataframe\">\n",
              "  <thead>\n",
              "    <tr style=\"text-align: right;\">\n",
              "      <th></th>\n",
              "      <th>workclass_Never-worked</th>\n",
              "      <th>workclass_Private</th>\n",
              "      <th>workclass_Self_employed</th>\n",
              "      <th>workclass_Without-pay</th>\n",
              "      <th>workclass_unknown</th>\n",
              "      <th>education_Assoc-voc</th>\n",
              "      <th>education_Bachelors</th>\n",
              "      <th>education_Doctorate</th>\n",
              "      <th>education_HS-grad</th>\n",
              "      <th>education_Masters</th>\n",
              "      <th>...</th>\n",
              "      <th>race_Other</th>\n",
              "      <th>race_White</th>\n",
              "      <th>sex_Male</th>\n",
              "      <th>native_country_non_usa</th>\n",
              "      <th>age</th>\n",
              "      <th>fnlwgt</th>\n",
              "      <th>education_num</th>\n",
              "      <th>capital_gain</th>\n",
              "      <th>capital_loss</th>\n",
              "      <th>hours_per_week</th>\n",
              "    </tr>\n",
              "  </thead>\n",
              "  <tbody>\n",
              "    <tr>\n",
              "      <th>0</th>\n",
              "      <td>0.0</td>\n",
              "      <td>1.0</td>\n",
              "      <td>0.0</td>\n",
              "      <td>0.0</td>\n",
              "      <td>0.0</td>\n",
              "      <td>0.0</td>\n",
              "      <td>0.0</td>\n",
              "      <td>0.0</td>\n",
              "      <td>1.0</td>\n",
              "      <td>0.0</td>\n",
              "      <td>...</td>\n",
              "      <td>0.0</td>\n",
              "      <td>1.0</td>\n",
              "      <td>1.0</td>\n",
              "      <td>0.0</td>\n",
              "      <td>0.410959</td>\n",
              "      <td>0.407434</td>\n",
              "      <td>0.400000</td>\n",
              "      <td>0.0</td>\n",
              "      <td>0.0</td>\n",
              "      <td>0.397959</td>\n",
              "    </tr>\n",
              "    <tr>\n",
              "      <th>1</th>\n",
              "      <td>0.0</td>\n",
              "      <td>1.0</td>\n",
              "      <td>0.0</td>\n",
              "      <td>0.0</td>\n",
              "      <td>0.0</td>\n",
              "      <td>0.0</td>\n",
              "      <td>0.0</td>\n",
              "      <td>0.0</td>\n",
              "      <td>0.0</td>\n",
              "      <td>1.0</td>\n",
              "      <td>...</td>\n",
              "      <td>0.0</td>\n",
              "      <td>1.0</td>\n",
              "      <td>0.0</td>\n",
              "      <td>0.0</td>\n",
              "      <td>0.410959</td>\n",
              "      <td>0.067290</td>\n",
              "      <td>0.866667</td>\n",
              "      <td>0.0</td>\n",
              "      <td>0.0</td>\n",
              "      <td>0.397959</td>\n",
              "    </tr>\n",
              "    <tr>\n",
              "      <th>2</th>\n",
              "      <td>0.0</td>\n",
              "      <td>0.0</td>\n",
              "      <td>1.0</td>\n",
              "      <td>0.0</td>\n",
              "      <td>0.0</td>\n",
              "      <td>0.0</td>\n",
              "      <td>0.0</td>\n",
              "      <td>0.0</td>\n",
              "      <td>1.0</td>\n",
              "      <td>0.0</td>\n",
              "      <td>...</td>\n",
              "      <td>0.0</td>\n",
              "      <td>1.0</td>\n",
              "      <td>1.0</td>\n",
              "      <td>1.0</td>\n",
              "      <td>0.369863</td>\n",
              "      <td>0.220567</td>\n",
              "      <td>0.533333</td>\n",
              "      <td>0.0</td>\n",
              "      <td>0.0</td>\n",
              "      <td>0.602041</td>\n",
              "    </tr>\n",
              "    <tr>\n",
              "      <th>3</th>\n",
              "      <td>0.0</td>\n",
              "      <td>0.0</td>\n",
              "      <td>0.0</td>\n",
              "      <td>0.0</td>\n",
              "      <td>0.0</td>\n",
              "      <td>0.0</td>\n",
              "      <td>0.0</td>\n",
              "      <td>0.0</td>\n",
              "      <td>0.0</td>\n",
              "      <td>0.0</td>\n",
              "      <td>...</td>\n",
              "      <td>0.0</td>\n",
              "      <td>0.0</td>\n",
              "      <td>0.0</td>\n",
              "      <td>0.0</td>\n",
              "      <td>0.561644</td>\n",
              "      <td>0.013663</td>\n",
              "      <td>0.600000</td>\n",
              "      <td>0.0</td>\n",
              "      <td>0.0</td>\n",
              "      <td>0.397959</td>\n",
              "    </tr>\n",
              "    <tr>\n",
              "      <th>4</th>\n",
              "      <td>0.0</td>\n",
              "      <td>1.0</td>\n",
              "      <td>0.0</td>\n",
              "      <td>0.0</td>\n",
              "      <td>0.0</td>\n",
              "      <td>0.0</td>\n",
              "      <td>0.0</td>\n",
              "      <td>0.0</td>\n",
              "      <td>1.0</td>\n",
              "      <td>0.0</td>\n",
              "      <td>...</td>\n",
              "      <td>0.0</td>\n",
              "      <td>1.0</td>\n",
              "      <td>1.0</td>\n",
              "      <td>0.0</td>\n",
              "      <td>0.260274</td>\n",
              "      <td>0.179566</td>\n",
              "      <td>0.533333</td>\n",
              "      <td>0.0</td>\n",
              "      <td>0.0</td>\n",
              "      <td>0.448980</td>\n",
              "    </tr>\n",
              "  </tbody>\n",
              "</table>\n",
              "<p>5 rows × 48 columns</p>\n",
              "</div>\n",
              "    <div class=\"colab-df-buttons\">\n",
              "\n",
              "  <div class=\"colab-df-container\">\n",
              "    <button class=\"colab-df-convert\" onclick=\"convertToInteractive('df-7d12bf26-2727-47fa-a1bb-5b5722ace89e')\"\n",
              "            title=\"Convert this dataframe to an interactive table.\"\n",
              "            style=\"display:none;\">\n",
              "\n",
              "  <svg xmlns=\"http://www.w3.org/2000/svg\" height=\"24px\" viewBox=\"0 -960 960 960\">\n",
              "    <path d=\"M120-120v-720h720v720H120Zm60-500h600v-160H180v160Zm220 220h160v-160H400v160Zm0 220h160v-160H400v160ZM180-400h160v-160H180v160Zm440 0h160v-160H620v160ZM180-180h160v-160H180v160Zm440 0h160v-160H620v160Z\"/>\n",
              "  </svg>\n",
              "    </button>\n",
              "\n",
              "  <style>\n",
              "    .colab-df-container {\n",
              "      display:flex;\n",
              "      gap: 12px;\n",
              "    }\n",
              "\n",
              "    .colab-df-convert {\n",
              "      background-color: #E8F0FE;\n",
              "      border: none;\n",
              "      border-radius: 50%;\n",
              "      cursor: pointer;\n",
              "      display: none;\n",
              "      fill: #1967D2;\n",
              "      height: 32px;\n",
              "      padding: 0 0 0 0;\n",
              "      width: 32px;\n",
              "    }\n",
              "\n",
              "    .colab-df-convert:hover {\n",
              "      background-color: #E2EBFA;\n",
              "      box-shadow: 0px 1px 2px rgba(60, 64, 67, 0.3), 0px 1px 3px 1px rgba(60, 64, 67, 0.15);\n",
              "      fill: #174EA6;\n",
              "    }\n",
              "\n",
              "    .colab-df-buttons div {\n",
              "      margin-bottom: 4px;\n",
              "    }\n",
              "\n",
              "    [theme=dark] .colab-df-convert {\n",
              "      background-color: #3B4455;\n",
              "      fill: #D2E3FC;\n",
              "    }\n",
              "\n",
              "    [theme=dark] .colab-df-convert:hover {\n",
              "      background-color: #434B5C;\n",
              "      box-shadow: 0px 1px 3px 1px rgba(0, 0, 0, 0.15);\n",
              "      filter: drop-shadow(0px 1px 2px rgba(0, 0, 0, 0.3));\n",
              "      fill: #FFFFFF;\n",
              "    }\n",
              "  </style>\n",
              "\n",
              "    <script>\n",
              "      const buttonEl =\n",
              "        document.querySelector('#df-7d12bf26-2727-47fa-a1bb-5b5722ace89e button.colab-df-convert');\n",
              "      buttonEl.style.display =\n",
              "        google.colab.kernel.accessAllowed ? 'block' : 'none';\n",
              "\n",
              "      async function convertToInteractive(key) {\n",
              "        const element = document.querySelector('#df-7d12bf26-2727-47fa-a1bb-5b5722ace89e');\n",
              "        const dataTable =\n",
              "          await google.colab.kernel.invokeFunction('convertToInteractive',\n",
              "                                                    [key], {});\n",
              "        if (!dataTable) return;\n",
              "\n",
              "        const docLinkHtml = 'Like what you see? Visit the ' +\n",
              "          '<a target=\"_blank\" href=https://colab.research.google.com/notebooks/data_table.ipynb>data table notebook</a>'\n",
              "          + ' to learn more about interactive tables.';\n",
              "        element.innerHTML = '';\n",
              "        dataTable['output_type'] = 'display_data';\n",
              "        await google.colab.output.renderOutput(dataTable, element);\n",
              "        const docLink = document.createElement('div');\n",
              "        docLink.innerHTML = docLinkHtml;\n",
              "        element.appendChild(docLink);\n",
              "      }\n",
              "    </script>\n",
              "  </div>\n",
              "\n",
              "\n",
              "<div id=\"df-1d206c73-8410-46ad-a388-243d791fc181\">\n",
              "  <button class=\"colab-df-quickchart\" onclick=\"quickchart('df-1d206c73-8410-46ad-a388-243d791fc181')\"\n",
              "            title=\"Suggest charts\"\n",
              "            style=\"display:none;\">\n",
              "\n",
              "<svg xmlns=\"http://www.w3.org/2000/svg\" height=\"24px\"viewBox=\"0 0 24 24\"\n",
              "     width=\"24px\">\n",
              "    <g>\n",
              "        <path d=\"M19 3H5c-1.1 0-2 .9-2 2v14c0 1.1.9 2 2 2h14c1.1 0 2-.9 2-2V5c0-1.1-.9-2-2-2zM9 17H7v-7h2v7zm4 0h-2V7h2v10zm4 0h-2v-4h2v4z\"/>\n",
              "    </g>\n",
              "</svg>\n",
              "  </button>\n",
              "\n",
              "<style>\n",
              "  .colab-df-quickchart {\n",
              "      --bg-color: #E8F0FE;\n",
              "      --fill-color: #1967D2;\n",
              "      --hover-bg-color: #E2EBFA;\n",
              "      --hover-fill-color: #174EA6;\n",
              "      --disabled-fill-color: #AAA;\n",
              "      --disabled-bg-color: #DDD;\n",
              "  }\n",
              "\n",
              "  [theme=dark] .colab-df-quickchart {\n",
              "      --bg-color: #3B4455;\n",
              "      --fill-color: #D2E3FC;\n",
              "      --hover-bg-color: #434B5C;\n",
              "      --hover-fill-color: #FFFFFF;\n",
              "      --disabled-bg-color: #3B4455;\n",
              "      --disabled-fill-color: #666;\n",
              "  }\n",
              "\n",
              "  .colab-df-quickchart {\n",
              "    background-color: var(--bg-color);\n",
              "    border: none;\n",
              "    border-radius: 50%;\n",
              "    cursor: pointer;\n",
              "    display: none;\n",
              "    fill: var(--fill-color);\n",
              "    height: 32px;\n",
              "    padding: 0;\n",
              "    width: 32px;\n",
              "  }\n",
              "\n",
              "  .colab-df-quickchart:hover {\n",
              "    background-color: var(--hover-bg-color);\n",
              "    box-shadow: 0 1px 2px rgba(60, 64, 67, 0.3), 0 1px 3px 1px rgba(60, 64, 67, 0.15);\n",
              "    fill: var(--button-hover-fill-color);\n",
              "  }\n",
              "\n",
              "  .colab-df-quickchart-complete:disabled,\n",
              "  .colab-df-quickchart-complete:disabled:hover {\n",
              "    background-color: var(--disabled-bg-color);\n",
              "    fill: var(--disabled-fill-color);\n",
              "    box-shadow: none;\n",
              "  }\n",
              "\n",
              "  .colab-df-spinner {\n",
              "    border: 2px solid var(--fill-color);\n",
              "    border-color: transparent;\n",
              "    border-bottom-color: var(--fill-color);\n",
              "    animation:\n",
              "      spin 1s steps(1) infinite;\n",
              "  }\n",
              "\n",
              "  @keyframes spin {\n",
              "    0% {\n",
              "      border-color: transparent;\n",
              "      border-bottom-color: var(--fill-color);\n",
              "      border-left-color: var(--fill-color);\n",
              "    }\n",
              "    20% {\n",
              "      border-color: transparent;\n",
              "      border-left-color: var(--fill-color);\n",
              "      border-top-color: var(--fill-color);\n",
              "    }\n",
              "    30% {\n",
              "      border-color: transparent;\n",
              "      border-left-color: var(--fill-color);\n",
              "      border-top-color: var(--fill-color);\n",
              "      border-right-color: var(--fill-color);\n",
              "    }\n",
              "    40% {\n",
              "      border-color: transparent;\n",
              "      border-right-color: var(--fill-color);\n",
              "      border-top-color: var(--fill-color);\n",
              "    }\n",
              "    60% {\n",
              "      border-color: transparent;\n",
              "      border-right-color: var(--fill-color);\n",
              "    }\n",
              "    80% {\n",
              "      border-color: transparent;\n",
              "      border-right-color: var(--fill-color);\n",
              "      border-bottom-color: var(--fill-color);\n",
              "    }\n",
              "    90% {\n",
              "      border-color: transparent;\n",
              "      border-bottom-color: var(--fill-color);\n",
              "    }\n",
              "  }\n",
              "</style>\n",
              "\n",
              "  <script>\n",
              "    async function quickchart(key) {\n",
              "      const quickchartButtonEl =\n",
              "        document.querySelector('#' + key + ' button');\n",
              "      quickchartButtonEl.disabled = true;  // To prevent multiple clicks.\n",
              "      quickchartButtonEl.classList.add('colab-df-spinner');\n",
              "      try {\n",
              "        const charts = await google.colab.kernel.invokeFunction(\n",
              "            'suggestCharts', [key], {});\n",
              "      } catch (error) {\n",
              "        console.error('Error during call to suggestCharts:', error);\n",
              "      }\n",
              "      quickchartButtonEl.classList.remove('colab-df-spinner');\n",
              "      quickchartButtonEl.classList.add('colab-df-quickchart-complete');\n",
              "    }\n",
              "    (() => {\n",
              "      let quickchartButtonEl =\n",
              "        document.querySelector('#df-1d206c73-8410-46ad-a388-243d791fc181 button');\n",
              "      quickchartButtonEl.style.display =\n",
              "        google.colab.kernel.accessAllowed ? 'block' : 'none';\n",
              "    })();\n",
              "  </script>\n",
              "</div>\n",
              "\n",
              "    </div>\n",
              "  </div>\n"
            ],
            "application/vnd.google.colaboratory.intrinsic+json": {
              "type": "dataframe",
              "variable_name": "df"
            }
          },
          "metadata": {},
          "execution_count": 26
        }
      ]
    },
    {
      "cell_type": "markdown",
      "source": [
        "## 1.5 Holdout Training"
      ],
      "metadata": {
        "id": "3JBkxykTp2HF"
      }
    },
    {
      "cell_type": "markdown",
      "source": [
        "In this example the inference artifacts are:\n",
        "- pipe (contains trained model and the preprocesing pipeline\n",
        "- le (label encoder object used to encode the target variable)"
      ],
      "metadata": {
        "id": "_toW-9SWAZv7"
      }
    },
    {
      "cell_type": "code",
      "source": [
        "# The full pipeline\n",
        "pipe = Pipeline(steps = [('full_pipeline', full_pipeline_preprocessing),\n",
        "                         (\"classifier\",DecisionTreeClassifier())\n",
        "                         ]\n",
        "                )\n",
        "\n",
        "# # training\n",
        "# logger.info(\"Training\")\n",
        "# pipe.fit(x_train, y_train)\n",
        "\n",
        "# # predict\n",
        "# logger.info(\"Infering\")\n",
        "# predict = pipe.predict(x_val)\n",
        "\n",
        "# # Evaluation Metrics\n",
        "# logger.info(\"Evaluation metrics\")\n",
        "# fbeta = fbeta_score(y_val, predict, beta=1, zero_division=1)\n",
        "# precision = precision_score(y_val, predict, zero_division=1)\n",
        "# recall = recall_score(y_val, predict, zero_division=1)\n",
        "# acc = accuracy_score(y_val, predict)\n",
        "\n",
        "# logger.info(\"Accuracy: {}\".format(acc))\n",
        "# logger.info(\"Precision: {}\".format(precision))\n",
        "# logger.info(\"Recall: {}\".format(recall))\n",
        "# logger.info(\"F1: {}\".format(fbeta))\n",
        "\n",
        "# training\n",
        "print(\"Training\")\n",
        "pipe.fit(x_train, y_train)\n",
        "\n",
        "# predict\n",
        "print(\"Infering\")\n",
        "predict = pipe.predict(x_val)\n",
        "\n",
        "# Evaluation Metrics\n",
        "print(\"Evaluation metrics\")\n",
        "fbeta = fbeta_score(y_val, predict, beta=1, zero_division=1)\n",
        "precision = precision_score(y_val, predict, zero_division=1)\n",
        "recall = recall_score(y_val, predict, zero_division=1)\n",
        "acc = accuracy_score(y_val, predict)\n",
        "\n",
        "print(\"Accuracy: {}\".format(acc))\n",
        "print(\"Precision: {}\".format(precision))\n",
        "print(\"Recall: {}\".format(recall))\n",
        "print(\"F1: {}\".format(fbeta))\n",
        "\n"
      ],
      "metadata": {
        "id": "v-CIUlIE2aVU",
        "colab": {
          "base_uri": "https://localhost:8080/"
        },
        "outputId": "2955d405-f76d-495a-bc8c-32086039b8ef"
      },
      "execution_count": 31,
      "outputs": [
        {
          "output_type": "stream",
          "name": "stdout",
          "text": [
            "Training\n"
          ]
        },
        {
          "output_type": "stream",
          "name": "stderr",
          "text": [
            "/usr/local/lib/python3.10/dist-packages/sklearn/preprocessing/_encoders.py:868: FutureWarning: `sparse` was renamed to `sparse_output` in version 1.2 and will be removed in 1.4. `sparse_output` is ignored unless you leave `sparse` to its default value.\n",
            "  warnings.warn(\n"
          ]
        },
        {
          "output_type": "stream",
          "name": "stdout",
          "text": [
            "Infering\n",
            "Evaluation metrics\n",
            "Accuracy: 0.8040392214254354\n",
            "Precision: 0.5899238429994141\n",
            "Recall: 0.6117861482381531\n",
            "F1: 0.600656128839845\n"
          ]
        }
      ]
    },
    {
      "cell_type": "code",
      "source": [
        "run.summary[\"Acc\"] = acc\n",
        "run.summary[\"Precision\"] = precision\n",
        "run.summary[\"Recall\"] = recall\n",
        "run.summary[\"F1\"] = fbeta"
      ],
      "metadata": {
        "id": "kw1kSZf37-yw"
      },
      "execution_count": 32,
      "outputs": []
    },
    {
      "cell_type": "code",
      "source": [
        "# # predict bias\n",
        "# logger.info(\"Infering Bias\")\n",
        "# predict_bias = pipe.predict(x_train)\n",
        "\n",
        "# # Evaluation Metrics\n",
        "# logger.info(\"Bias Evaluation metrics\")\n",
        "# fbeta = fbeta_score(y_train, predict_bias, beta=1, zero_division=1)\n",
        "# precision = precision_score(y_train, predict_bias, zero_division=1)\n",
        "# recall = recall_score(y_train, predict_bias, zero_division=1)\n",
        "# acc = accuracy_score(y_train, predict_bias)\n",
        "\n",
        "# logger.info(\"Bias Accuracy: {}\".format(acc))\n",
        "# logger.info(\"Bias Precision: {}\".format(precision))\n",
        "# logger.info(\"Bias Recall: {}\".format(recall))\n",
        "# logger.info(\"Bias F1: {}\".format(fbeta))\n",
        "\n",
        "# predict bias\n",
        "print(\"Infering Bias\")\n",
        "predict_bias = pipe.predict(x_train)\n",
        "\n",
        "# Evaluation Metrics\n",
        "print(\"Bias Evaluation metrics\")\n",
        "fbeta = fbeta_score(y_train, predict_bias, beta=1, zero_division=1)\n",
        "precision = precision_score(y_train, predict_bias, zero_division=1)\n",
        "recall = recall_score(y_train, predict_bias, zero_division=1)\n",
        "acc = accuracy_score(y_train, predict_bias)\n",
        "\n",
        "print(\"Bias Accuracy: {}\".format(acc))\n",
        "print(\"Bias Precision: {}\".format(precision))\n",
        "print(\"Bias Recall: {}\".format(recall))\n",
        "print(\"Bias F1: {}\".format(fbeta))\n"
      ],
      "metadata": {
        "id": "wcIO140lO-xc",
        "colab": {
          "base_uri": "https://localhost:8080/"
        },
        "outputId": "230eee21-dbed-4318-d4e7-485aea59da3d"
      },
      "execution_count": 33,
      "outputs": [
        {
          "output_type": "stream",
          "name": "stdout",
          "text": [
            "Infering Bias\n",
            "Bias Evaluation metrics\n",
            "Bias Accuracy: 1.0\n",
            "Bias Precision: 1.0\n",
            "Bias Recall: 1.0\n",
            "Bias F1: 1.0\n"
          ]
        }
      ]
    },
    {
      "cell_type": "code",
      "source": [
        "# Compare the accuracy, precision, recall with previous ones\n",
        "print(classification_report(y_val,predict))"
      ],
      "metadata": {
        "id": "RR7x-wAM94VS",
        "colab": {
          "base_uri": "https://localhost:8080/"
        },
        "outputId": "47b0eb94-89c7-4156-eca4-3e20ecb8dd5b"
      },
      "execution_count": 34,
      "outputs": [
        {
          "output_type": "stream",
          "name": "stdout",
          "text": [
            "              precision    recall  f1-score   support\n",
            "\n",
            "           0       0.88      0.87      0.87      5187\n",
            "           1       0.59      0.61      0.60      1646\n",
            "\n",
            "    accuracy                           0.80      6833\n",
            "   macro avg       0.73      0.74      0.74      6833\n",
            "weighted avg       0.81      0.80      0.81      6833\n",
            "\n"
          ]
        }
      ]
    },
    {
      "cell_type": "code",
      "source": [
        "fig_confusion_matrix, ax = plt.subplots(1,1,figsize=(7,4))\n",
        "ConfusionMatrixDisplay(confusion_matrix(predict,y_val,labels=[1,0]),\n",
        "                       display_labels=[\">50k\",\"<=50k\"]).plot(values_format=\".0f\",ax=ax)\n",
        "\n",
        "ax.set_xlabel(\"True Label\")\n",
        "ax.set_ylabel(\"Predicted Label\")\n",
        "plt.show()"
      ],
      "metadata": {
        "id": "9f5FubtsA8yw",
        "colab": {
          "base_uri": "https://localhost:8080/",
          "height": 388
        },
        "outputId": "22d19c57-09f6-4a13-f68b-b6d9bd31b79c"
      },
      "execution_count": 35,
      "outputs": [
        {
          "output_type": "display_data",
          "data": {
            "text/plain": [
              "<Figure size 700x400 with 2 Axes>"
            ],
            "image/png": "[encoded data removed]"
          },
          "metadata": {}
        }
      ]
    },
    {
      "cell_type": "code",
      "source": [
        "# Uploading figures\n",
        "logger.info(\"Uploading figures\")\n",
        "run.log(\n",
        "    {\n",
        "        \"confusion_matrix\": wandb.Image(fig_confusion_matrix),\n",
        "        # \"other_figure\": wandb.Image(other_fig)\n",
        "    }\n",
        ")"
      ],
      "metadata": {
        "id": "7NODonon9kHO"
      },
      "execution_count": 36,
      "outputs": []
    },
    {
      "cell_type": "code",
      "source": [
        "# Feature importance\n",
        "pipe.get_params()[\"classifier\"].feature_importances_"
      ],
      "metadata": {
        "id": "k1XylahaKaCW",
        "colab": {
          "base_uri": "https://localhost:8080/"
        },
        "outputId": "7d0aa5d1-d7ba-474c-9c0e-e4cfb527fd1d"
      },
      "execution_count": 37,
      "outputs": [
        {
          "output_type": "execute_result",
          "data": {
            "text/plain": [
              "array([0.00000000e+00, 1.43264484e-02, 9.52063177e-03, 0.00000000e+00,\n",
              "       1.42805368e-03, 2.67085556e-03, 2.10825766e-03, 4.11667117e-04,\n",
              "       4.60660650e-03, 1.71116720e-03, 0.00000000e+00, 1.82567994e-04,\n",
              "       4.39240425e-03, 3.12973704e-04, 7.63234792e-02, 4.80781119e-02,\n",
              "       6.68404593e-03, 0.00000000e+00, 9.98088836e-03, 1.25184155e-02,\n",
              "       4.97017953e-03, 5.14686862e-03, 5.27390618e-03, 5.59681974e-03,\n",
              "       0.00000000e+00, 1.09380828e-02, 5.17584586e-03, 1.22357846e-02,\n",
              "       6.01661480e-03, 7.58750187e-03, 2.59581013e-03, 5.36295269e-03,\n",
              "       2.18327381e-03, 3.77988798e-03, 2.92494101e-03, 8.69546345e-03,\n",
              "       3.66068064e-03, 3.83336092e-03, 9.29610988e-04, 6.23568455e-03,\n",
              "       9.91225694e-03, 8.06187668e-03, 1.30118629e-01, 2.17768331e-01,\n",
              "       1.08304874e-01, 1.42272083e-01, 3.38247874e-03, 8.17796258e-02])"
            ]
          },
          "metadata": {},
          "execution_count": 37
        }
      ]
    },
    {
      "cell_type": "code",
      "source": [
        "# Get categorical column names\n",
        "cat_names = pipe.named_steps['full_pipeline'].get_params()[\"cat_pipeline\"][3].get_feature_names_out().tolist()\n",
        "cat_names"
      ],
      "metadata": {
        "id": "TCp9zEgGMJD0",
        "colab": {
          "base_uri": "https://localhost:8080/"
        },
        "outputId": "f4a3999e-3b3d-4bc1-e97c-8f8b716bd556"
      },
      "execution_count": 38,
      "outputs": [
        {
          "output_type": "execute_result",
          "data": {
            "text/plain": [
              "['workclass_Never-worked',\n",
              " 'workclass_Private',\n",
              " 'workclass_Self_employed',\n",
              " 'workclass_Without-pay',\n",
              " 'workclass_unknown',\n",
              " 'education_Assoc-voc',\n",
              " 'education_Bachelors',\n",
              " 'education_Doctorate',\n",
              " 'education_HS-grad',\n",
              " 'education_Masters',\n",
              " 'education_Preschool',\n",
              " 'education_Prof-school',\n",
              " 'education_Some-college',\n",
              " 'education_elementary_school',\n",
              " 'marital_status_Never-married',\n",
              " 'marital_status_Separated',\n",
              " 'marital_status_Widowed',\n",
              " 'occupation_Armed-Forces',\n",
              " 'occupation_Craft-repair',\n",
              " 'occupation_Exec-managerial',\n",
              " 'occupation_Farming-fishing',\n",
              " 'occupation_Handlers-cleaners',\n",
              " 'occupation_Machine-op-inspct',\n",
              " 'occupation_Other-service',\n",
              " 'occupation_Priv-house-serv',\n",
              " 'occupation_Prof-specialty',\n",
              " 'occupation_Protective-serv',\n",
              " 'occupation_Sales',\n",
              " 'occupation_Tech-support',\n",
              " 'occupation_Transport-moving',\n",
              " 'occupation_unknown',\n",
              " 'relationship_Not-in-family',\n",
              " 'relationship_Other-relative',\n",
              " 'relationship_Own-child',\n",
              " 'relationship_Unmarried',\n",
              " 'relationship_Wife',\n",
              " 'race_Asian-Pac-Islander',\n",
              " 'race_Black',\n",
              " 'race_Other',\n",
              " 'race_White',\n",
              " 'sex_Male',\n",
              " 'native_country_non_usa']"
            ]
          },
          "metadata": {},
          "execution_count": 38
        }
      ]
    },
    {
      "cell_type": "code",
      "source": [
        "# Get numerical column names\n",
        "num_names = pipe.named_steps['full_pipeline'].get_params()[\"num_pipeline\"][2].get_feature_names_out()\n",
        "num_names"
      ],
      "metadata": {
        "id": "6Ob7S9N2L82x",
        "colab": {
          "base_uri": "https://localhost:8080/"
        },
        "outputId": "e0593259-9b75-4672-e9c0-c94dee9a7e36"
      },
      "execution_count": 39,
      "outputs": [
        {
          "output_type": "execute_result",
          "data": {
            "text/plain": [
              "['age',\n",
              " 'fnlwgt',\n",
              " 'education_num',\n",
              " 'capital_gain',\n",
              " 'capital_loss',\n",
              " 'hours_per_week']"
            ]
          },
          "metadata": {},
          "execution_count": 39
        }
      ]
    },
    {
      "cell_type": "code",
      "source": [
        "# merge all column names together\n",
        "all_names = cat_names + num_names\n",
        "all_names"
      ],
      "metadata": {
        "id": "USlqpKBUMV64",
        "colab": {
          "base_uri": "https://localhost:8080/"
        },
        "outputId": "c22303df-fab9-4dc9-a3a4-1620e359d3a9"
      },
      "execution_count": 40,
      "outputs": [
        {
          "output_type": "execute_result",
          "data": {
            "text/plain": [
              "['workclass_Never-worked',\n",
              " 'workclass_Private',\n",
              " 'workclass_Self_employed',\n",
              " 'workclass_Without-pay',\n",
              " 'workclass_unknown',\n",
              " 'education_Assoc-voc',\n",
              " 'education_Bachelors',\n",
              " 'education_Doctorate',\n",
              " 'education_HS-grad',\n",
              " 'education_Masters',\n",
              " 'education_Preschool',\n",
              " 'education_Prof-school',\n",
              " 'education_Some-college',\n",
              " 'education_elementary_school',\n",
              " 'marital_status_Never-married',\n",
              " 'marital_status_Separated',\n",
              " 'marital_status_Widowed',\n",
              " 'occupation_Armed-Forces',\n",
              " 'occupation_Craft-repair',\n",
              " 'occupation_Exec-managerial',\n",
              " 'occupation_Farming-fishing',\n",
              " 'occupation_Handlers-cleaners',\n",
              " 'occupation_Machine-op-inspct',\n",
              " 'occupation_Other-service',\n",
              " 'occupation_Priv-house-serv',\n",
              " 'occupation_Prof-specialty',\n",
              " 'occupation_Protective-serv',\n",
              " 'occupation_Sales',\n",
              " 'occupation_Tech-support',\n",
              " 'occupation_Transport-moving',\n",
              " 'occupation_unknown',\n",
              " 'relationship_Not-in-family',\n",
              " 'relationship_Other-relative',\n",
              " 'relationship_Own-child',\n",
              " 'relationship_Unmarried',\n",
              " 'relationship_Wife',\n",
              " 'race_Asian-Pac-Islander',\n",
              " 'race_Black',\n",
              " 'race_Other',\n",
              " 'race_White',\n",
              " 'sex_Male',\n",
              " 'native_country_non_usa',\n",
              " 'age',\n",
              " 'fnlwgt',\n",
              " 'education_num',\n",
              " 'capital_gain',\n",
              " 'capital_loss',\n",
              " 'hours_per_week']"
            ]
          },
          "metadata": {},
          "execution_count": 40
        }
      ]
    },
    {
      "cell_type": "code",
      "source": [
        "# Visualize all classifier plots\n",
        "# For a complete documentation please see: https://docs.wandb.ai/guides/integrations/scikit\n",
        "wandb.sklearn.plot_classifier(pipe.get_params()[\"classifier\"],\n",
        "                              full_pipeline_preprocessing.transform(x_train),\n",
        "                              full_pipeline_preprocessing.transform(x_val),\n",
        "                              y_train,\n",
        "                              y_val,\n",
        "                              predict,\n",
        "                              pipe.predict_proba(x_val),\n",
        "                              [0,1],\n",
        "                              model_name='DT', feature_names=all_names)"
      ],
      "metadata": {
        "id": "wo0jKHj0FlIq",
        "colab": {
          "base_uri": "https://localhost:8080/"
        },
        "outputId": "16be17bc-eedf-4660-f17e-64ebe66a764d"
      },
      "execution_count": 41,
      "outputs": [
        {
          "output_type": "stream",
          "name": "stderr",
          "text": [
            "\u001b[34m\u001b[1mwandb\u001b[0m: \n",
            "\u001b[34m\u001b[1mwandb\u001b[0m: Plotting DT.\n",
            "\u001b[34m\u001b[1mwandb\u001b[0m: Logged feature importances.\n",
            "\u001b[34m\u001b[1mwandb\u001b[0m: Logged confusion matrix.\n",
            "\u001b[34m\u001b[1mwandb\u001b[0m: Logged summary metrics.\n",
            "\u001b[34m\u001b[1mwandb\u001b[0m: Logged class proportions.\n",
            "\u001b[34m\u001b[1mwandb\u001b[0m: Logged calibration curve.\n",
            "\u001b[34m\u001b[1mwandb\u001b[0m: \u001b[33mWARNING\u001b[0m wandb.plots.* functions are deprecated and will be removed in a future release. Please use wandb.plot.* instead.\n",
            "\u001b[34m\u001b[1mwandb\u001b[0m: Logged roc curve.\n",
            "\u001b[34m\u001b[1mwandb\u001b[0m: Logged precision-recall curve.\n"
          ]
        }
      ]
    },
    {
      "cell_type": "code",
      "source": [
        "# Visualize single plot\n",
        "# wandb.sklearn.plot_confusion_matrix(y_val, predict, [0,1])"
      ],
      "metadata": {
        "id": "ZZa7WZFCD9KE"
      },
      "execution_count": null,
      "outputs": []
    },
    {
      "cell_type": "code",
      "source": [
        "# Catch up the class proportions between train and validation\n",
        "# wandb.sklearn.plot_class_proportions(y_train, y_val, [0,1])"
      ],
      "metadata": {
        "id": "cd9LLU0sFw5Q"
      },
      "execution_count": null,
      "outputs": []
    },
    {
      "cell_type": "code",
      "source": [
        "# Plot the importance of columns\n",
        "# wandb.sklearn.plot_feature_importances(pipe.get_params()[\"classifier\"],all_names)"
      ],
      "metadata": {
        "id": "Wd16dY-3Mn2e"
      },
      "execution_count": null,
      "outputs": []
    },
    {
      "cell_type": "code",
      "source": [
        "# Plot a brief summary of the weighted avg results (recall, precision, f1, acc)\n",
        "# wandb.sklearn.plot_summary_metrics(pipe.get_params()[\"classifier\"],\n",
        "#                                    full_pipeline_preprocessing.transform(x_train),\n",
        "#                                    y_train,\n",
        "#                                    full_pipeline_preprocessing.transform(x_val),\n",
        "#                                    y_val)"
      ],
      "metadata": {
        "id": "CGX5BdLpMwKw"
      },
      "execution_count": null,
      "outputs": []
    },
    {
      "cell_type": "code",
      "source": [
        "# ROC curve\n",
        "# predict_proba = pipe.predict_proba(x_val)\n",
        "# wandb.sklearn.plot_roc(y_val, predict_proba, [0,1])"
      ],
      "metadata": {
        "id": "D7Sl-7TbOZqD"
      },
      "execution_count": null,
      "outputs": []
    },
    {
      "cell_type": "code",
      "source": [
        "# close the current run before to execute the next section\n",
        "run.finish()"
      ],
      "metadata": {
        "id": "v7WQb9yaReCA",
        "colab": {
          "base_uri": "https://localhost:8080/",
          "height": 266,
          "referenced_widgets": [
            "ae170af1ed5a40fe934afb050661c73c",
            "a5f53d4f39bc4efb9c59b60c52d040d8",
            "d68353a8eb0b4f4084c1e1b6df1cb137",
            "42269c6b92cf4c6eaa3a41be2577ffc6",
            "0f10b2b03f7d4319a8cb3c536f6c356e",
            "e451e1df2f224224a23a3abe4e870015",
            "993cbe21af7349958c1287f4caf8ee8c",
            "bf22233d990c4749a5d8b322be47d913"
          ]
        },
        "outputId": "8b244418-74d1-4f10-82fe-788d9486a418"
      },
      "execution_count": 42,
      "outputs": [
        {
          "output_type": "display_data",
          "data": {
            "text/plain": [
              "VBox(children=(Label(value='0.033 MB of 0.033 MB uploaded\\r'), FloatProgress(value=1.0, max=1.0)))"
            ],
            "application/vnd.jupyter.widget-view+json": {
              "version_major": 2,
              "version_minor": 0,
              "model_id": "ae170af1ed5a40fe934afb050661c73c"
            }
          },
          "metadata": {}
        },
        {
          "output_type": "display_data",
          "data": {
            "text/plain": [
              "<IPython.core.display.HTML object>"
            ],
            "text/html": [
              "<style>\n",
              "    table.wandb td:nth-child(1) { padding: 0 10px; text-align: left ; width: auto;} td:nth-child(2) {text-align: left ; width: 100%}\n",
              "    .wandb-row { display: flex; flex-direction: row; flex-wrap: wrap; justify-content: flex-start; width: 100% }\n",
              "    .wandb-col { display: flex; flex-direction: column; flex-basis: 100%; flex: 1; padding: 10px; }\n",
              "    </style>\n",
              "<div class=\"wandb-row\"><div class=\"wandb-col\"><h3>Run summary:</h3><br/><table class=\"wandb\"><tr><td>Acc</td><td>0.80404</td></tr><tr><td>F1</td><td>0.60066</td></tr><tr><td>Precision</td><td>0.58992</td></tr><tr><td>Recall</td><td>0.61179</td></tr></table><br/></div></div>"
            ]
          },
          "metadata": {}
        },
        {
          "output_type": "display_data",
          "data": {
            "text/plain": [
              "<IPython.core.display.HTML object>"
            ],
            "text/html": [
              " View run <strong style=\"color:#cdcd00\">rare-violet-8</strong> at: <a href='https://wandb.ai/team-thiago/decision_tree/runs/ko3g7d7l' target=\"_blank\">https://wandb.ai/team-thiago/decision_tree/runs/ko3g7d7l</a><br/> View project at: <a href='https://wandb.ai/team-thiago/decision_tree' target=\"_blank\">https://wandb.ai/team-thiago/decision_tree</a><br/>Synced 5 W&B file(s), 8 media file(s), 7 artifact file(s) and 0 other file(s)"
            ]
          },
          "metadata": {}
        },
        {
          "output_type": "display_data",
          "data": {
            "text/plain": [
              "<IPython.core.display.HTML object>"
            ],
            "text/html": [
              "Find logs at: <code>./wandb/run-20240417_174739-ko3g7d7l/logs</code>"
            ]
          },
          "metadata": {}
        }
      ]
    },
    {
      "cell_type": "markdown",
      "source": [
        "## 1.6 Hyperparameter Tuning"
      ],
      "metadata": {
        "id": "G8tKLeBIa44E"
      }
    },
    {
      "cell_type": "code",
      "source": [
        "# To see all parameters of a specific step of the pipeline\n",
        "# pipe.named_steps['classifier'].get_params() #or\n",
        "pipe.named_steps['full_pipeline'].get_params()"
      ],
      "metadata": {
        "id": "eBVoapcIkc6X",
        "colab": {
          "base_uri": "https://localhost:8080/"
        },
        "outputId": "8519bac3-6e5b-4444-d783-a87a820be81b"
      },
      "execution_count": 43,
      "outputs": [
        {
          "output_type": "execute_result",
          "data": {
            "text/plain": [
              "{'n_jobs': None,\n",
              " 'transformer_list': [('cat_pipeline',\n",
              "   Pipeline(steps=[('cat_selector',\n",
              "                    FeatureSelector(feature_names=['workclass', 'education',\n",
              "                                                   'marital_status', 'occupation',\n",
              "                                                   'relationship', 'race', 'sex',\n",
              "                                                   'native_country'])),\n",
              "                   ('imputer_cat', SimpleImputer(strategy='most_frequent')),\n",
              "                   ('cat_transformer',\n",
              "                    CategoricalTransformer(colnames=Index(['workclass', 'education', 'marital_status', 'occupation',\n",
              "          'relationship', 'race', 'sex', 'native_country'],\n",
              "         dtype='object'))),\n",
              "                   ('cat_encoder',\n",
              "                    OneHotEncoder(drop='first', sparse=False,\n",
              "                                  sparse_output=False))])),\n",
              "  ('num_pipeline',\n",
              "   Pipeline(steps=[('num_selector',\n",
              "                    FeatureSelector(feature_names=['age', 'fnlwgt',\n",
              "                                                   'education_num', 'capital_gain',\n",
              "                                                   'capital_loss',\n",
              "                                                   'hours_per_week'])),\n",
              "                   ('imputer_num', SimpleImputer(strategy='median')),\n",
              "                   ('num_transformer',\n",
              "                    NumericalTransformer(colnames=['age', 'fnlwgt',\n",
              "                                                   'education_num', 'capital_gain',\n",
              "                                                   'capital_loss',\n",
              "                                                   'hours_per_week']))]))],\n",
              " 'transformer_weights': None,\n",
              " 'verbose': False,\n",
              " 'cat_pipeline': Pipeline(steps=[('cat_selector',\n",
              "                  FeatureSelector(feature_names=['workclass', 'education',\n",
              "                                                 'marital_status', 'occupation',\n",
              "                                                 'relationship', 'race', 'sex',\n",
              "                                                 'native_country'])),\n",
              "                 ('imputer_cat', SimpleImputer(strategy='most_frequent')),\n",
              "                 ('cat_transformer',\n",
              "                  CategoricalTransformer(colnames=Index(['workclass', 'education', 'marital_status', 'occupation',\n",
              "        'relationship', 'race', 'sex', 'native_country'],\n",
              "       dtype='object'))),\n",
              "                 ('cat_encoder',\n",
              "                  OneHotEncoder(drop='first', sparse=False,\n",
              "                                sparse_output=False))]),\n",
              " 'num_pipeline': Pipeline(steps=[('num_selector',\n",
              "                  FeatureSelector(feature_names=['age', 'fnlwgt',\n",
              "                                                 'education_num', 'capital_gain',\n",
              "                                                 'capital_loss',\n",
              "                                                 'hours_per_week'])),\n",
              "                 ('imputer_num', SimpleImputer(strategy='median')),\n",
              "                 ('num_transformer',\n",
              "                  NumericalTransformer(colnames=['age', 'fnlwgt',\n",
              "                                                 'education_num', 'capital_gain',\n",
              "                                                 'capital_loss',\n",
              "                                                 'hours_per_week']))]),\n",
              " 'cat_pipeline__memory': None,\n",
              " 'cat_pipeline__steps': [('cat_selector',\n",
              "   FeatureSelector(feature_names=['workclass', 'education', 'marital_status',\n",
              "                                  'occupation', 'relationship', 'race', 'sex',\n",
              "                                  'native_country'])),\n",
              "  ('imputer_cat', SimpleImputer(strategy='most_frequent')),\n",
              "  ('cat_transformer',\n",
              "   CategoricalTransformer(colnames=Index(['workclass', 'education', 'marital_status', 'occupation',\n",
              "          'relationship', 'race', 'sex', 'native_country'],\n",
              "         dtype='object'))),\n",
              "  ('cat_encoder',\n",
              "   OneHotEncoder(drop='first', sparse=False, sparse_output=False))],\n",
              " 'cat_pipeline__verbose': False,\n",
              " 'cat_pipeline__cat_selector': FeatureSelector(feature_names=['workclass', 'education', 'marital_status',\n",
              "                                'occupation', 'relationship', 'race', 'sex',\n",
              "                                'native_country']),\n",
              " 'cat_pipeline__imputer_cat': SimpleImputer(strategy='most_frequent'),\n",
              " 'cat_pipeline__cat_transformer': CategoricalTransformer(colnames=Index(['workclass', 'education', 'marital_status', 'occupation',\n",
              "        'relationship', 'race', 'sex', 'native_country'],\n",
              "       dtype='object')),\n",
              " 'cat_pipeline__cat_encoder': OneHotEncoder(drop='first', sparse=False, sparse_output=False),\n",
              " 'cat_pipeline__cat_selector__feature_names': ['workclass',\n",
              "  'education',\n",
              "  'marital_status',\n",
              "  'occupation',\n",
              "  'relationship',\n",
              "  'race',\n",
              "  'sex',\n",
              "  'native_country'],\n",
              " 'cat_pipeline__imputer_cat__add_indicator': False,\n",
              " 'cat_pipeline__imputer_cat__copy': True,\n",
              " 'cat_pipeline__imputer_cat__fill_value': None,\n",
              " 'cat_pipeline__imputer_cat__keep_empty_features': False,\n",
              " 'cat_pipeline__imputer_cat__missing_values': nan,\n",
              " 'cat_pipeline__imputer_cat__strategy': 'most_frequent',\n",
              " 'cat_pipeline__imputer_cat__verbose': 'deprecated',\n",
              " 'cat_pipeline__cat_transformer__colnames': Index(['workclass', 'education', 'marital_status', 'occupation',\n",
              "        'relationship', 'race', 'sex', 'native_country'],\n",
              "       dtype='object'),\n",
              " 'cat_pipeline__cat_transformer__new_features': True,\n",
              " 'cat_pipeline__cat_encoder__categories': 'auto',\n",
              " 'cat_pipeline__cat_encoder__drop': 'first',\n",
              " 'cat_pipeline__cat_encoder__dtype': numpy.float64,\n",
              " 'cat_pipeline__cat_encoder__handle_unknown': 'error',\n",
              " 'cat_pipeline__cat_encoder__max_categories': None,\n",
              " 'cat_pipeline__cat_encoder__min_frequency': None,\n",
              " 'cat_pipeline__cat_encoder__sparse': False,\n",
              " 'cat_pipeline__cat_encoder__sparse_output': False,\n",
              " 'num_pipeline__memory': None,\n",
              " 'num_pipeline__steps': [('num_selector',\n",
              "   FeatureSelector(feature_names=['age', 'fnlwgt', 'education_num', 'capital_gain',\n",
              "                                  'capital_loss', 'hours_per_week'])),\n",
              "  ('imputer_num', SimpleImputer(strategy='median')),\n",
              "  ('num_transformer',\n",
              "   NumericalTransformer(colnames=['age', 'fnlwgt', 'education_num', 'capital_gain',\n",
              "                                  'capital_loss', 'hours_per_week']))],\n",
              " 'num_pipeline__verbose': False,\n",
              " 'num_pipeline__num_selector': FeatureSelector(feature_names=['age', 'fnlwgt', 'education_num', 'capital_gain',\n",
              "                                'capital_loss', 'hours_per_week']),\n",
              " 'num_pipeline__imputer_num': SimpleImputer(strategy='median'),\n",
              " 'num_pipeline__num_transformer': NumericalTransformer(colnames=['age', 'fnlwgt', 'education_num', 'capital_gain',\n",
              "                                'capital_loss', 'hours_per_week']),\n",
              " 'num_pipeline__num_selector__feature_names': ['age',\n",
              "  'fnlwgt',\n",
              "  'education_num',\n",
              "  'capital_gain',\n",
              "  'capital_loss',\n",
              "  'hours_per_week'],\n",
              " 'num_pipeline__imputer_num__add_indicator': False,\n",
              " 'num_pipeline__imputer_num__copy': True,\n",
              " 'num_pipeline__imputer_num__fill_value': None,\n",
              " 'num_pipeline__imputer_num__keep_empty_features': False,\n",
              " 'num_pipeline__imputer_num__missing_values': nan,\n",
              " 'num_pipeline__imputer_num__strategy': 'median',\n",
              " 'num_pipeline__imputer_num__verbose': 'deprecated',\n",
              " 'num_pipeline__num_transformer__colnames': ['age',\n",
              "  'fnlwgt',\n",
              "  'education_num',\n",
              "  'capital_gain',\n",
              "  'capital_loss',\n",
              "  'hours_per_week'],\n",
              " 'num_pipeline__num_transformer__model': 0}"
            ]
          },
          "metadata": {},
          "execution_count": 43
        }
      ]
    },
    {
      "cell_type": "code",
      "source": [
        "# global seed\n",
        "seed = 41"
      ],
      "metadata": {
        "id": "jPy291-mwumB"
      },
      "execution_count": 44,
      "outputs": []
    },
    {
      "cell_type": "code",
      "source": [
        "sweep_config = {\n",
        "    # try grid or random\n",
        "    \"method\": \"random\",\n",
        "    \"metric\": {\n",
        "        \"name\": \"Accuracy\",\n",
        "        \"goal\": \"maximize\"\n",
        "        },\n",
        "    \"parameters\": {\n",
        "        \"criterion\": {\n",
        "            \"values\": [\"gini\",\"entropy\"]\n",
        "            },\n",
        "        \"splitter\": {\n",
        "            \"values\": [\"random\",\"best\"]\n",
        "        },\n",
        "        \"model\": {\n",
        "            \"values\": [0,1,2]\n",
        "        },\n",
        "        \"random_state\": {\n",
        "            \"values\": [seed]\n",
        "        }\n",
        "    }\n",
        "}\n",
        "\n",
        "sweep_id = wandb.sweep(sweep_config, project=\"decision_tree\")"
      ],
      "metadata": {
        "id": "fMuG1XSTnXVk",
        "colab": {
          "base_uri": "https://localhost:8080/"
        },
        "outputId": "eb2f3bea-bbab-4029-d197-6df832f73af5"
      },
      "execution_count": 45,
      "outputs": [
        {
          "output_type": "stream",
          "name": "stdout",
          "text": [
            "Create sweep with ID: tez6b8jy\n",
            "Sweep URL: https://wandb.ai/team-thiago/decision_tree/sweeps/tez6b8jy\n"
          ]
        }
      ]
    },
    {
      "cell_type": "code",
      "source": [
        "def train():\n",
        "    with wandb.init() as run:\n",
        "\n",
        "        # The full pipeline\n",
        "        pipe = Pipeline(steps = [('full_pipeline', full_pipeline_preprocessing),\n",
        "                                    (\"classifier\",DecisionTreeClassifier())\n",
        "                                    ]\n",
        "                        )\n",
        "\n",
        "        # update the parameters of the pipeline that we would like to tuning\n",
        "        pipe.set_params(**{\"full_pipeline__num_pipeline__num_transformer__model\": run.config.model})\n",
        "        pipe.set_params(**{\"classifier__criterion\": run.config.criterion})\n",
        "        pipe.set_params(**{\"classifier__splitter\": run.config.splitter})\n",
        "        pipe.set_params(**{\"classifier__random_state\": run.config.random_state})\n",
        "\n",
        "        # training\n",
        "        logger.info(\"Training\")\n",
        "        pipe.fit(x_train, y_train)\n",
        "\n",
        "        # predict\n",
        "        logger.info(\"Infering\")\n",
        "        predict = pipe.predict(x_val)\n",
        "\n",
        "        # Evaluation Metrics\n",
        "        logger.info(\"Evaluation metrics\")\n",
        "        fbeta = fbeta_score(y_val, predict, beta=1, zero_division=1)\n",
        "        precision = precision_score(y_val, predict, zero_division=1)\n",
        "        recall = recall_score(y_val, predict, zero_division=1)\n",
        "        acc = accuracy_score(y_val, predict)\n",
        "\n",
        "        logger.info(\"Accuracy: {}\".format(acc))\n",
        "        logger.info(\"Precision: {}\".format(precision))\n",
        "        logger.info(\"Recall: {}\".format(recall))\n",
        "        logger.info(\"F1: {}\".format(fbeta))\n",
        "\n",
        "        run.summary[\"Accuracy\"] = acc\n",
        "        run.summary[\"Precision\"] = precision\n",
        "        run.summary[\"Recall\"] = recall\n",
        "        run.summary[\"F1\"] = fbeta"
      ],
      "metadata": {
        "id": "uvnUejepa_FY"
      },
      "execution_count": 46,
      "outputs": []
    },
    {
      "cell_type": "code",
      "source": [
        "wandb.agent(sweep_id, train, count=8)"
      ],
      "metadata": {
        "id": "W1hb9Y4ncZel",
        "colab": {
          "base_uri": "https://localhost:8080/",
          "height": 1000,
          "referenced_widgets": [
            "8cb26813cbea46239e21b6fffd7e30fd",
            "f381849f7bdf4f1bbcd711a51eeb46c8",
            "14d1649539d4431ebe7f5fbaf192fbc1",
            "64b5b23df0564327bb4c17db89b9baf3",
            "13888f9e021c413d899baab5e50a67c5",
            "8b2a48250e754937a38a063de1bf1b52",
            "68d6620c97084983b7ba1b79a5028490",
            "760e94e65b9d40b3982d9e1d8efd09af",
            "0a47f2dc79fa44f8879c723a9dc314b1",
            "7bd43f56c1ee40ea8e0b741b027e2e54",
            "f7a0f946e02b4fd8bc7a20f0e036f46a",
            "803009a172e844b3b7a98ca7cadede82",
            "657d06ca374e448b87d0c7b7cba8fddc",
            "0069277a28514ecfbd5a1117c9424da7",
            "7742d462292042c3ad4b41b6bb4302e1",
            "bc22527fdf744b44934404292b7e19fa",
            "cfe55310608e44c98823a96d3270d141",
            "f62dedde80124e46afb1dec5536db42b",
            "f46602091a1c4c09b7357b34813b8727",
            "5dc00e143ed248f9888a727d605bf32c",
            "09350691124e4693b1ff4f41333f1a07",
            "f2cfe1b3663742fda6bf0156f4f6e830",
            "31ebf050225d4f51b1434b9bf3dd0de6",
            "fe2884262e6a4ffda5d6143a46ff5c8c",
            "7d05559f998d4b08a68e4e8a5a857689",
            "934e961588014a09bb8a0fbb5957af1e",
            "e465f38ddeca4cd1a30dcd8361ff7ffb",
            "db6f711f1bc141e88424fbfb601028af",
            "5a7e81b0be0d467a87589633ace8af1a",
            "0c642055378c43c981550318e6afd919",
            "a00cace96297464bb59dfb2f60d45a46",
            "52ddac72c1a04ae0a87f0abf02d536ac",
            "324842a7a8f841a7bd94b8e960086b4c",
            "73de96dc7a584f138595fb497182ee9c",
            "4694ce6ffd564c73a341a7daf67f1244",
            "06c3716fa67b471a9a5dc98a26ebab6a",
            "b14336e2f8ec4adc982deda60a9aa56c",
            "a2bb93f098554304b7f145fea7127add",
            "de7ace0dc2ac41b098edb5e9cdfe3e7b",
            "2a0103b731bd4973bbc27e8456f3b157",
            "c668bf9cb2a846b4ba93582d486d8f4d",
            "2d414aa43852474398904e03246d2d9f",
            "c29a4e96970646be9af0844553ced779",
            "65e5c60a8b34445d82521e67b37206ee",
            "63e2a582ecd04549bffca2b58cfbc6ff",
            "97d3e7b51404457395836c0199ccf931",
            "924df14e235547e2acc519fe0c0be10c",
            "9b2b8280188b418dafaebf19f606d500",
            "569d2f8bed4f44e5a6917b9ddecadd20",
            "490e59c487314ac5b2e44c808971e866",
            "6a6fad10626840b8a0df1e991847c2c4",
            "64fea62239304634a870430fafad37f5",
            "525852fbd55742629993da07e9e87e11",
            "b392ae28797148c8b28527b731c94149",
            "07ff16c9dc4e4fec8a5c26addbf73ddf",
            "135564b15ad9404d9249b250d60e9ff4",
            "1a788790f60d4fb9bbc8b1a8997dc031",
            "c8c80d364b7c474e9f3fae641c871ddb",
            "a7de3c8ff548426da75a8ab0119ba42e",
            "d0f1ee35f2ea417bbcfeb822d8191488",
            "bef10f885ad244ad929fc4d67bf070af",
            "14ff52c7c32d45ed91c5fa9f4530e928",
            "d3a8eb058cdb4259bba4f8aba8864392",
            "37fc06947dab4af1a6cfcd5b6bbd0872"
          ]
        },
        "outputId": "ca4ed437-f6ff-42ee-8c7d-adfdc740e534"
      },
      "execution_count": 47,
      "outputs": [
        {
          "output_type": "stream",
          "name": "stderr",
          "text": [
            "\u001b[34m\u001b[1mwandb\u001b[0m: Agent Starting Run: mbrg6tf6 with config:\n",
            "\u001b[34m\u001b[1mwandb\u001b[0m: \tcriterion: entropy\n",
            "\u001b[34m\u001b[1mwandb\u001b[0m: \tmodel: 0\n",
            "\u001b[34m\u001b[1mwandb\u001b[0m: \trandom_state: 41\n",
            "\u001b[34m\u001b[1mwandb\u001b[0m: \tsplitter: random\n"
          ]
        },
        {
          "output_type": "display_data",
          "data": {
            "text/plain": [
              "<IPython.core.display.HTML object>"
            ],
            "text/html": [
              "Tracking run with wandb version 0.16.6"
            ]
          },
          "metadata": {}
        },
        {
          "output_type": "display_data",
          "data": {
            "text/plain": [
              "<IPython.core.display.HTML object>"
            ],
            "text/html": [
              "Run data is saved locally in <code>/content/wandb/run-20240417_175337-mbrg6tf6</code>"
            ]
          },
          "metadata": {}
        },
        {
          "output_type": "display_data",
          "data": {
            "text/plain": [
              "<IPython.core.display.HTML object>"
            ],
            "text/html": [
              "Syncing run <strong><a href='https://wandb.ai/team-thiago/decision_tree/runs/mbrg6tf6' target=\"_blank\">resilient-sweep-1</a></strong> to <a href='https://wandb.ai/team-thiago/decision_tree' target=\"_blank\">Weights & Biases</a> (<a href='https://wandb.me/run' target=\"_blank\">docs</a>)<br/>Sweep page: <a href='https://wandb.ai/team-thiago/decision_tree/sweeps/tez6b8jy' target=\"_blank\">https://wandb.ai/team-thiago/decision_tree/sweeps/tez6b8jy</a>"
            ]
          },
          "metadata": {}
        },
        {
          "output_type": "display_data",
          "data": {
            "text/plain": [
              "<IPython.core.display.HTML object>"
            ],
            "text/html": [
              " View project at <a href='https://wandb.ai/team-thiago/decision_tree' target=\"_blank\">https://wandb.ai/team-thiago/decision_tree</a>"
            ]
          },
          "metadata": {}
        },
        {
          "output_type": "display_data",
          "data": {
            "text/plain": [
              "<IPython.core.display.HTML object>"
            ],
            "text/html": [
              " View sweep at <a href='https://wandb.ai/team-thiago/decision_tree/sweeps/tez6b8jy' target=\"_blank\">https://wandb.ai/team-thiago/decision_tree/sweeps/tez6b8jy</a>"
            ]
          },
          "metadata": {}
        },
        {
          "output_type": "display_data",
          "data": {
            "text/plain": [
              "<IPython.core.display.HTML object>"
            ],
            "text/html": [
              " View run at <a href='https://wandb.ai/team-thiago/decision_tree/runs/mbrg6tf6' target=\"_blank\">https://wandb.ai/team-thiago/decision_tree/runs/mbrg6tf6</a>"
            ]
          },
          "metadata": {}
        },
        {
          "output_type": "display_data",
          "data": {
            "text/plain": [
              "VBox(children=(Label(value='0.010 MB of 0.010 MB uploaded\\r'), FloatProgress(value=1.0, max=1.0)))"
            ],
            "application/vnd.jupyter.widget-view+json": {
              "version_major": 2,
              "version_minor": 0,
              "model_id": "8cb26813cbea46239e21b6fffd7e30fd"
            }
          },
          "metadata": {}
        },
        {
          "output_type": "display_data",
          "data": {
            "text/plain": [
              "<IPython.core.display.HTML object>"
            ],
            "text/html": [
              "<style>\n",
              "    table.wandb td:nth-child(1) { padding: 0 10px; text-align: left ; width: auto;} td:nth-child(2) {text-align: left ; width: 100%}\n",
              "    .wandb-row { display: flex; flex-direction: row; flex-wrap: wrap; justify-content: flex-start; width: 100% }\n",
              "    .wandb-col { display: flex; flex-direction: column; flex-basis: 100%; flex: 1; padding: 10px; }\n",
              "    </style>\n",
              "<div class=\"wandb-row\"><div class=\"wandb-col\"><h3>Run summary:</h3><br/><table class=\"wandb\"><tr><td>Accuracy</td><td>0.80009</td></tr><tr><td>F1</td><td>0.59004</td></tr><tr><td>Precision</td><td>0.58304</td></tr><tr><td>Recall</td><td>0.59721</td></tr></table><br/></div></div>"
            ]
          },
          "metadata": {}
        },
        {
          "output_type": "display_data",
          "data": {
            "text/plain": [
              "<IPython.core.display.HTML object>"
            ],
            "text/html": [
              " View run <strong style=\"color:#cdcd00\">resilient-sweep-1</strong> at: <a href='https://wandb.ai/team-thiago/decision_tree/runs/mbrg6tf6' target=\"_blank\">https://wandb.ai/team-thiago/decision_tree/runs/mbrg6tf6</a><br/> View project at: <a href='https://wandb.ai/team-thiago/decision_tree' target=\"_blank\">https://wandb.ai/team-thiago/decision_tree</a><br/>Synced 4 W&B file(s), 0 media file(s), 0 artifact file(s) and 0 other file(s)"
            ]
          },
          "metadata": {}
        },
        {
          "output_type": "display_data",
          "data": {
            "text/plain": [
              "<IPython.core.display.HTML object>"
            ],
            "text/html": [
              "Find logs at: <code>./wandb/run-20240417_175337-mbrg6tf6/logs</code>"
            ]
          },
          "metadata": {}
        },
        {
          "output_type": "stream",
          "name": "stderr",
          "text": [
            "\u001b[34m\u001b[1mwandb\u001b[0m: Agent Starting Run: 6kqmrij4 with config:\n",
            "\u001b[34m\u001b[1mwandb\u001b[0m: \tcriterion: gini\n",
            "\u001b[34m\u001b[1mwandb\u001b[0m: \tmodel: 1\n",
            "\u001b[34m\u001b[1mwandb\u001b[0m: \trandom_state: 41\n",
            "\u001b[34m\u001b[1mwandb\u001b[0m: \tsplitter: best\n"
          ]
        },
        {
          "output_type": "display_data",
          "data": {
            "text/plain": [
              "<IPython.core.display.HTML object>"
            ],
            "text/html": [
              "Tracking run with wandb version 0.16.6"
            ]
          },
          "metadata": {}
        },
        {
          "output_type": "display_data",
          "data": {
            "text/plain": [
              "<IPython.core.display.HTML object>"
            ],
            "text/html": [
              "Run data is saved locally in <code>/content/wandb/run-20240417_175348-6kqmrij4</code>"
            ]
          },
          "metadata": {}
        },
        {
          "output_type": "display_data",
          "data": {
            "text/plain": [
              "<IPython.core.display.HTML object>"
            ],
            "text/html": [
              "Syncing run <strong><a href='https://wandb.ai/team-thiago/decision_tree/runs/6kqmrij4' target=\"_blank\">warm-sweep-2</a></strong> to <a href='https://wandb.ai/team-thiago/decision_tree' target=\"_blank\">Weights & Biases</a> (<a href='https://wandb.me/run' target=\"_blank\">docs</a>)<br/>Sweep page: <a href='https://wandb.ai/team-thiago/decision_tree/sweeps/tez6b8jy' target=\"_blank\">https://wandb.ai/team-thiago/decision_tree/sweeps/tez6b8jy</a>"
            ]
          },
          "metadata": {}
        },
        {
          "output_type": "display_data",
          "data": {
            "text/plain": [
              "<IPython.core.display.HTML object>"
            ],
            "text/html": [
              " View project at <a href='https://wandb.ai/team-thiago/decision_tree' target=\"_blank\">https://wandb.ai/team-thiago/decision_tree</a>"
            ]
          },
          "metadata": {}
        },
        {
          "output_type": "display_data",
          "data": {
            "text/plain": [
              "<IPython.core.display.HTML object>"
            ],
            "text/html": [
              " View sweep at <a href='https://wandb.ai/team-thiago/decision_tree/sweeps/tez6b8jy' target=\"_blank\">https://wandb.ai/team-thiago/decision_tree/sweeps/tez6b8jy</a>"
            ]
          },
          "metadata": {}
        },
        {
          "output_type": "display_data",
          "data": {
            "text/plain": [
              "<IPython.core.display.HTML object>"
            ],
            "text/html": [
              " View run at <a href='https://wandb.ai/team-thiago/decision_tree/runs/6kqmrij4' target=\"_blank\">https://wandb.ai/team-thiago/decision_tree/runs/6kqmrij4</a>"
            ]
          },
          "metadata": {}
        },
        {
          "output_type": "display_data",
          "data": {
            "text/plain": [
              "VBox(children=(Label(value='0.010 MB of 0.010 MB uploaded\\r'), FloatProgress(value=1.0, max=1.0)))"
            ],
            "application/vnd.jupyter.widget-view+json": {
              "version_major": 2,
              "version_minor": 0,
              "model_id": "0a47f2dc79fa44f8879c723a9dc314b1"
            }
          },
          "metadata": {}
        },
        {
          "output_type": "display_data",
          "data": {
            "text/plain": [
              "<IPython.core.display.HTML object>"
            ],
            "text/html": [
              "<style>\n",
              "    table.wandb td:nth-child(1) { padding: 0 10px; text-align: left ; width: auto;} td:nth-child(2) {text-align: left ; width: 100%}\n",
              "    .wandb-row { display: flex; flex-direction: row; flex-wrap: wrap; justify-content: flex-start; width: 100% }\n",
              "    .wandb-col { display: flex; flex-direction: column; flex-basis: 100%; flex: 1; padding: 10px; }\n",
              "    </style>\n",
              "<div class=\"wandb-row\"><div class=\"wandb-col\"><h3>Run summary:</h3><br/><table class=\"wandb\"><tr><td>Accuracy</td><td>0.80287</td></tr><tr><td>F1</td><td>0.59946</td></tr><tr><td>Precision</td><td>0.58707</td></tr><tr><td>Recall</td><td>0.61239</td></tr></table><br/></div></div>"
            ]
          },
          "metadata": {}
        },
        {
          "output_type": "display_data",
          "data": {
            "text/plain": [
              "<IPython.core.display.HTML object>"
            ],
            "text/html": [
              " View run <strong style=\"color:#cdcd00\">warm-sweep-2</strong> at: <a href='https://wandb.ai/team-thiago/decision_tree/runs/6kqmrij4' target=\"_blank\">https://wandb.ai/team-thiago/decision_tree/runs/6kqmrij4</a><br/> View project at: <a href='https://wandb.ai/team-thiago/decision_tree' target=\"_blank\">https://wandb.ai/team-thiago/decision_tree</a><br/>Synced 4 W&B file(s), 0 media file(s), 0 artifact file(s) and 0 other file(s)"
            ]
          },
          "metadata": {}
        },
        {
          "output_type": "display_data",
          "data": {
            "text/plain": [
              "<IPython.core.display.HTML object>"
            ],
            "text/html": [
              "Find logs at: <code>./wandb/run-20240417_175348-6kqmrij4/logs</code>"
            ]
          },
          "metadata": {}
        },
        {
          "output_type": "stream",
          "name": "stderr",
          "text": [
            "\u001b[34m\u001b[1mwandb\u001b[0m: Agent Starting Run: vvkmjux8 with config:\n",
            "\u001b[34m\u001b[1mwandb\u001b[0m: \tcriterion: entropy\n",
            "\u001b[34m\u001b[1mwandb\u001b[0m: \tmodel: 2\n",
            "\u001b[34m\u001b[1mwandb\u001b[0m: \trandom_state: 41\n",
            "\u001b[34m\u001b[1mwandb\u001b[0m: \tsplitter: random\n"
          ]
        },
        {
          "output_type": "display_data",
          "data": {
            "text/plain": [
              "<IPython.core.display.HTML object>"
            ],
            "text/html": [
              "Tracking run with wandb version 0.16.6"
            ]
          },
          "metadata": {}
        },
        {
          "output_type": "display_data",
          "data": {
            "text/plain": [
              "<IPython.core.display.HTML object>"
            ],
            "text/html": [
              "Run data is saved locally in <code>/content/wandb/run-20240417_175358-vvkmjux8</code>"
            ]
          },
          "metadata": {}
        },
        {
          "output_type": "display_data",
          "data": {
            "text/plain": [
              "<IPython.core.display.HTML object>"
            ],
            "text/html": [
              "Syncing run <strong><a href='https://wandb.ai/team-thiago/decision_tree/runs/vvkmjux8' target=\"_blank\">breezy-sweep-3</a></strong> to <a href='https://wandb.ai/team-thiago/decision_tree' target=\"_blank\">Weights & Biases</a> (<a href='https://wandb.me/run' target=\"_blank\">docs</a>)<br/>Sweep page: <a href='https://wandb.ai/team-thiago/decision_tree/sweeps/tez6b8jy' target=\"_blank\">https://wandb.ai/team-thiago/decision_tree/sweeps/tez6b8jy</a>"
            ]
          },
          "metadata": {}
        },
        {
          "output_type": "display_data",
          "data": {
            "text/plain": [
              "<IPython.core.display.HTML object>"
            ],
            "text/html": [
              " View project at <a href='https://wandb.ai/team-thiago/decision_tree' target=\"_blank\">https://wandb.ai/team-thiago/decision_tree</a>"
            ]
          },
          "metadata": {}
        },
        {
          "output_type": "display_data",
          "data": {
            "text/plain": [
              "<IPython.core.display.HTML object>"
            ],
            "text/html": [
              " View sweep at <a href='https://wandb.ai/team-thiago/decision_tree/sweeps/tez6b8jy' target=\"_blank\">https://wandb.ai/team-thiago/decision_tree/sweeps/tez6b8jy</a>"
            ]
          },
          "metadata": {}
        },
        {
          "output_type": "display_data",
          "data": {
            "text/plain": [
              "<IPython.core.display.HTML object>"
            ],
            "text/html": [
              " View run at <a href='https://wandb.ai/team-thiago/decision_tree/runs/vvkmjux8' target=\"_blank\">https://wandb.ai/team-thiago/decision_tree/runs/vvkmjux8</a>"
            ]
          },
          "metadata": {}
        },
        {
          "output_type": "display_data",
          "data": {
            "text/plain": [
              "VBox(children=(Label(value='0.010 MB of 0.010 MB uploaded\\r'), FloatProgress(value=1.0, max=1.0)))"
            ],
            "application/vnd.jupyter.widget-view+json": {
              "version_major": 2,
              "version_minor": 0,
              "model_id": "cfe55310608e44c98823a96d3270d141"
            }
          },
          "metadata": {}
        },
        {
          "output_type": "display_data",
          "data": {
            "text/plain": [
              "<IPython.core.display.HTML object>"
            ],
            "text/html": [
              "<style>\n",
              "    table.wandb td:nth-child(1) { padding: 0 10px; text-align: left ; width: auto;} td:nth-child(2) {text-align: left ; width: 100%}\n",
              "    .wandb-row { display: flex; flex-direction: row; flex-wrap: wrap; justify-content: flex-start; width: 100% }\n",
              "    .wandb-col { display: flex; flex-direction: column; flex-basis: 100%; flex: 1; padding: 10px; }\n",
              "    </style>\n",
              "<div class=\"wandb-row\"><div class=\"wandb-col\"><h3>Run summary:</h3><br/><table class=\"wandb\"><tr><td>Accuracy</td><td>0.80009</td></tr><tr><td>F1</td><td>0.59004</td></tr><tr><td>Precision</td><td>0.58304</td></tr><tr><td>Recall</td><td>0.59721</td></tr></table><br/></div></div>"
            ]
          },
          "metadata": {}
        },
        {
          "output_type": "display_data",
          "data": {
            "text/plain": [
              "<IPython.core.display.HTML object>"
            ],
            "text/html": [
              " View run <strong style=\"color:#cdcd00\">breezy-sweep-3</strong> at: <a href='https://wandb.ai/team-thiago/decision_tree/runs/vvkmjux8' target=\"_blank\">https://wandb.ai/team-thiago/decision_tree/runs/vvkmjux8</a><br/> View project at: <a href='https://wandb.ai/team-thiago/decision_tree' target=\"_blank\">https://wandb.ai/team-thiago/decision_tree</a><br/>Synced 4 W&B file(s), 0 media file(s), 0 artifact file(s) and 0 other file(s)"
            ]
          },
          "metadata": {}
        },
        {
          "output_type": "display_data",
          "data": {
            "text/plain": [
              "<IPython.core.display.HTML object>"
            ],
            "text/html": [
              "Find logs at: <code>./wandb/run-20240417_175358-vvkmjux8/logs</code>"
            ]
          },
          "metadata": {}
        },
        {
          "output_type": "stream",
          "name": "stderr",
          "text": [
            "\u001b[34m\u001b[1mwandb\u001b[0m: Sweep Agent: Waiting for job.\n",
            "\u001b[34m\u001b[1mwandb\u001b[0m: Job received.\n",
            "\u001b[34m\u001b[1mwandb\u001b[0m: Agent Starting Run: v3on8vcy with config:\n",
            "\u001b[34m\u001b[1mwandb\u001b[0m: \tcriterion: gini\n",
            "\u001b[34m\u001b[1mwandb\u001b[0m: \tmodel: 1\n",
            "\u001b[34m\u001b[1mwandb\u001b[0m: \trandom_state: 41\n",
            "\u001b[34m\u001b[1mwandb\u001b[0m: \tsplitter: best\n"
          ]
        },
        {
          "output_type": "display_data",
          "data": {
            "text/plain": [
              "<IPython.core.display.HTML object>"
            ],
            "text/html": [
              "Tracking run with wandb version 0.16.6"
            ]
          },
          "metadata": {}
        },
        {
          "output_type": "display_data",
          "data": {
            "text/plain": [
              "<IPython.core.display.HTML object>"
            ],
            "text/html": [
              "Run data is saved locally in <code>/content/wandb/run-20240417_175418-v3on8vcy</code>"
            ]
          },
          "metadata": {}
        },
        {
          "output_type": "display_data",
          "data": {
            "text/plain": [
              "<IPython.core.display.HTML object>"
            ],
            "text/html": [
              "Syncing run <strong><a href='https://wandb.ai/team-thiago/decision_tree/runs/v3on8vcy' target=\"_blank\">hearty-sweep-4</a></strong> to <a href='https://wandb.ai/team-thiago/decision_tree' target=\"_blank\">Weights & Biases</a> (<a href='https://wandb.me/run' target=\"_blank\">docs</a>)<br/>Sweep page: <a href='https://wandb.ai/team-thiago/decision_tree/sweeps/tez6b8jy' target=\"_blank\">https://wandb.ai/team-thiago/decision_tree/sweeps/tez6b8jy</a>"
            ]
          },
          "metadata": {}
        },
        {
          "output_type": "display_data",
          "data": {
            "text/plain": [
              "<IPython.core.display.HTML object>"
            ],
            "text/html": [
              " View project at <a href='https://wandb.ai/team-thiago/decision_tree' target=\"_blank\">https://wandb.ai/team-thiago/decision_tree</a>"
            ]
          },
          "metadata": {}
        },
        {
          "output_type": "display_data",
          "data": {
            "text/plain": [
              "<IPython.core.display.HTML object>"
            ],
            "text/html": [
              " View sweep at <a href='https://wandb.ai/team-thiago/decision_tree/sweeps/tez6b8jy' target=\"_blank\">https://wandb.ai/team-thiago/decision_tree/sweeps/tez6b8jy</a>"
            ]
          },
          "metadata": {}
        },
        {
          "output_type": "display_data",
          "data": {
            "text/plain": [
              "<IPython.core.display.HTML object>"
            ],
            "text/html": [
              " View run at <a href='https://wandb.ai/team-thiago/decision_tree/runs/v3on8vcy' target=\"_blank\">https://wandb.ai/team-thiago/decision_tree/runs/v3on8vcy</a>"
            ]
          },
          "metadata": {}
        },
        {
          "output_type": "display_data",
          "data": {
            "text/plain": [
              "VBox(children=(Label(value='0.010 MB of 0.010 MB uploaded\\r'), FloatProgress(value=1.0, max=1.0)))"
            ],
            "application/vnd.jupyter.widget-view+json": {
              "version_major": 2,
              "version_minor": 0,
              "model_id": "7d05559f998d4b08a68e4e8a5a857689"
            }
          },
          "metadata": {}
        },
        {
          "output_type": "display_data",
          "data": {
            "text/plain": [
              "<IPython.core.display.HTML object>"
            ],
            "text/html": [
              "<style>\n",
              "    table.wandb td:nth-child(1) { padding: 0 10px; text-align: left ; width: auto;} td:nth-child(2) {text-align: left ; width: 100%}\n",
              "    .wandb-row { display: flex; flex-direction: row; flex-wrap: wrap; justify-content: flex-start; width: 100% }\n",
              "    .wandb-col { display: flex; flex-direction: column; flex-basis: 100%; flex: 1; padding: 10px; }\n",
              "    </style>\n",
              "<div class=\"wandb-row\"><div class=\"wandb-col\"><h3>Run summary:</h3><br/><table class=\"wandb\"><tr><td>Accuracy</td><td>0.80287</td></tr><tr><td>F1</td><td>0.59946</td></tr><tr><td>Precision</td><td>0.58707</td></tr><tr><td>Recall</td><td>0.61239</td></tr></table><br/></div></div>"
            ]
          },
          "metadata": {}
        },
        {
          "output_type": "display_data",
          "data": {
            "text/plain": [
              "<IPython.core.display.HTML object>"
            ],
            "text/html": [
              " View run <strong style=\"color:#cdcd00\">hearty-sweep-4</strong> at: <a href='https://wandb.ai/team-thiago/decision_tree/runs/v3on8vcy' target=\"_blank\">https://wandb.ai/team-thiago/decision_tree/runs/v3on8vcy</a><br/> View project at: <a href='https://wandb.ai/team-thiago/decision_tree' target=\"_blank\">https://wandb.ai/team-thiago/decision_tree</a><br/>Synced 4 W&B file(s), 0 media file(s), 0 artifact file(s) and 0 other file(s)"
            ]
          },
          "metadata": {}
        },
        {
          "output_type": "display_data",
          "data": {
            "text/plain": [
              "<IPython.core.display.HTML object>"
            ],
            "text/html": [
              "Find logs at: <code>./wandb/run-20240417_175418-v3on8vcy/logs</code>"
            ]
          },
          "metadata": {}
        },
        {
          "output_type": "stream",
          "name": "stderr",
          "text": [
            "\u001b[34m\u001b[1mwandb\u001b[0m: Agent Starting Run: 4xd4out9 with config:\n",
            "\u001b[34m\u001b[1mwandb\u001b[0m: \tcriterion: entropy\n",
            "\u001b[34m\u001b[1mwandb\u001b[0m: \tmodel: 0\n",
            "\u001b[34m\u001b[1mwandb\u001b[0m: \trandom_state: 41\n",
            "\u001b[34m\u001b[1mwandb\u001b[0m: \tsplitter: best\n"
          ]
        },
        {
          "output_type": "display_data",
          "data": {
            "text/plain": [
              "<IPython.core.display.HTML object>"
            ],
            "text/html": [
              "Tracking run with wandb version 0.16.6"
            ]
          },
          "metadata": {}
        },
        {
          "output_type": "display_data",
          "data": {
            "text/plain": [
              "<IPython.core.display.HTML object>"
            ],
            "text/html": [
              "Run data is saved locally in <code>/content/wandb/run-20240417_175429-4xd4out9</code>"
            ]
          },
          "metadata": {}
        },
        {
          "output_type": "display_data",
          "data": {
            "text/plain": [
              "<IPython.core.display.HTML object>"
            ],
            "text/html": [
              "Syncing run <strong><a href='https://wandb.ai/team-thiago/decision_tree/runs/4xd4out9' target=\"_blank\">fine-sweep-5</a></strong> to <a href='https://wandb.ai/team-thiago/decision_tree' target=\"_blank\">Weights & Biases</a> (<a href='https://wandb.me/run' target=\"_blank\">docs</a>)<br/>Sweep page: <a href='https://wandb.ai/team-thiago/decision_tree/sweeps/tez6b8jy' target=\"_blank\">https://wandb.ai/team-thiago/decision_tree/sweeps/tez6b8jy</a>"
            ]
          },
          "metadata": {}
        },
        {
          "output_type": "display_data",
          "data": {
            "text/plain": [
              "<IPython.core.display.HTML object>"
            ],
            "text/html": [
              " View project at <a href='https://wandb.ai/team-thiago/decision_tree' target=\"_blank\">https://wandb.ai/team-thiago/decision_tree</a>"
            ]
          },
          "metadata": {}
        },
        {
          "output_type": "display_data",
          "data": {
            "text/plain": [
              "<IPython.core.display.HTML object>"
            ],
            "text/html": [
              " View sweep at <a href='https://wandb.ai/team-thiago/decision_tree/sweeps/tez6b8jy' target=\"_blank\">https://wandb.ai/team-thiago/decision_tree/sweeps/tez6b8jy</a>"
            ]
          },
          "metadata": {}
        },
        {
          "output_type": "display_data",
          "data": {
            "text/plain": [
              "<IPython.core.display.HTML object>"
            ],
            "text/html": [
              " View run at <a href='https://wandb.ai/team-thiago/decision_tree/runs/4xd4out9' target=\"_blank\">https://wandb.ai/team-thiago/decision_tree/runs/4xd4out9</a>"
            ]
          },
          "metadata": {}
        },
        {
          "output_type": "display_data",
          "data": {
            "text/plain": [
              "VBox(children=(Label(value='0.010 MB of 0.010 MB uploaded\\r'), FloatProgress(value=1.0, max=1.0)))"
            ],
            "application/vnd.jupyter.widget-view+json": {
              "version_major": 2,
              "version_minor": 0,
              "model_id": "324842a7a8f841a7bd94b8e960086b4c"
            }
          },
          "metadata": {}
        },
        {
          "output_type": "display_data",
          "data": {
            "text/plain": [
              "<IPython.core.display.HTML object>"
            ],
            "text/html": [
              "<style>\n",
              "    table.wandb td:nth-child(1) { padding: 0 10px; text-align: left ; width: auto;} td:nth-child(2) {text-align: left ; width: 100%}\n",
              "    .wandb-row { display: flex; flex-direction: row; flex-wrap: wrap; justify-content: flex-start; width: 100% }\n",
              "    .wandb-col { display: flex; flex-direction: column; flex-basis: 100%; flex: 1; padding: 10px; }\n",
              "    </style>\n",
              "<div class=\"wandb-row\"><div class=\"wandb-col\"><h3>Run summary:</h3><br/><table class=\"wandb\"><tr><td>Accuracy</td><td>0.81136</td></tr><tr><td>F1</td><td>0.6088</td></tr><tr><td>Precision</td><td>0.60825</td></tr><tr><td>Recall</td><td>0.60936</td></tr></table><br/></div></div>"
            ]
          },
          "metadata": {}
        },
        {
          "output_type": "display_data",
          "data": {
            "text/plain": [
              "<IPython.core.display.HTML object>"
            ],
            "text/html": [
              " View run <strong style=\"color:#cdcd00\">fine-sweep-5</strong> at: <a href='https://wandb.ai/team-thiago/decision_tree/runs/4xd4out9' target=\"_blank\">https://wandb.ai/team-thiago/decision_tree/runs/4xd4out9</a><br/> View project at: <a href='https://wandb.ai/team-thiago/decision_tree' target=\"_blank\">https://wandb.ai/team-thiago/decision_tree</a><br/>Synced 4 W&B file(s), 0 media file(s), 0 artifact file(s) and 0 other file(s)"
            ]
          },
          "metadata": {}
        },
        {
          "output_type": "display_data",
          "data": {
            "text/plain": [
              "<IPython.core.display.HTML object>"
            ],
            "text/html": [
              "Find logs at: <code>./wandb/run-20240417_175429-4xd4out9/logs</code>"
            ]
          },
          "metadata": {}
        },
        {
          "output_type": "stream",
          "name": "stderr",
          "text": [
            "\u001b[34m\u001b[1mwandb\u001b[0m: Agent Starting Run: 7pwoszub with config:\n",
            "\u001b[34m\u001b[1mwandb\u001b[0m: \tcriterion: entropy\n",
            "\u001b[34m\u001b[1mwandb\u001b[0m: \tmodel: 2\n",
            "\u001b[34m\u001b[1mwandb\u001b[0m: \trandom_state: 41\n",
            "\u001b[34m\u001b[1mwandb\u001b[0m: \tsplitter: random\n"
          ]
        },
        {
          "output_type": "display_data",
          "data": {
            "text/plain": [
              "<IPython.core.display.HTML object>"
            ],
            "text/html": [
              "Tracking run with wandb version 0.16.6"
            ]
          },
          "metadata": {}
        },
        {
          "output_type": "display_data",
          "data": {
            "text/plain": [
              "<IPython.core.display.HTML object>"
            ],
            "text/html": [
              "Run data is saved locally in <code>/content/wandb/run-20240417_175443-7pwoszub</code>"
            ]
          },
          "metadata": {}
        },
        {
          "output_type": "display_data",
          "data": {
            "text/plain": [
              "<IPython.core.display.HTML object>"
            ],
            "text/html": [
              "Syncing run <strong><a href='https://wandb.ai/team-thiago/decision_tree/runs/7pwoszub' target=\"_blank\">dainty-sweep-6</a></strong> to <a href='https://wandb.ai/team-thiago/decision_tree' target=\"_blank\">Weights & Biases</a> (<a href='https://wandb.me/run' target=\"_blank\">docs</a>)<br/>Sweep page: <a href='https://wandb.ai/team-thiago/decision_tree/sweeps/tez6b8jy' target=\"_blank\">https://wandb.ai/team-thiago/decision_tree/sweeps/tez6b8jy</a>"
            ]
          },
          "metadata": {}
        },
        {
          "output_type": "display_data",
          "data": {
            "text/plain": [
              "<IPython.core.display.HTML object>"
            ],
            "text/html": [
              " View project at <a href='https://wandb.ai/team-thiago/decision_tree' target=\"_blank\">https://wandb.ai/team-thiago/decision_tree</a>"
            ]
          },
          "metadata": {}
        },
        {
          "output_type": "display_data",
          "data": {
            "text/plain": [
              "<IPython.core.display.HTML object>"
            ],
            "text/html": [
              " View sweep at <a href='https://wandb.ai/team-thiago/decision_tree/sweeps/tez6b8jy' target=\"_blank\">https://wandb.ai/team-thiago/decision_tree/sweeps/tez6b8jy</a>"
            ]
          },
          "metadata": {}
        },
        {
          "output_type": "display_data",
          "data": {
            "text/plain": [
              "<IPython.core.display.HTML object>"
            ],
            "text/html": [
              " View run at <a href='https://wandb.ai/team-thiago/decision_tree/runs/7pwoszub' target=\"_blank\">https://wandb.ai/team-thiago/decision_tree/runs/7pwoszub</a>"
            ]
          },
          "metadata": {}
        },
        {
          "output_type": "display_data",
          "data": {
            "text/plain": [
              "VBox(children=(Label(value='0.001 MB of 0.002 MB uploaded\\r'), FloatProgress(value=0.5889877641824249, max=1.0…"
            ],
            "application/vnd.jupyter.widget-view+json": {
              "version_major": 2,
              "version_minor": 0,
              "model_id": "c668bf9cb2a846b4ba93582d486d8f4d"
            }
          },
          "metadata": {}
        },
        {
          "output_type": "display_data",
          "data": {
            "text/plain": [
              "<IPython.core.display.HTML object>"
            ],
            "text/html": [
              "<style>\n",
              "    table.wandb td:nth-child(1) { padding: 0 10px; text-align: left ; width: auto;} td:nth-child(2) {text-align: left ; width: 100%}\n",
              "    .wandb-row { display: flex; flex-direction: row; flex-wrap: wrap; justify-content: flex-start; width: 100% }\n",
              "    .wandb-col { display: flex; flex-direction: column; flex-basis: 100%; flex: 1; padding: 10px; }\n",
              "    </style>\n",
              "<div class=\"wandb-row\"><div class=\"wandb-col\"><h3>Run summary:</h3><br/><table class=\"wandb\"><tr><td>Accuracy</td><td>0.80009</td></tr><tr><td>F1</td><td>0.59004</td></tr><tr><td>Precision</td><td>0.58304</td></tr><tr><td>Recall</td><td>0.59721</td></tr></table><br/></div></div>"
            ]
          },
          "metadata": {}
        },
        {
          "output_type": "display_data",
          "data": {
            "text/plain": [
              "<IPython.core.display.HTML object>"
            ],
            "text/html": [
              " View run <strong style=\"color:#cdcd00\">dainty-sweep-6</strong> at: <a href='https://wandb.ai/team-thiago/decision_tree/runs/7pwoszub' target=\"_blank\">https://wandb.ai/team-thiago/decision_tree/runs/7pwoszub</a><br/> View project at: <a href='https://wandb.ai/team-thiago/decision_tree' target=\"_blank\">https://wandb.ai/team-thiago/decision_tree</a><br/>Synced 4 W&B file(s), 0 media file(s), 0 artifact file(s) and 0 other file(s)"
            ]
          },
          "metadata": {}
        },
        {
          "output_type": "display_data",
          "data": {
            "text/plain": [
              "<IPython.core.display.HTML object>"
            ],
            "text/html": [
              "Find logs at: <code>./wandb/run-20240417_175443-7pwoszub/logs</code>"
            ]
          },
          "metadata": {}
        },
        {
          "output_type": "stream",
          "name": "stderr",
          "text": [
            "\u001b[34m\u001b[1mwandb\u001b[0m: Agent Starting Run: 9biaduj0 with config:\n",
            "\u001b[34m\u001b[1mwandb\u001b[0m: \tcriterion: entropy\n",
            "\u001b[34m\u001b[1mwandb\u001b[0m: \tmodel: 2\n",
            "\u001b[34m\u001b[1mwandb\u001b[0m: \trandom_state: 41\n",
            "\u001b[34m\u001b[1mwandb\u001b[0m: \tsplitter: random\n"
          ]
        },
        {
          "output_type": "display_data",
          "data": {
            "text/plain": [
              "<IPython.core.display.HTML object>"
            ],
            "text/html": [
              "Tracking run with wandb version 0.16.6"
            ]
          },
          "metadata": {}
        },
        {
          "output_type": "display_data",
          "data": {
            "text/plain": [
              "<IPython.core.display.HTML object>"
            ],
            "text/html": [
              "Run data is saved locally in <code>/content/wandb/run-20240417_175459-9biaduj0</code>"
            ]
          },
          "metadata": {}
        },
        {
          "output_type": "display_data",
          "data": {
            "text/plain": [
              "<IPython.core.display.HTML object>"
            ],
            "text/html": [
              "Syncing run <strong><a href='https://wandb.ai/team-thiago/decision_tree/runs/9biaduj0' target=\"_blank\">dainty-sweep-7</a></strong> to <a href='https://wandb.ai/team-thiago/decision_tree' target=\"_blank\">Weights & Biases</a> (<a href='https://wandb.me/run' target=\"_blank\">docs</a>)<br/>Sweep page: <a href='https://wandb.ai/team-thiago/decision_tree/sweeps/tez6b8jy' target=\"_blank\">https://wandb.ai/team-thiago/decision_tree/sweeps/tez6b8jy</a>"
            ]
          },
          "metadata": {}
        },
        {
          "output_type": "display_data",
          "data": {
            "text/plain": [
              "<IPython.core.display.HTML object>"
            ],
            "text/html": [
              " View project at <a href='https://wandb.ai/team-thiago/decision_tree' target=\"_blank\">https://wandb.ai/team-thiago/decision_tree</a>"
            ]
          },
          "metadata": {}
        },
        {
          "output_type": "display_data",
          "data": {
            "text/plain": [
              "<IPython.core.display.HTML object>"
            ],
            "text/html": [
              " View sweep at <a href='https://wandb.ai/team-thiago/decision_tree/sweeps/tez6b8jy' target=\"_blank\">https://wandb.ai/team-thiago/decision_tree/sweeps/tez6b8jy</a>"
            ]
          },
          "metadata": {}
        },
        {
          "output_type": "display_data",
          "data": {
            "text/plain": [
              "<IPython.core.display.HTML object>"
            ],
            "text/html": [
              " View run at <a href='https://wandb.ai/team-thiago/decision_tree/runs/9biaduj0' target=\"_blank\">https://wandb.ai/team-thiago/decision_tree/runs/9biaduj0</a>"
            ]
          },
          "metadata": {}
        },
        {
          "output_type": "display_data",
          "data": {
            "text/plain": [
              "VBox(children=(Label(value='0.010 MB of 0.010 MB uploaded\\r'), FloatProgress(value=1.0, max=1.0)))"
            ],
            "application/vnd.jupyter.widget-view+json": {
              "version_major": 2,
              "version_minor": 0,
              "model_id": "569d2f8bed4f44e5a6917b9ddecadd20"
            }
          },
          "metadata": {}
        },
        {
          "output_type": "display_data",
          "data": {
            "text/plain": [
              "<IPython.core.display.HTML object>"
            ],
            "text/html": [
              "<style>\n",
              "    table.wandb td:nth-child(1) { padding: 0 10px; text-align: left ; width: auto;} td:nth-child(2) {text-align: left ; width: 100%}\n",
              "    .wandb-row { display: flex; flex-direction: row; flex-wrap: wrap; justify-content: flex-start; width: 100% }\n",
              "    .wandb-col { display: flex; flex-direction: column; flex-basis: 100%; flex: 1; padding: 10px; }\n",
              "    </style>\n",
              "<div class=\"wandb-row\"><div class=\"wandb-col\"><h3>Run summary:</h3><br/><table class=\"wandb\"><tr><td>Accuracy</td><td>0.80009</td></tr><tr><td>F1</td><td>0.59004</td></tr><tr><td>Precision</td><td>0.58304</td></tr><tr><td>Recall</td><td>0.59721</td></tr></table><br/></div></div>"
            ]
          },
          "metadata": {}
        },
        {
          "output_type": "display_data",
          "data": {
            "text/plain": [
              "<IPython.core.display.HTML object>"
            ],
            "text/html": [
              " View run <strong style=\"color:#cdcd00\">dainty-sweep-7</strong> at: <a href='https://wandb.ai/team-thiago/decision_tree/runs/9biaduj0' target=\"_blank\">https://wandb.ai/team-thiago/decision_tree/runs/9biaduj0</a><br/> View project at: <a href='https://wandb.ai/team-thiago/decision_tree' target=\"_blank\">https://wandb.ai/team-thiago/decision_tree</a><br/>Synced 4 W&B file(s), 0 media file(s), 0 artifact file(s) and 0 other file(s)"
            ]
          },
          "metadata": {}
        },
        {
          "output_type": "display_data",
          "data": {
            "text/plain": [
              "<IPython.core.display.HTML object>"
            ],
            "text/html": [
              "Find logs at: <code>./wandb/run-20240417_175459-9biaduj0/logs</code>"
            ]
          },
          "metadata": {}
        },
        {
          "output_type": "stream",
          "name": "stderr",
          "text": [
            "\u001b[34m\u001b[1mwandb\u001b[0m: Agent Starting Run: 83m84bnd with config:\n",
            "\u001b[34m\u001b[1mwandb\u001b[0m: \tcriterion: gini\n",
            "\u001b[34m\u001b[1mwandb\u001b[0m: \tmodel: 1\n",
            "\u001b[34m\u001b[1mwandb\u001b[0m: \trandom_state: 41\n",
            "\u001b[34m\u001b[1mwandb\u001b[0m: \tsplitter: best\n"
          ]
        },
        {
          "output_type": "display_data",
          "data": {
            "text/plain": [
              "<IPython.core.display.HTML object>"
            ],
            "text/html": [
              "Tracking run with wandb version 0.16.6"
            ]
          },
          "metadata": {}
        },
        {
          "output_type": "display_data",
          "data": {
            "text/plain": [
              "<IPython.core.display.HTML object>"
            ],
            "text/html": [
              "Run data is saved locally in <code>/content/wandb/run-20240417_175516-83m84bnd</code>"
            ]
          },
          "metadata": {}
        },
        {
          "output_type": "display_data",
          "data": {
            "text/plain": [
              "<IPython.core.display.HTML object>"
            ],
            "text/html": [
              "Syncing run <strong><a href='https://wandb.ai/team-thiago/decision_tree/runs/83m84bnd' target=\"_blank\">giddy-sweep-8</a></strong> to <a href='https://wandb.ai/team-thiago/decision_tree' target=\"_blank\">Weights & Biases</a> (<a href='https://wandb.me/run' target=\"_blank\">docs</a>)<br/>Sweep page: <a href='https://wandb.ai/team-thiago/decision_tree/sweeps/tez6b8jy' target=\"_blank\">https://wandb.ai/team-thiago/decision_tree/sweeps/tez6b8jy</a>"
            ]
          },
          "metadata": {}
        },
        {
          "output_type": "display_data",
          "data": {
            "text/plain": [
              "<IPython.core.display.HTML object>"
            ],
            "text/html": [
              " View project at <a href='https://wandb.ai/team-thiago/decision_tree' target=\"_blank\">https://wandb.ai/team-thiago/decision_tree</a>"
            ]
          },
          "metadata": {}
        },
        {
          "output_type": "display_data",
          "data": {
            "text/plain": [
              "<IPython.core.display.HTML object>"
            ],
            "text/html": [
              " View sweep at <a href='https://wandb.ai/team-thiago/decision_tree/sweeps/tez6b8jy' target=\"_blank\">https://wandb.ai/team-thiago/decision_tree/sweeps/tez6b8jy</a>"
            ]
          },
          "metadata": {}
        },
        {
          "output_type": "display_data",
          "data": {
            "text/plain": [
              "<IPython.core.display.HTML object>"
            ],
            "text/html": [
              " View run at <a href='https://wandb.ai/team-thiago/decision_tree/runs/83m84bnd' target=\"_blank\">https://wandb.ai/team-thiago/decision_tree/runs/83m84bnd</a>"
            ]
          },
          "metadata": {}
        },
        {
          "output_type": "display_data",
          "data": {
            "text/plain": [
              "VBox(children=(Label(value='0.010 MB of 0.010 MB uploaded\\r'), FloatProgress(value=1.0, max=1.0)))"
            ],
            "application/vnd.jupyter.widget-view+json": {
              "version_major": 2,
              "version_minor": 0,
              "model_id": "1a788790f60d4fb9bbc8b1a8997dc031"
            }
          },
          "metadata": {}
        },
        {
          "output_type": "display_data",
          "data": {
            "text/plain": [
              "<IPython.core.display.HTML object>"
            ],
            "text/html": [
              "<style>\n",
              "    table.wandb td:nth-child(1) { padding: 0 10px; text-align: left ; width: auto;} td:nth-child(2) {text-align: left ; width: 100%}\n",
              "    .wandb-row { display: flex; flex-direction: row; flex-wrap: wrap; justify-content: flex-start; width: 100% }\n",
              "    .wandb-col { display: flex; flex-direction: column; flex-basis: 100%; flex: 1; padding: 10px; }\n",
              "    </style>\n",
              "<div class=\"wandb-row\"><div class=\"wandb-col\"><h3>Run summary:</h3><br/><table class=\"wandb\"><tr><td>Accuracy</td><td>0.80287</td></tr><tr><td>F1</td><td>0.59946</td></tr><tr><td>Precision</td><td>0.58707</td></tr><tr><td>Recall</td><td>0.61239</td></tr></table><br/></div></div>"
            ]
          },
          "metadata": {}
        },
        {
          "output_type": "display_data",
          "data": {
            "text/plain": [
              "<IPython.core.display.HTML object>"
            ],
            "text/html": [
              " View run <strong style=\"color:#cdcd00\">giddy-sweep-8</strong> at: <a href='https://wandb.ai/team-thiago/decision_tree/runs/83m84bnd' target=\"_blank\">https://wandb.ai/team-thiago/decision_tree/runs/83m84bnd</a><br/> View project at: <a href='https://wandb.ai/team-thiago/decision_tree' target=\"_blank\">https://wandb.ai/team-thiago/decision_tree</a><br/>Synced 4 W&B file(s), 0 media file(s), 0 artifact file(s) and 0 other file(s)"
            ]
          },
          "metadata": {}
        },
        {
          "output_type": "display_data",
          "data": {
            "text/plain": [
              "<IPython.core.display.HTML object>"
            ],
            "text/html": [
              "Find logs at: <code>./wandb/run-20240417_175516-83m84bnd/logs</code>"
            ]
          },
          "metadata": {}
        }
      ]
    },
    {
      "cell_type": "markdown",
      "source": [
        "## 1.7 Configure and train the best model"
      ],
      "metadata": {
        "id": "HKRubLTMopvR"
      }
    },
    {
      "cell_type": "code",
      "source": [
        "# Note that a new run is yet synced to last sweep run\n",
        "# Just to check\n",
        "# run = wandb.init()"
      ],
      "metadata": {
        "id": "IGYp599tSSfO"
      },
      "execution_count": null,
      "outputs": []
    },
    {
      "cell_type": "markdown",
      "source": [
        "<font color=\"red\">Important</font> to restart the colab to unlink a new experiment (run) with the last ```sweep``` experiment.\n",
        "\n",
        "```\n",
        "Runtime >> Factory reset runtime\n",
        "```\n",
        "> Re-run all cells except for: ```1.4.3```, ```1.4.4```, ```1.5``` and ```1.6```."
      ],
      "metadata": {
        "id": "WlDpHMw8SBJ5"
      }
    },
    {
      "cell_type": "code",
      "source": [
        "# initiate the wandb project\n",
        "# run = wandb.init(project=\"decision_tree\",job_type=\"train\")"
      ],
      "metadata": {
        "id": "UV3uATIHHxsR"
      },
      "execution_count": null,
      "outputs": []
    },
    {
      "cell_type": "code",
      "source": [
        "# The full pipeline\n",
        "pipe = Pipeline(steps = [('full_pipeline', full_pipeline_preprocessing),\n",
        "                         (\"classifier\",DecisionTreeClassifier())\n",
        "                         ]\n",
        "                )\n",
        "\n",
        "# update the parameters of the pipeline that we would like to tuning\n",
        "pipe.set_params(**{\"full_pipeline__num_pipeline__num_transformer__model\": 0})\n",
        "pipe.set_params(**{\"classifier__criterion\": 'entropy'})\n",
        "pipe.set_params(**{\"classifier__splitter\": 'best'})\n",
        "pipe.set_params(**{\"classifier__random_state\": 41})\n",
        "\n",
        "\n",
        "\n",
        "# training\n",
        "logger.info(\"Training\")\n",
        "pipe.fit(x_train, y_train)\n",
        "\n",
        "# predict\n",
        "logger.info(\"Infering\")\n",
        "predict = pipe.predict(x_val)\n",
        "\n",
        "# Evaluation Metrics\n",
        "logger.info(\"Evaluation metrics\")\n",
        "fbeta = fbeta_score(y_val, predict, beta=1, zero_division=1)\n",
        "precision = precision_score(y_val, predict, zero_division=1)\n",
        "recall = recall_score(y_val, predict, zero_division=1)\n",
        "acc = accuracy_score(y_val, predict)\n",
        "\n",
        "print(\"Accuracy: {}\".format(acc))\n",
        "print(\"Precision: {}\".format(precision))\n",
        "print(\"Recall: {}\".format(recall))\n",
        "print(\"F1: {}\".format(fbeta))\n",
        "\n",
        "run.summary[\"Acc\"] = acc\n",
        "run.summary[\"Precision\"] = precision\n",
        "run.summary[\"Recall\"] = recall\n",
        "run.summary[\"F1\"] = fbeta"
      ],
      "metadata": {
        "id": "suQFb9M5HM1t",
        "colab": {
          "base_uri": "https://localhost:8080/"
        },
        "outputId": "7ab0cb8f-69d3-4c3a-af70-2eeeb34aa9c9"
      },
      "execution_count": 28,
      "outputs": [
        {
          "output_type": "stream",
          "name": "stderr",
          "text": [
            "/usr/local/lib/python3.10/dist-packages/sklearn/preprocessing/_encoders.py:868: FutureWarning: `sparse` was renamed to `sparse_output` in version 1.2 and will be removed in 1.4. `sparse_output` is ignored unless you leave `sparse` to its default value.\n",
            "  warnings.warn(\n"
          ]
        },
        {
          "output_type": "stream",
          "name": "stdout",
          "text": [
            "Accuracy: 0.8113566515439777\n",
            "Precision: 0.6082474226804123\n",
            "Recall: 0.6093560145808019\n",
            "F1: 0.6088012139605462\n"
          ]
        }
      ]
    },
    {
      "cell_type": "code",
      "source": [
        "# Get categorical column names\n",
        "cat_names = pipe.named_steps['full_pipeline'].get_params()[\"cat_pipeline\"][3].get_feature_names_out().tolist()\n",
        "cat_names"
      ],
      "metadata": {
        "id": "CD_vARrbIXv9",
        "colab": {
          "base_uri": "https://localhost:8080/"
        },
        "outputId": "663e680d-298c-49c4-b90a-19e91f05eead"
      },
      "execution_count": 29,
      "outputs": [
        {
          "output_type": "execute_result",
          "data": {
            "text/plain": [
              "['workclass_Never-worked',\n",
              " 'workclass_Private',\n",
              " 'workclass_Self_employed',\n",
              " 'workclass_Without-pay',\n",
              " 'workclass_unknown',\n",
              " 'education_Assoc-voc',\n",
              " 'education_Bachelors',\n",
              " 'education_Doctorate',\n",
              " 'education_HS-grad',\n",
              " 'education_Masters',\n",
              " 'education_Preschool',\n",
              " 'education_Prof-school',\n",
              " 'education_Some-college',\n",
              " 'education_elementary_school',\n",
              " 'marital_status_Never-married',\n",
              " 'marital_status_Separated',\n",
              " 'marital_status_Widowed',\n",
              " 'occupation_Armed-Forces',\n",
              " 'occupation_Craft-repair',\n",
              " 'occupation_Exec-managerial',\n",
              " 'occupation_Farming-fishing',\n",
              " 'occupation_Handlers-cleaners',\n",
              " 'occupation_Machine-op-inspct',\n",
              " 'occupation_Other-service',\n",
              " 'occupation_Priv-house-serv',\n",
              " 'occupation_Prof-specialty',\n",
              " 'occupation_Protective-serv',\n",
              " 'occupation_Sales',\n",
              " 'occupation_Tech-support',\n",
              " 'occupation_Transport-moving',\n",
              " 'occupation_unknown',\n",
              " 'relationship_Not-in-family',\n",
              " 'relationship_Other-relative',\n",
              " 'relationship_Own-child',\n",
              " 'relationship_Unmarried',\n",
              " 'relationship_Wife',\n",
              " 'race_Asian-Pac-Islander',\n",
              " 'race_Black',\n",
              " 'race_Other',\n",
              " 'race_White',\n",
              " 'sex_Male',\n",
              " 'native_country_non_usa']"
            ]
          },
          "metadata": {},
          "execution_count": 29
        }
      ]
    },
    {
      "cell_type": "code",
      "source": [
        "# Get numerical column names\n",
        "num_names = pipe.named_steps['full_pipeline'].get_params()[\"num_pipeline\"][2].get_feature_names_out()\n",
        "num_names"
      ],
      "metadata": {
        "id": "g1SkdIXBIXv-",
        "colab": {
          "base_uri": "https://localhost:8080/"
        },
        "outputId": "03d4173c-7bd3-45fe-e608-aae0766bc7aa"
      },
      "execution_count": 30,
      "outputs": [
        {
          "output_type": "execute_result",
          "data": {
            "text/plain": [
              "['age',\n",
              " 'fnlwgt',\n",
              " 'education_num',\n",
              " 'capital_gain',\n",
              " 'capital_loss',\n",
              " 'hours_per_week']"
            ]
          },
          "metadata": {},
          "execution_count": 30
        }
      ]
    },
    {
      "cell_type": "code",
      "source": [
        "# merge all column names together\n",
        "all_names = cat_names + num_names\n",
        "all_names"
      ],
      "metadata": {
        "id": "PYhk1nW4IXv-",
        "colab": {
          "base_uri": "https://localhost:8080/"
        },
        "outputId": "fb3681f0-42c3-461a-a7f0-ec0e30b7529f"
      },
      "execution_count": 31,
      "outputs": [
        {
          "output_type": "execute_result",
          "data": {
            "text/plain": [
              "['workclass_Never-worked',\n",
              " 'workclass_Private',\n",
              " 'workclass_Self_employed',\n",
              " 'workclass_Without-pay',\n",
              " 'workclass_unknown',\n",
              " 'education_Assoc-voc',\n",
              " 'education_Bachelors',\n",
              " 'education_Doctorate',\n",
              " 'education_HS-grad',\n",
              " 'education_Masters',\n",
              " 'education_Preschool',\n",
              " 'education_Prof-school',\n",
              " 'education_Some-college',\n",
              " 'education_elementary_school',\n",
              " 'marital_status_Never-married',\n",
              " 'marital_status_Separated',\n",
              " 'marital_status_Widowed',\n",
              " 'occupation_Armed-Forces',\n",
              " 'occupation_Craft-repair',\n",
              " 'occupation_Exec-managerial',\n",
              " 'occupation_Farming-fishing',\n",
              " 'occupation_Handlers-cleaners',\n",
              " 'occupation_Machine-op-inspct',\n",
              " 'occupation_Other-service',\n",
              " 'occupation_Priv-house-serv',\n",
              " 'occupation_Prof-specialty',\n",
              " 'occupation_Protective-serv',\n",
              " 'occupation_Sales',\n",
              " 'occupation_Tech-support',\n",
              " 'occupation_Transport-moving',\n",
              " 'occupation_unknown',\n",
              " 'relationship_Not-in-family',\n",
              " 'relationship_Other-relative',\n",
              " 'relationship_Own-child',\n",
              " 'relationship_Unmarried',\n",
              " 'relationship_Wife',\n",
              " 'race_Asian-Pac-Islander',\n",
              " 'race_Black',\n",
              " 'race_Other',\n",
              " 'race_White',\n",
              " 'sex_Male',\n",
              " 'native_country_non_usa',\n",
              " 'age',\n",
              " 'fnlwgt',\n",
              " 'education_num',\n",
              " 'capital_gain',\n",
              " 'capital_loss',\n",
              " 'hours_per_week']"
            ]
          },
          "metadata": {},
          "execution_count": 31
        }
      ]
    },
    {
      "cell_type": "code",
      "source": [
        "# Visualize all classifier plots\n",
        "# For a complete documentation please see: https://docs.wandb.ai/guides/integrations/scikit\n",
        "wandb.sklearn.plot_classifier(pipe.get_params()[\"classifier\"],\n",
        "                              full_pipeline_preprocessing.transform(x_train),\n",
        "                              full_pipeline_preprocessing.transform(x_val),\n",
        "                              y_train,\n",
        "                              y_val,\n",
        "                              predict,\n",
        "                              pipe.predict_proba(x_val),\n",
        "                              [0,1],\n",
        "                              model_name='BestModel', feature_names=all_names)"
      ],
      "metadata": {
        "id": "nJwRFzuaIXv-",
        "colab": {
          "base_uri": "https://localhost:8080/"
        },
        "outputId": "054b536e-b442-42db-b69e-94de6782c287"
      },
      "execution_count": 32,
      "outputs": [
        {
          "output_type": "stream",
          "name": "stderr",
          "text": [
            "\u001b[34m\u001b[1mwandb\u001b[0m: \n",
            "\u001b[34m\u001b[1mwandb\u001b[0m: Plotting BestModel.\n",
            "\u001b[34m\u001b[1mwandb\u001b[0m: Logged feature importances.\n",
            "\u001b[34m\u001b[1mwandb\u001b[0m: Logged confusion matrix.\n",
            "\u001b[34m\u001b[1mwandb\u001b[0m: Logged summary metrics.\n",
            "\u001b[34m\u001b[1mwandb\u001b[0m: Logged class proportions.\n",
            "\u001b[34m\u001b[1mwandb\u001b[0m: Logged calibration curve.\n",
            "\u001b[34m\u001b[1mwandb\u001b[0m: \u001b[33mWARNING\u001b[0m wandb.plots.* functions are deprecated and will be removed in a future release. Please use wandb.plot.* instead.\n",
            "\u001b[34m\u001b[1mwandb\u001b[0m: Logged roc curve.\n",
            "\u001b[34m\u001b[1mwandb\u001b[0m: Logged precision-recall curve.\n"
          ]
        }
      ]
    },
    {
      "cell_type": "markdown",
      "source": [
        "## 1.8 Export the best model"
      ],
      "metadata": {
        "id": "zdJlBFpQy60F"
      }
    },
    {
      "cell_type": "code",
      "source": [
        "# types and names of the artifacts\n",
        "artifact_type = \"inference_artifact\"\n",
        "artifact_encoder = \"target_encoder\"\n",
        "artifact_model = \"model_export\""
      ],
      "metadata": {
        "id": "-5KDt6Pu0Xo8"
      },
      "execution_count": 33,
      "outputs": []
    },
    {
      "cell_type": "code",
      "source": [
        "logger.info(\"Dumping the artifacts to disk\")\n",
        "# Save the model using joblib\n",
        "joblib.dump(pipe, artifact_model)\n",
        "\n",
        "# Save the target encoder using joblib\n",
        "joblib.dump(le, artifact_encoder)"
      ],
      "metadata": {
        "id": "BEIC9zC55mP5",
        "colab": {
          "base_uri": "https://localhost:8080/"
        },
        "outputId": "23278dbb-bc50-488d-a4b9-60e5066ffb9e"
      },
      "execution_count": 34,
      "outputs": [
        {
          "output_type": "execute_result",
          "data": {
            "text/plain": [
              "['target_encoder']"
            ]
          },
          "metadata": {},
          "execution_count": 34
        }
      ]
    },
    {
      "cell_type": "code",
      "source": [
        "# Model artifact\n",
        "artifact = wandb.Artifact(artifact_model,\n",
        "                          type=artifact_type,\n",
        "                          description=\"A full pipeline composed of a Preprocessing Stage and a Decision Tree model\"\n",
        "                          )\n",
        "\n",
        "logger.info(\"Logging model artifact\")\n",
        "artifact.add_file(artifact_model)\n",
        "run.log_artifact(artifact)"
      ],
      "metadata": {
        "id": "5ncI2WnK5iZ9",
        "colab": {
          "base_uri": "https://localhost:8080/"
        },
        "outputId": "29f5cd2a-f03a-47b6-9dd5-54e402d5beb6"
      },
      "execution_count": 35,
      "outputs": [
        {
          "output_type": "execute_result",
          "data": {
            "text/plain": [
              "<Artifact model_export>"
            ]
          },
          "metadata": {},
          "execution_count": 35
        }
      ]
    },
    {
      "cell_type": "code",
      "source": [
        "# Target encoder artifact\n",
        "artifact = wandb.Artifact(artifact_encoder,\n",
        "                          type=artifact_type,\n",
        "                          description=\"The encoder used to encode the target variable\"\n",
        "                          )\n",
        "\n",
        "logger.info(\"Logging target enconder artifact\")\n",
        "artifact.add_file(artifact_encoder)\n",
        "run.log_artifact(artifact)"
      ],
      "metadata": {
        "id": "ydqNDU3BVm5t",
        "colab": {
          "base_uri": "https://localhost:8080/"
        },
        "outputId": "2a277f85-fe7e-486c-d155-5418b27f6c3b"
      },
      "execution_count": 36,
      "outputs": [
        {
          "output_type": "execute_result",
          "data": {
            "text/plain": [
              "<Artifact target_encoder>"
            ]
          },
          "metadata": {},
          "execution_count": 36
        }
      ]
    },
    {
      "cell_type": "code",
      "source": [
        "run.finish()"
      ],
      "metadata": {
        "id": "6OqCWx5q7fqf",
        "colab": {
          "base_uri": "https://localhost:8080/",
          "height": 266,
          "referenced_widgets": [
            "438fd2a26ede4eb68e0f786d19462ca4",
            "31983afbf568407aa4a47e293763914f",
            "0d24635ab13e4086913e20ee5c2d1adf",
            "59938d69520a4e8e98a949784fbfb1c2",
            "662c40ea390b46659a4c7c4ec7311fbc",
            "d7829c25006f497097c4442a145baeb6",
            "da2f9ef0ab2b4efa8c3c390d0b020027",
            "0e40b7f230ac4be59dcef6353553c0d5"
          ]
        },
        "outputId": "4b19e585-444b-48fe-ad40-f96f71539caa"
      },
      "execution_count": 37,
      "outputs": [
        {
          "output_type": "display_data",
          "data": {
            "text/plain": [
              "VBox(children=(Label(value='0.337 MB of 0.337 MB uploaded\\r'), FloatProgress(value=1.0, max=1.0)))"
            ],
            "application/vnd.jupyter.widget-view+json": {
              "version_major": 2,
              "version_minor": 0,
              "model_id": "438fd2a26ede4eb68e0f786d19462ca4"
            }
          },
          "metadata": {}
        },
        {
          "output_type": "display_data",
          "data": {
            "text/plain": [
              "<IPython.core.display.HTML object>"
            ],
            "text/html": [
              "<style>\n",
              "    table.wandb td:nth-child(1) { padding: 0 10px; text-align: left ; width: auto;} td:nth-child(2) {text-align: left ; width: 100%}\n",
              "    .wandb-row { display: flex; flex-direction: row; flex-wrap: wrap; justify-content: flex-start; width: 100% }\n",
              "    .wandb-col { display: flex; flex-direction: column; flex-basis: 100%; flex: 1; padding: 10px; }\n",
              "    </style>\n",
              "<div class=\"wandb-row\"><div class=\"wandb-col\"><h3>Run summary:</h3><br/><table class=\"wandb\"><tr><td>Acc</td><td>0.81136</td></tr><tr><td>F1</td><td>0.6088</td></tr><tr><td>Precision</td><td>0.60825</td></tr><tr><td>Recall</td><td>0.60936</td></tr></table><br/></div></div>"
            ]
          },
          "metadata": {}
        },
        {
          "output_type": "display_data",
          "data": {
            "text/plain": [
              "<IPython.core.display.HTML object>"
            ],
            "text/html": [
              " View run <strong style=\"color:#cdcd00\">devout-sea-18</strong> at: <a href='https://wandb.ai/team-thiago/decision_tree/runs/6vgmv4ea' target=\"_blank\">https://wandb.ai/team-thiago/decision_tree/runs/6vgmv4ea</a><br/> View project at: <a href='https://wandb.ai/team-thiago/decision_tree' target=\"_blank\">https://wandb.ai/team-thiago/decision_tree</a><br/>Synced 5 W&B file(s), 7 media file(s), 9 artifact file(s) and 0 other file(s)"
            ]
          },
          "metadata": {}
        },
        {
          "output_type": "display_data",
          "data": {
            "text/plain": [
              "<IPython.core.display.HTML object>"
            ],
            "text/html": [
              "Find logs at: <code>./wandb/run-20240417_180926-6vgmv4ea/logs</code>"
            ]
          },
          "metadata": {}
        }
      ]
    },
    {
      "cell_type": "code",
      "source": [],
      "metadata": {
        "id": "auzejq650EvX"
      },
      "execution_count": null,
      "outputs": []
    }
  ]
}